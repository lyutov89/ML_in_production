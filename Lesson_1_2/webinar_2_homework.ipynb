{
 "cells": [
  {
   "cell_type": "markdown",
   "metadata": {
    "id": "Gds4vHzMMIF8"
   },
   "source": [
    "### ДЗ 2. Для начала проделаем все те шаги, которые мы сделали на уроке, а потом уже перейдем к расчету эмбедингов#"
   ]
  },
  {
   "cell_type": "markdown",
   "metadata": {
    "id": "E9I1jZUDMIGh"
   },
   "source": [
    "### Переходим к практике"
   ]
  },
  {
   "cell_type": "code",
   "execution_count": 1,
   "metadata": {
    "colab": {
     "base_uri": "https://localhost:8080/"
    },
    "id": "1yqhFYoKOIIw",
    "outputId": "ddea20ff-5b8b-49a2-9c18-d2d5872600e2"
   },
   "outputs": [],
   "source": [
    "#!pip install razdel"
   ]
  },
  {
   "cell_type": "code",
   "execution_count": 2,
   "metadata": {
    "colab": {
     "base_uri": "https://localhost:8080/"
    },
    "id": "-sNoY9zpOQN7",
    "outputId": "e4a1596c-bb7a-4557-fbd0-6f32d55be4c7"
   },
   "outputs": [],
   "source": [
    "#!pip install pymorphy2"
   ]
  },
  {
   "cell_type": "code",
   "execution_count": 3,
   "metadata": {
    "colab": {
     "base_uri": "https://localhost:8080/"
    },
    "id": "vBnKp059tc57",
    "outputId": "c5bbb5bb-7120-4ba7-9ce8-e5d138834e62"
   },
   "outputs": [],
   "source": [
    "#!pip install pyLDAvis"
   ]
  },
  {
   "cell_type": "markdown",
   "metadata": {
    "id": "-gAbp044Zlj_"
   },
   "source": [
    "Делаем доступ к Googl Drive"
   ]
  },
  {
   "cell_type": "code",
   "execution_count": 4,
   "metadata": {
    "colab": {
     "base_uri": "https://localhost:8080/"
    },
    "id": "wqFGM15WNUia",
    "outputId": "892f48b3-a7dd-49d4-d3bb-32b352294b9e"
   },
   "outputs": [],
   "source": [
    "#from google.colab import drive\n",
    "#drive.mount('/gdrive')"
   ]
  },
  {
   "cell_type": "markdown",
   "metadata": {
    "id": "AmhH7IAvMIGi"
   },
   "source": [
    "Наши новости"
   ]
  },
  {
   "cell_type": "code",
   "execution_count": 5,
   "metadata": {
    "colab": {
     "base_uri": "https://localhost:8080/",
     "height": 38,
     "resources": {
      "http://localhost:8080/nbextensions/google.colab/files.js": {
       "data": "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",
       "headers": [
        [
         "content-type",
         "application/javascript"
        ]
       ],
       "ok": true,
       "status": 200,
       "status_text": ""
      }
     }
    },
    "id": "8dqPuFWwha3S",
    "outputId": "d172cd79-6f79-4e30-d457-8a3fdfec8dbf"
   },
   "outputs": [],
   "source": [
    "#from google.colab import files\n",
    "\n",
    "#uploaded = files.upload()\n",
    "\n"
   ]
  },
  {
   "cell_type": "code",
   "execution_count": 6,
   "metadata": {
    "id": "ctZ-EA4UMIGh"
   },
   "outputs": [
    {
     "name": "stderr",
     "output_type": "stream",
     "text": [
      "c:\\users\\anatoly\\appdata\\local\\programs\\python\\python39\\lib\\site-packages\\numpy\\_distributor_init.py:30: UserWarning: loaded more than 1 DLL from .libs:\n",
      "c:\\users\\anatoly\\appdata\\local\\programs\\python\\python39\\lib\\site-packages\\numpy\\.libs\\libopenblas.GK7GX5KEQ4F6UYO3P26ULGBQYHGQO7J4.gfortran-win_amd64.dll\n",
      "c:\\users\\anatoly\\appdata\\local\\programs\\python\\python39\\lib\\site-packages\\numpy\\.libs\\libopenblas.WCDJNK7YVMPZQ2ME2ZZHJJRJ3JIKNDB7.gfortran-win_amd64.dll\n",
      "  warnings.warn(\"loaded more than 1 DLL from .libs:\"\n"
     ]
    }
   ],
   "source": [
    "import pandas as pd"
   ]
  },
  {
   "cell_type": "code",
   "execution_count": 7,
   "metadata": {
    "colab": {
     "base_uri": "https://localhost:8080/",
     "height": 159
    },
    "id": "gycmprucMIGi",
    "outputId": "3e9eb861-b937-44e9-95bd-75a10fc384b4"
   },
   "outputs": [
    {
     "name": "stdout",
     "output_type": "stream",
     "text": [
      "(27000, 2)\n"
     ]
    },
    {
     "data": {
      "text/html": [
       "<div>\n",
       "<style scoped>\n",
       "    .dataframe tbody tr th:only-of-type {\n",
       "        vertical-align: middle;\n",
       "    }\n",
       "\n",
       "    .dataframe tbody tr th {\n",
       "        vertical-align: top;\n",
       "    }\n",
       "\n",
       "    .dataframe thead th {\n",
       "        text-align: right;\n",
       "    }\n",
       "</style>\n",
       "<table border=\"1\" class=\"dataframe\">\n",
       "  <thead>\n",
       "    <tr style=\"text-align: right;\">\n",
       "      <th></th>\n",
       "      <th>doc_id</th>\n",
       "      <th>title</th>\n",
       "    </tr>\n",
       "  </thead>\n",
       "  <tbody>\n",
       "    <tr>\n",
       "      <th>0</th>\n",
       "      <td>6</td>\n",
       "      <td>Заместитель председателяnправительства РФnСерг...</td>\n",
       "    </tr>\n",
       "    <tr>\n",
       "      <th>1</th>\n",
       "      <td>4896</td>\n",
       "      <td>Матч 1/16 финала Кубка России по футболу был п...</td>\n",
       "    </tr>\n",
       "    <tr>\n",
       "      <th>2</th>\n",
       "      <td>4897</td>\n",
       "      <td>Форвард «Авангарда» Томаш Заборский прокоммент...</td>\n",
       "    </tr>\n",
       "  </tbody>\n",
       "</table>\n",
       "</div>"
      ],
      "text/plain": [
       "   doc_id                                              title\n",
       "0       6  Заместитель председателяnправительства РФnСерг...\n",
       "1    4896  Матч 1/16 финала Кубка России по футболу был п...\n",
       "2    4897  Форвард «Авангарда» Томаш Заборский прокоммент..."
      ]
     },
     "execution_count": 7,
     "metadata": {},
     "output_type": "execute_result"
    }
   ],
   "source": [
    "news = pd.read_csv(\"../lesson_2/articles.csv\")\n",
    "print(news.shape)\n",
    "news.head(3)"
   ]
  },
  {
   "cell_type": "code",
   "execution_count": 8,
   "metadata": {
    "colab": {
     "base_uri": "https://localhost:8080/"
    },
    "id": "xHWIPos0f41m",
    "outputId": "c76265be-8840-4c04-87df-351d2db6aec0"
   },
   "outputs": [
    {
     "data": {
      "text/plain": [
       "(27000, 2)"
      ]
     },
     "execution_count": 8,
     "metadata": {},
     "output_type": "execute_result"
    }
   ],
   "source": [
    "news.shape"
   ]
  },
  {
   "cell_type": "markdown",
   "metadata": {
    "id": "H-eNWlDnMIGl"
   },
   "source": [
    "Загрузим пользователей и списки последних прочитанных новостей"
   ]
  },
  {
   "cell_type": "code",
   "execution_count": 9,
   "metadata": {
    "colab": {
     "base_uri": "https://localhost:8080/",
     "height": 142
    },
    "id": "rIXeUk4iMIGl",
    "outputId": "5fe4ca1f-5c10-443b-ddca-e78556d13123"
   },
   "outputs": [
    {
     "data": {
      "text/html": [
       "<div>\n",
       "<style scoped>\n",
       "    .dataframe tbody tr th:only-of-type {\n",
       "        vertical-align: middle;\n",
       "    }\n",
       "\n",
       "    .dataframe tbody tr th {\n",
       "        vertical-align: top;\n",
       "    }\n",
       "\n",
       "    .dataframe thead th {\n",
       "        text-align: right;\n",
       "    }\n",
       "</style>\n",
       "<table border=\"1\" class=\"dataframe\">\n",
       "  <thead>\n",
       "    <tr style=\"text-align: right;\">\n",
       "      <th></th>\n",
       "      <th>uid</th>\n",
       "      <th>articles</th>\n",
       "    </tr>\n",
       "  </thead>\n",
       "  <tbody>\n",
       "    <tr>\n",
       "      <th>0</th>\n",
       "      <td>u105138</td>\n",
       "      <td>[293672, 293328, 293001, 293622, 293126, 1852]</td>\n",
       "    </tr>\n",
       "    <tr>\n",
       "      <th>1</th>\n",
       "      <td>u108690</td>\n",
       "      <td>[3405, 1739, 2972, 1158, 1599, 322665]</td>\n",
       "    </tr>\n",
       "    <tr>\n",
       "      <th>2</th>\n",
       "      <td>u108339</td>\n",
       "      <td>[1845, 2009, 2356, 1424, 2939, 323389]</td>\n",
       "    </tr>\n",
       "  </tbody>\n",
       "</table>\n",
       "</div>"
      ],
      "text/plain": [
       "       uid                                        articles\n",
       "0  u105138  [293672, 293328, 293001, 293622, 293126, 1852]\n",
       "1  u108690          [3405, 1739, 2972, 1158, 1599, 322665]\n",
       "2  u108339          [1845, 2009, 2356, 1424, 2939, 323389]"
      ]
     },
     "execution_count": 9,
     "metadata": {},
     "output_type": "execute_result"
    }
   ],
   "source": [
    "users = pd.read_csv(\"../lesson_2/users_articles.csv\")\n",
    "users.head(3)"
   ]
  },
  {
   "cell_type": "markdown",
   "metadata": {
    "id": "9kFAT-qMMIGm"
   },
   "source": [
    "Итак, нам нужно получить векторные представления пользователей на основе прочитанным ими новостей и самих новостей"
   ]
  },
  {
   "cell_type": "markdown",
   "metadata": {
    "id": "ra5jYUNoMIGm"
   },
   "source": [
    "### 1. Получаем векторные представления новостей"
   ]
  },
  {
   "cell_type": "code",
   "execution_count": 10,
   "metadata": {},
   "outputs": [],
   "source": [
    "#!pip install gensim"
   ]
  },
  {
   "cell_type": "code",
   "execution_count": 11,
   "metadata": {
    "id": "LBjgEo9DMIGm"
   },
   "outputs": [
    {
     "name": "stderr",
     "output_type": "stream",
     "text": [
      "c:\\users\\anatoly\\appdata\\local\\programs\\python\\python39\\lib\\site-packages\\gensim\\similarities\\__init__.py:15: UserWarning: The gensim.similarities.levenshtein submodule is disabled, because the optional Levenshtein package <https://pypi.org/project/python-Levenshtein/> is unavailable. Install Levenhstein (e.g. `pip install python-Levenshtein`) to suppress this warning.\n",
      "  warnings.warn(msg)\n"
     ]
    }
   ],
   "source": [
    "from gensim.test.utils import common_texts\n",
    "# https://webdevblog.ru/gensim-rukovodstvo-dlya-nachinajushhih/\n",
    "from gensim.corpora.dictionary import Dictionary"
   ]
  },
  {
   "cell_type": "code",
   "execution_count": 12,
   "metadata": {
    "id": "pXp8Q2WNMIGn"
   },
   "outputs": [],
   "source": [
    "#предобработка текстов\n",
    "import re\n",
    "import numpy as np\n",
    "from nltk.corpus import stopwords\n",
    "#from nltk.tokenize import word_tokenize\n",
    "\n",
    "from razdel import tokenize # https://github.com/natasha/razdel\n",
    "#!pip install razdel\n",
    "\n",
    "import pymorphy2  # pip install pymorphy2"
   ]
  },
  {
   "cell_type": "code",
   "execution_count": 13,
   "metadata": {
    "colab": {
     "base_uri": "https://localhost:8080/"
    },
    "id": "ea5xiOOMOgla",
    "outputId": "25d2c6fe-86d4-4a60-b400-762a1bba3fd6"
   },
   "outputs": [
    {
     "name": "stderr",
     "output_type": "stream",
     "text": [
      "[nltk_data] Downloading package stopwords to\n",
      "[nltk_data]     C:\\Users\\Anatoly\\AppData\\Roaming\\nltk_data...\n",
      "[nltk_data]   Package stopwords is already up-to-date!\n"
     ]
    },
    {
     "data": {
      "text/plain": [
       "True"
      ]
     },
     "execution_count": 13,
     "metadata": {},
     "output_type": "execute_result"
    }
   ],
   "source": [
    "import nltk\n",
    "nltk.download('stopwords')"
   ]
  },
  {
   "cell_type": "code",
   "execution_count": 14,
   "metadata": {
    "colab": {
     "base_uri": "https://localhost:8080/"
    },
    "id": "n4UkLRydMIGn",
    "outputId": "e58d5e11-52b1-44b9-f728-2f7789cc762b"
   },
   "outputs": [],
   "source": [
    "stopword_ru = stopwords.words('russian')\n",
    "len(stopword_ru)\n",
    "\n",
    "morph = pymorphy2.MorphAnalyzer(  )"
   ]
  },
  {
   "cell_type": "code",
   "execution_count": 15,
   "metadata": {
    "colab": {
     "base_uri": "https://localhost:8080/"
    },
    "id": "JvD3j5zYEPZS",
    "outputId": "90d818a9-e0bb-4f52-85dd-5989e3bc19e2"
   },
   "outputs": [
    {
     "data": {
      "text/plain": [
       "151"
      ]
     },
     "execution_count": 15,
     "metadata": {},
     "output_type": "execute_result"
    }
   ],
   "source": [
    "len(stopword_ru)"
   ]
  },
  {
   "cell_type": "code",
   "execution_count": 16,
   "metadata": {
    "colab": {
     "base_uri": "https://localhost:8080/"
    },
    "id": "gRCY_H-LMIGo",
    "outputId": "dd356cbf-55ce-4ec2-8e54-8fef58f608cd"
   },
   "outputs": [
    {
     "data": {
      "text/plain": [
       "776"
      ]
     },
     "execution_count": 16,
     "metadata": {},
     "output_type": "execute_result"
    }
   ],
   "source": [
    "with open('../lesson_2/stopwords.txt') as f:\n",
    "    additional_stopwords = [w.strip() for w in f.readlines() if w]\n",
    "stopword_ru += additional_stopwords\n",
    "len(stopword_ru)"
   ]
  },
  {
   "cell_type": "code",
   "execution_count": 17,
   "metadata": {
    "colab": {
     "base_uri": "https://localhost:8080/",
     "height": 35
    },
    "id": "5zG-fPb7Et2-",
    "outputId": "3495e013-1d07-4a34-b306-3bd9d848f89d"
   },
   "outputs": [
    {
     "data": {
      "text/plain": [
       "'и'"
      ]
     },
     "execution_count": 17,
     "metadata": {},
     "output_type": "execute_result"
    }
   ],
   "source": [
    "stopword_ru[0]"
   ]
  },
  {
   "cell_type": "code",
   "execution_count": 18,
   "metadata": {
    "colab": {
     "base_uri": "https://localhost:8080/"
    },
    "id": "DiAt1i81MIGp",
    "outputId": "cca16cee-562d-477b-bc2b-34fe088b4014"
   },
   "outputs": [],
   "source": [
    "def clean_text(text):\n",
    "    '''\n",
    "    очистка текста\n",
    "    \n",
    "    на выходе очищеный текст\n",
    "    \n",
    "    '''\n",
    "    if not isinstance(text, str):\n",
    "        text = str(text)\n",
    "    \n",
    "    text = text.lower()\n",
    "    text = text.strip('\\n').strip('\\r').strip('\\t')\n",
    "    text = re.sub(\"-\\s\\r\\n\\|-\\s\\r\\n|\\r\\n\", '', str(text))\n",
    "\n",
    "    text = re.sub(\"[0-9]|[-—.,:;_%©«»?*!@#№$^•·&()]|[+=]|[[]|[]]|[/]|\", '', text)\n",
    "    text = re.sub(r\"\\r\\n\\t|\\n|\\\\s|\\r\\t|\\\\n\", ' ', text)\n",
    "    text = re.sub(r'[\\xad]|[\\s+]', ' ', text.strip())\n",
    "    text = re.sub(\"n\", ' ', text)\n",
    "\n",
    "    \n",
    "    #tokens = list(tokenize(text))\n",
    "    #words = [_.text for _ in tokens]\n",
    "    #words = [w for w in words if w not in stopword_ru]\n",
    "    \n",
    "    #return \" \".join(words)\n",
    "    return text\n",
    "\n",
    "cache = {}\n",
    "\n",
    "def lemmatization(text):\n",
    "    '''\n",
    "    лемматизация\n",
    "        [0] если зашел тип не `str` делаем его `str`\n",
    "        [1] токенизация предложения через razdel\n",
    "        [2] проверка есть ли в начале слова '-'\n",
    "        [3] проверка токена с одного символа\n",
    "        [4] проверка есть ли данное слово в кэше\n",
    "        [5] лемматизация слова\n",
    "        [6] проверка на стоп-слова\n",
    "\n",
    "    на выходе лист отлемматизированых токенов\n",
    "    '''\n",
    "\n",
    "    # [0]\n",
    "    if not isinstance(text, str):\n",
    "        text = str(text)\n",
    "    \n",
    "    # [1]\n",
    "    tokens = list(tokenize(text))\n",
    "    #print(tokens)\n",
    "    words = [_.text for _ in tokens]\n",
    "\n",
    "    words_lem = []\n",
    "    for w in words:\n",
    "        if w[0] == '-': # [2]\n",
    "            w = w[1:]\n",
    "        if len(w)>1: # [3]\n",
    "            if w in cache: # [4]\n",
    "                words_lem.append(cache[w])\n",
    "                #print(temp_cach)\n",
    "            else: # [5]\n",
    "                temp_cach = cache[w] = morph.parse(w)[0].normal_form\n",
    "                words_lem.append(temp_cach)\n",
    "                #print(w,' : ',temp_cach)\n",
    "    \n",
    "    words_lem_without_stopwords=[i for i in words_lem if not i in stopword_ru] # [6]\n",
    "    #print(words_lem_without_stopwords)\n",
    "    return words_lem_without_stopwords"
   ]
  },
  {
   "cell_type": "code",
   "execution_count": 19,
   "metadata": {
    "colab": {
     "base_uri": "https://localhost:8080/"
    },
    "id": "90aWsoUley3W",
    "outputId": "76be6c55-acd1-4c53-ccdc-e1170056e857"
   },
   "outputs": [
    {
     "data": {
      "text/plain": [
       "[Substring(0, 11, 'Заместитель'),\n",
       " Substring(12, 24, 'председателя'),\n",
       " Substring(24, 25, 'n'),\n",
       " Substring(25, 38, 'правительства'),\n",
       " Substring(39, 41, 'РФ'),\n",
       " Substring(41, 42, 'n'),\n",
       " Substring(42, 48, 'Сергей'),\n",
       " Substring(48, 49, 'n'),\n",
       " Substring(49, 55, 'Иванов'),\n",
       " Substring(55, 56, 'n'),\n",
       " Substring(56, 62, 'избран'),\n",
       " Substring(63, 76, 'председателем'),\n",
       " Substring(77, 83, 'совета'),\n",
       " Substring(83, 84, 'n'),\n",
       " Substring(84, 87, 'ПБК'),\n",
       " Substring(88, 92, 'ЦСКА'),\n",
       " Substring(92, 93, 'n'),\n",
       " Substring(93, 94, '.'),\n",
       " Substring(95, 98, 'Как'),\n",
       " Substring(99, 100, 'с')]"
      ]
     },
     "execution_count": 19,
     "metadata": {},
     "output_type": "execute_result"
    }
   ],
   "source": [
    "list(tokenize(news.iloc[0,1][:100],   ))"
   ]
  },
  {
   "cell_type": "code",
   "execution_count": 20,
   "metadata": {
    "colab": {
     "base_uri": "https://localhost:8080/"
    },
    "id": "nZHNY8lqeA6a",
    "outputId": "6724f0b1-e5c1-4c37-b5d7-015821090aa5"
   },
   "outputs": [
    {
     "name": "stderr",
     "output_type": "stream",
     "text": [
      "<ipython-input-18-8769e094367c>:15: FutureWarning: Possible nested set at position 39\n",
      "  text = re.sub(\"[0-9]|[-—.,:;_%©«»?*!@#№$^•·&()]|[+=]|[[]|[]]|[/]|\", '', text)\n"
     ]
    },
    {
     "data": {
      "text/plain": [
       "0    заместитель председателя правительства рф серг...\n",
       "1    матч  финала кубка россии по футболу был приос...\n",
       "Name: title, dtype: object"
      ]
     },
     "execution_count": 20,
     "metadata": {},
     "output_type": "execute_result"
    }
   ],
   "source": [
    "norm_text = news.iloc[:2,1].apply(lambda x: clean_text(x), 1)\n",
    "norm_text"
   ]
  },
  {
   "cell_type": "code",
   "execution_count": 21,
   "metadata": {
    "colab": {
     "base_uri": "https://localhost:8080/"
    },
    "id": "VqgNGTEPGZnr",
    "outputId": "dfd02b83-1814-42dd-eb5a-78b61e64772f"
   },
   "outputs": [
    {
     "data": {
      "text/plain": [
       "['заместитель',\n",
       " 'председатель',\n",
       " 'правительство',\n",
       " 'рф',\n",
       " 'сергей',\n",
       " 'иванов',\n",
       " 'избрать',\n",
       " 'председатель',\n",
       " 'совет',\n",
       " 'пбк',\n",
       " 'цска',\n",
       " 'сообщать',\n",
       " 'прессслужба',\n",
       " 'армеец',\n",
       " 'решение',\n",
       " 'единогласно',\n",
       " 'принять',\n",
       " 'первый',\n",
       " 'заседание',\n",
       " 'совет',\n",
       " 'клуб',\n",
       " 'основной',\n",
       " 'функция',\n",
       " 'это',\n",
       " 'орган',\n",
       " 'обсуждение',\n",
       " 'текущий',\n",
       " 'состояние',\n",
       " 'планирование',\n",
       " 'утверждение',\n",
       " 'стратегия',\n",
       " 'развитие',\n",
       " 'клуб',\n",
       " 'близкий',\n",
       " 'перспектива',\n",
       " 'состав',\n",
       " 'совет',\n",
       " 'войти',\n",
       " 'георгий',\n",
       " 'полтавченко',\n",
       " 'полномочный',\n",
       " 'представитель',\n",
       " 'президент',\n",
       " 'центральный',\n",
       " 'федеральный',\n",
       " 'округ',\n",
       " 'алексей',\n",
       " 'седов',\n",
       " 'генералполковник',\n",
       " 'начальник',\n",
       " 'служба',\n",
       " 'защита',\n",
       " 'конституционный',\n",
       " 'строй',\n",
       " 'борьба',\n",
       " 'терроризм',\n",
       " 'фсб',\n",
       " 'рф',\n",
       " 'александр',\n",
       " 'новак',\n",
       " 'заместитель',\n",
       " 'министр',\n",
       " 'финансы',\n",
       " 'рф',\n",
       " 'вячеслав',\n",
       " 'полтавец',\n",
       " 'заместитель',\n",
       " 'генеральный',\n",
       " 'директор',\n",
       " 'руководитель',\n",
       " 'блок',\n",
       " 'взаимодействие',\n",
       " 'орган',\n",
       " 'власть',\n",
       " 'социальный',\n",
       " 'корпоративный',\n",
       " 'политика',\n",
       " 'гмк',\n",
       " 'норильский',\n",
       " 'никель',\n",
       " 'леонид',\n",
       " 'исакович',\n",
       " 'генеральный',\n",
       " 'директор',\n",
       " 'ооо',\n",
       " 'ук',\n",
       " 'спортивный',\n",
       " 'проект',\n",
       " 'ольга',\n",
       " 'плешаков',\n",
       " 'генеральный',\n",
       " 'директор',\n",
       " 'трансаэро',\n",
       " 'александр',\n",
       " 'провоторов',\n",
       " 'генеральный',\n",
       " 'директор',\n",
       " 'оао',\n",
       " 'ростелеком',\n",
       " 'андрей',\n",
       " 'лопат',\n",
       " 'эксигрок',\n",
       " 'цска',\n",
       " 'чемпион',\n",
       " 'мир',\n",
       " 'трёхкратный',\n",
       " 'чемпион',\n",
       " 'европа',\n",
       " 'баскетбол',\n",
       " 'председатель',\n",
       " 'правление',\n",
       " 'банк',\n",
       " 'клиентский',\n",
       " 'андрей',\n",
       " 'ватутин',\n",
       " 'президент',\n",
       " 'пбк',\n",
       " 'цска']"
      ]
     },
     "execution_count": 21,
     "metadata": {},
     "output_type": "execute_result"
    }
   ],
   "source": [
    "lemmatization(norm_text[0])"
   ]
  },
  {
   "cell_type": "code",
   "execution_count": 22,
   "metadata": {
    "colab": {
     "base_uri": "https://localhost:8080/"
    },
    "id": "KfixKuSMMIGq",
    "outputId": "d349aee8-1b8f-4363-c7f1-a9db6f19daac"
   },
   "outputs": [
    {
     "name": "stdout",
     "output_type": "stream",
     "text": [
      "Wall time: 56.3 s\n"
     ]
    }
   ],
   "source": [
    "%%time\n",
    "#Запускаем очистку текста. Будет долго...\n",
    "news['title'] = news['title'].apply(lambda x: clean_text(x), 1)"
   ]
  },
  {
   "cell_type": "code",
   "execution_count": 23,
   "metadata": {
    "colab": {
     "base_uri": "https://localhost:8080/"
    },
    "id": "A0m01zNlMIGs",
    "outputId": "18ff1298-e5de-4df4-b3bf-bcc5f2cbb3ba"
   },
   "outputs": [
    {
     "name": "stdout",
     "output_type": "stream",
     "text": [
      "Wall time: 15min 18s\n"
     ]
    }
   ],
   "source": [
    "%%time\n",
    "#Запускаем лемматизацию текста. Будет очень долго...\n",
    "news['title'] = news['title'].apply(lambda x: lemmatization(x), 1)"
   ]
  },
  {
   "cell_type": "markdown",
   "metadata": {
    "id": "OMqHynF9MIGu"
   },
   "source": [
    "А теперь в 3 строчки обучим нашу модель"
   ]
  },
  {
   "cell_type": "code",
   "execution_count": 24,
   "metadata": {
    "id": "Yd6EZ8RbMIGu"
   },
   "outputs": [],
   "source": [
    "#сформируем список наших текстов, разбив еще и на пробелы\n",
    "texts = [t for t in news['title'].values]\n",
    "\n",
    "# Create a corpus from a list of texts\n",
    "common_dictionary = Dictionary(texts)\n",
    "common_corpus = [common_dictionary.doc2bow(text) for text in texts]"
   ]
  },
  {
   "cell_type": "markdown",
   "metadata": {
    "id": "hQfhjyspMIGv"
   },
   "source": [
    "Что такое common_dictionary и как он выглядит"
   ]
  },
  {
   "cell_type": "code",
   "execution_count": 25,
   "metadata": {
    "colab": {
     "base_uri": "https://localhost:8080/",
     "height": 35
    },
    "id": "MBAN3PvWMIGv",
    "outputId": "3364d02f-c309-493e-c679-c122ef375927"
   },
   "outputs": [
    {
     "data": {
      "text/plain": [
       "'банк'"
      ]
     },
     "execution_count": 25,
     "metadata": {},
     "output_type": "execute_result"
    }
   ],
   "source": [
    "common_dictionary[4]"
   ]
  },
  {
   "cell_type": "code",
   "execution_count": 26,
   "metadata": {
    "colab": {
     "base_uri": "https://localhost:8080/"
    },
    "id": "aJv_IlHdmUjt",
    "outputId": "a25aba2b-a2e7-42b2-f03d-189afa2adad5"
   },
   "outputs": [
    {
     "data": {
      "text/plain": [
       "{0: 'александр',\n",
       " 1: 'алексей',\n",
       " 2: 'андрей',\n",
       " 3: 'армеец',\n",
       " 4: 'банк',\n",
       " 5: 'баскетбол',\n",
       " 6: 'близкий',\n",
       " 7: 'блок',\n",
       " 8: 'борьба',\n",
       " 9: 'ватутин',\n",
       " 10: 'взаимодействие',\n",
       " 11: 'власть',\n",
       " 12: 'войти',\n",
       " 13: 'вячеслав',\n",
       " 14: 'генералполковник',\n",
       " 15: 'генеральный',\n",
       " 16: 'георгий',\n",
       " 17: 'гмк',\n",
       " 18: 'директор',\n",
       " 19: 'европа',\n",
       " 20: 'единогласно',\n",
       " 21: 'заместитель',\n",
       " 22: 'заседание',\n",
       " 23: 'защита',\n",
       " 24: 'иванов',\n",
       " 25: 'избрать',\n",
       " 26: 'исакович',\n",
       " 27: 'клиентский',\n",
       " 28: 'клуб',\n",
       " 29: 'конституционный',\n",
       " 30: 'корпоративный',\n",
       " 31: 'леонид',\n",
       " 32: 'лопат',\n",
       " 33: 'министр',\n",
       " 34: 'мир',\n",
       " 35: 'начальник',\n",
       " 36: 'никель',\n",
       " 37: 'новак',\n",
       " 38: 'норильский',\n",
       " 39: 'оао',\n",
       " 40: 'обсуждение',\n",
       " 41: 'округ',\n",
       " 42: 'ольга',\n",
       " 43: 'ооо',\n",
       " 44: 'орган',\n",
       " 45: 'основной',\n",
       " 46: 'пбк',\n",
       " 47: 'первый',\n",
       " 48: 'перспектива',\n",
       " 49: 'планирование',\n",
       " 50: 'плешаков',\n",
       " 51: 'политика',\n",
       " 52: 'полномочный',\n",
       " 53: 'полтавец',\n",
       " 54: 'полтавченко',\n",
       " 55: 'правительство',\n",
       " 56: 'правление',\n",
       " 57: 'председатель',\n",
       " 58: 'представитель',\n",
       " 59: 'президент',\n",
       " 60: 'прессслужба',\n",
       " 61: 'принять',\n",
       " 62: 'провоторов',\n",
       " 63: 'проект',\n",
       " 64: 'развитие',\n",
       " 65: 'решение',\n",
       " 66: 'ростелеком',\n",
       " 67: 'руководитель',\n",
       " 68: 'рф',\n",
       " 69: 'седов',\n",
       " 70: 'сергей',\n",
       " 71: 'служба',\n",
       " 72: 'совет',\n",
       " 73: 'сообщать',\n",
       " 74: 'состав',\n",
       " 75: 'состояние',\n",
       " 76: 'социальный',\n",
       " 77: 'спортивный',\n",
       " 78: 'стратегия',\n",
       " 79: 'строй',\n",
       " 80: 'текущий',\n",
       " 81: 'терроризм',\n",
       " 82: 'трансаэро',\n",
       " 83: 'трёхкратный',\n",
       " 84: 'ук',\n",
       " 85: 'утверждение',\n",
       " 86: 'федеральный',\n",
       " 87: 'финансы',\n",
       " 88: 'фсб',\n",
       " 89: 'функция',\n",
       " 90: 'центральный',\n",
       " 91: 'цска',\n",
       " 92: 'чемпион',\n",
       " 93: 'эксигрок',\n",
       " 94: 'это',\n",
       " 95: 'ru',\n",
       " 96: 'болельщик',\n",
       " 97: 'вести',\n",
       " 98: 'взрыв',\n",
       " 99: 'выбросить',\n",
       " 100: 'газета',\n",
       " 101: 'динамовец',\n",
       " 102: 'изз',\n",
       " 103: 'команда',\n",
       " 104: 'корреспондент',\n",
       " 105: 'кромка',\n",
       " 106: 'кубок',\n",
       " 107: 'матч',\n",
       " 108: 'минута',\n",
       " 109: 'онлайнтрансляция',\n",
       " 110: 'остановить',\n",
       " 111: 'остаться',\n",
       " 112: 'передавать',\n",
       " 113: 'петарда',\n",
       " 114: 'пиротехнический',\n",
       " 115: 'подтрибунный',\n",
       " 116: 'поле',\n",
       " 117: 'помещение',\n",
       " 118: 'приостановить',\n",
       " 119: 'пять',\n",
       " 120: 'россия',\n",
       " 121: 'снаряд',\n",
       " 122: 'сообщаться',\n",
       " 123: 'судья',\n",
       " 124: 'торпедовец',\n",
       " 125: 'увести',\n",
       " 126: 'уйти',\n",
       " 127: 'финал',\n",
       " 128: 'футбол',\n",
       " 129: 'авангард',\n",
       " 130: 'атланта',\n",
       " 131: 'быстрый',\n",
       " 132: 'включиться',\n",
       " 133: 'выезд',\n",
       " 134: 'гол',\n",
       " 135: 'девять',\n",
       " 136: 'ещё',\n",
       " 137: 'заборский',\n",
       " 138: 'забросить',\n",
       " 139: 'задать',\n",
       " 140: 'игра',\n",
       " 141: 'играть',\n",
       " 142: 'кхл',\n",
       " 143: 'мочь',\n",
       " 144: 'настраиваться',\n",
       " 145: 'нижний',\n",
       " 146: 'новгород',\n",
       " 147: 'очко',\n",
       " 148: 'плохой',\n",
       " 149: 'поединок',\n",
       " 150: 'получиться',\n",
       " 151: 'провести',\n",
       " 152: 'прокомментировать',\n",
       " 153: 'против',\n",
       " 154: 'работа',\n",
       " 155: 'свой',\n",
       " 156: 'сказать',\n",
       " 157: 'сторона',\n",
       " 158: 'темп',\n",
       " 159: 'томаш',\n",
       " 160: 'торпедо',\n",
       " 161: 'форвард',\n",
       " 162: 'хороший',\n",
       " 163: 'чемпионат',\n",
       " 164: 'афолаби',\n",
       " 165: 'бальда',\n",
       " 166: 'возможно',\n",
       " 167: 'всё',\n",
       " 168: 'второй',\n",
       " 169: 'выйти',\n",
       " 170: 'выпустить',\n",
       " 171: 'главный',\n",
       " 172: 'го',\n",
       " 173: 'дать',\n",
       " 174: 'действительно',\n",
       " 175: 'жизнь',\n",
       " 176: 'закончить',\n",
       " 177: 'замена',\n",
       " 178: 'заменить',\n",
       " 179: 'заработать',\n",
       " 180: 'заявка',\n",
       " 181: 'здорово',\n",
       " 182: 'игрок',\n",
       " 183: 'идти',\n",
       " 184: 'конец',\n",
       " 185: 'красножанин',\n",
       " 186: 'крыло',\n",
       " 187: 'кубань',\n",
       " 188: 'лидер',\n",
       " 189: 'менее',\n",
       " 190: 'момент',\n",
       " 191: 'наверное',\n",
       " 192: 'настроение',\n",
       " 193: 'немало',\n",
       " 194: 'неплохо',\n",
       " 195: 'овладевать',\n",
       " 196: 'осложнить',\n",
       " 197: 'отпускной',\n",
       " 198: 'отсюда',\n",
       " 199: 'отыграть',\n",
       " 200: 'победа',\n",
       " 201: 'подряд',\n",
       " 202: 'позиция',\n",
       " 203: 'пока',\n",
       " 204: 'понемногу',\n",
       " 205: 'попасть',\n",
       " 206: 'попов',\n",
       " 207: 'почему',\n",
       " 208: 'пребывать',\n",
       " 209: 'преимущество',\n",
       " 210: 'привыкать',\n",
       " 211: 'самоуспокоенность',\n",
       " 212: 'сегодня',\n",
       " 213: 'сезон',\n",
       " 214: 'слово',\n",
       " 215: 'смочь',\n",
       " 216: 'создать',\n",
       " 217: 'спокойствие',\n",
       " 218: 'статус',\n",
       " 219: 'счёт',\n",
       " 220: 'сэ',\n",
       " 221: 'требоваться',\n",
       " 222: 'тренер',\n",
       " 223: 'тур',\n",
       " 224: 'уверенно',\n",
       " 225: 'успокаиваться',\n",
       " 226: 'хотеть',\n",
       " 227: 'целое',\n",
       " 228: 'частично',\n",
       " 229: 'чувствовать',\n",
       " 230: 'юрий',\n",
       " 231: 'балан',\n",
       " 232: 'вицегубернатор',\n",
       " 233: 'вицепрезидент',\n",
       " 234: 'владивостокский',\n",
       " 235: 'владимир',\n",
       " 236: 'дальневосточный',\n",
       " 237: 'должность',\n",
       " 238: 'занимать',\n",
       " 239: 'информировать',\n",
       " 240: 'край',\n",
       " 241: 'менеджер',\n",
       " 242: 'насонов',\n",
       " 243: 'оставаться',\n",
       " 244: 'официальный',\n",
       " 245: 'попечительский',\n",
       " 246: 'попрежний',\n",
       " 247: 'пост',\n",
       " 248: 'приморский',\n",
       " 249: 'сайт',\n",
       " 250: 'сандлера',\n",
       " 251: 'спартак',\n",
       " 252: 'стать',\n",
       " 253: 'упразднить',\n",
       " 254: 'член',\n",
       " 255: 'эдуард',\n",
       " 256: 'буцай',\n",
       " 257: 'весь',\n",
       " 258: 'время',\n",
       " 259: 'входить',\n",
       " 260: 'гдеть',\n",
       " 261: 'главное',\n",
       " 262: 'дневный',\n",
       " 263: 'долго',\n",
       " 264: 'дотерпеть',\n",
       " 265: 'заслуженно',\n",
       " 266: 'ио',\n",
       " 267: 'начинаться',\n",
       " 268: 'непривычный',\n",
       " 269: 'очень',\n",
       " 270: 'период',\n",
       " 271: 'плюс',\n",
       " 272: 'победить',\n",
       " 273: 'поблагодарить',\n",
       " 274: 'показать',\n",
       " 275: 'появиться',\n",
       " 276: 'правильно',\n",
       " 277: 'прежде',\n",
       " 278: 'пропустить',\n",
       " 279: 'разбежаться',\n",
       " 280: 'ребята',\n",
       " 281: 'регулярный',\n",
       " 282: 'связать',\n",
       " 283: 'сибирь',\n",
       " 284: 'скажем',\n",
       " 285: 'смена',\n",
       " 286: 'сонный',\n",
       " 287: 'считать',\n",
       " 288: 'третий',\n",
       " 289: 'удачно',\n",
       " 290: 'югра',\n",
       " 291: 'будник',\n",
       " 292: 'ворскла',\n",
       " 293: 'встреча',\n",
       " 294: 'голый',\n",
       " 295: 'громов',\n",
       " 296: 'дом',\n",
       " 297: 'завершиться',\n",
       " 298: 'запорожский',\n",
       " 299: 'материал',\n",
       " 300: 'металлург',\n",
       " 301: 'новость',\n",
       " 302: 'поражение',\n",
       " 303: 'посмотреть',\n",
       " 304: 'потерпеть',\n",
       " 305: 'разгромный',\n",
       " 306: 'страница',\n",
       " 307: 'украина',\n",
       " 308: 'украинский',\n",
       " 309: 'чеснаковы',\n",
       " 310: 'австрия',\n",
       " 311: 'бол',\n",
       " 312: 'бьюгстадо',\n",
       " 313: 'вельзер',\n",
       " 314: 'день',\n",
       " 315: 'джонсон',\n",
       " 316: 'иберер',\n",
       " 317: 'игровой',\n",
       " 318: 'кристо',\n",
       " 319: 'латуз',\n",
       " 320: 'леблан',\n",
       " 321: 'лукас',\n",
       " 322: 'макбэйн',\n",
       " 323: 'мосс',\n",
       " 324: 'одержать',\n",
       " 325: 'пайнтнер',\n",
       " 326: 'палушать',\n",
       " 327: 'сборная',\n",
       " 328: 'стартовый',\n",
       " 329: 'стэплтон',\n",
       " 330: 'сша',\n",
       " 331: 'фолкнуть',\n",
       " 332: 'хоккей',\n",
       " 333: 'хундертпфунда',\n",
       " 334: 'штястный',\n",
       " 335: 'шуллера',\n",
       " 336: 'больший',\n",
       " 337: 'бывший',\n",
       " 338: 'взять',\n",
       " 339: 'внести',\n",
       " 340: 'вырасти',\n",
       " 341: 'выступление',\n",
       " 342: 'год',\n",
       " 343: 'дарюс',\n",
       " 344: 'должный',\n",
       " 345: 'защитник',\n",
       " 346: 'заявить',\n",
       " 347: 'илья',\n",
       " 348: 'илюха',\n",
       " 349: 'каспарайтис',\n",
       " 350: 'качество',\n",
       " 351: 'ковальчук',\n",
       " 352: 'латвия',\n",
       " 353: 'малкин',\n",
       " 354: 'национальный',\n",
       " 355: 'ожидание',\n",
       " 356: 'ознакомиться',\n",
       " 357: 'поделиться',\n",
       " 358: 'пойти',\n",
       " 359: 'последний',\n",
       " 360: 'потрясающе',\n",
       " 361: 'прошлый',\n",
       " 362: 'сильно',\n",
       " 363: 'статистика',\n",
       " 364: 'человек',\n",
       " 365: 'выиграть',\n",
       " 366: 'данил',\n",
       " 367: 'делать',\n",
       " 368: 'добиться',\n",
       " 369: 'думать',\n",
       " 370: 'жиляев',\n",
       " 371: 'завтра',\n",
       " 372: 'зоран',\n",
       " 373: 'известно',\n",
       " 374: 'исполниться',\n",
       " 375: 'капитан',\n",
       " 376: 'касаться',\n",
       " 377: 'который',\n",
       " 378: 'крупный',\n",
       " 379: 'май',\n",
       " 380: 'надеяться',\n",
       " 381: 'наш',\n",
       " 382: 'подарок',\n",
       " 383: 'пожелать',\n",
       " 384: 'полузащитник',\n",
       " 385: 'произнести',\n",
       " 386: 'просто',\n",
       " 387: 'речь',\n",
       " 388: 'самый',\n",
       " 389: 'сделать',\n",
       " 390: 'сербский',\n",
       " 391: 'серьёзный',\n",
       " 392: 'слуцкий',\n",
       " 393: 'терек',\n",
       " 394: 'тошич',\n",
       " 395: 'травма',\n",
       " 396: 'удачный',\n",
       " 397: 'ушибить',\n",
       " 398: 'характер',\n",
       " 399: 'хромать',\n",
       " 400: 'чемпионство',\n",
       " 401: 'шаг',\n",
       " 402: 'барселона',\n",
       " 403: 'бетис',\n",
       " 404: 'вальдес',\n",
       " 405: 'виктор',\n",
       " 406: 'воспаление',\n",
       " 407: 'вратарь',\n",
       " 408: 'испания',\n",
       " 409: 'каталонец',\n",
       " 410: 'кость',\n",
       " 411: 'левый',\n",
       " 412: 'нога',\n",
       " 413: 'подошвенный',\n",
       " 414: 'стопа',\n",
       " 415: 'фасциит',\n",
       " 416: 'анастасия',\n",
       " 417: 'испанка',\n",
       " 418: 'карл',\n",
       " 419: 'обыграть',\n",
       " 420: 'оэйраша',\n",
       " 421: 'павлюченков',\n",
       " 422: 'победительница',\n",
       " 423: 'призовой',\n",
       " 424: 'решающий',\n",
       " 425: 'россиянка',\n",
       " 426: 'суареснаварро',\n",
       " 427: 'теннис',\n",
       " 428: 'турнир',\n",
       " 429: 'тыс',\n",
       " 430: 'фонд',\n",
       " 431: 'анжи',\n",
       " 432: 'бедро',\n",
       " 433: 'вернуться',\n",
       " 434: 'волга',\n",
       " 435: 'группа',\n",
       " 436: 'задний',\n",
       " 437: 'ивуариец',\n",
       " 438: 'казанский',\n",
       " 439: 'лассина',\n",
       " 440: 'махачкала',\n",
       " 441: 'нападать',\n",
       " 442: 'общий',\n",
       " 443: 'поверхность',\n",
       " 444: 'получить',\n",
       " 445: 'премьерлига',\n",
       " 446: 'рамка',\n",
       " 447: 'российский',\n",
       " 448: 'рубин',\n",
       " 449: 'траор',\n",
       " 450: 'тренировка',\n",
       " 451: 'бохара',\n",
       " 452: 'железнодорожник',\n",
       " 453: 'завершить',\n",
       " 454: 'июль',\n",
       " 455: 'касейдо',\n",
       " 456: 'контрольный',\n",
       " 457: 'кучук',\n",
       " 458: 'локомотив',\n",
       " 459: 'марибора',\n",
       " 460: 'местный',\n",
       " 461: 'металлист',\n",
       " 462: 'московский',\n",
       " 463: 'подопечный',\n",
       " 464: 'предупреждеие',\n",
       " 465: 'проиграть',\n",
       " 466: 'сбор',\n",
       " 467: 'следующий',\n",
       " 468: 'словения',\n",
       " 469: 'соперник',\n",
       " 470: 'таварес',\n",
       " 471: 'торбинский',\n",
       " 472: 'учебнотренировочный',\n",
       " 473: 'харьковский',\n",
       " 474: 'хорватский',\n",
       " 475: 'atp',\n",
       " 476: 'важный',\n",
       " 477: 'возраст',\n",
       " 478: 'возрастной',\n",
       " 479: 'вокруг',\n",
       " 480: 'вообще',\n",
       " 481: 'врач',\n",
       " 482: 'далёкий',\n",
       " 483: 'действовать',\n",
       " 484: 'джокович',\n",
       " 485: 'достаточно',\n",
       " 486: 'желание',\n",
       " 487: 'круг',\n",
       " 488: 'мнение',\n",
       " 489: 'множество',\n",
       " 490: 'мудрость',\n",
       " 491: 'начинать',\n",
       " 492: 'немец',\n",
       " 493: 'нужно',\n",
       " 494: 'оно',\n",
       " 495: 'опыт',\n",
       " 496: 'оценивать',\n",
       " 497: 'питание',\n",
       " 498: 'позволять',\n",
       " 499: 'понимать',\n",
       " 500: 'правило',\n",
       " 501: 'правильный',\n",
       " 502: 'приводить',\n",
       " 503: 'ракетка',\n",
       " 504: 'сила',\n",
       " 505: 'собирать',\n",
       " 506: 'согласно',\n",
       " 507: 'специалист',\n",
       " 508: 'существовать',\n",
       " 509: 'сыграть',\n",
       " 510: 'теннисист',\n",
       " 511: 'ти',\n",
       " 512: 'томми',\n",
       " 513: 'трезво',\n",
       " 514: 'уимблдон',\n",
       " 515: 'успех',\n",
       " 516: 'фактор',\n",
       " 517: 'физиотерапевт',\n",
       " 518: 'форма',\n",
       " 519: 'хаас',\n",
       " 520: 'четвёртый',\n",
       " 521: 'являться',\n",
       " 522: 'гомис',\n",
       " 523: 'груда',\n",
       " 524: 'дюмерс',\n",
       " 525: 'женский',\n",
       " 526: 'литтл',\n",
       " 527: 'место',\n",
       " 528: 'одолеть',\n",
       " 529: 'орша',\n",
       " 530: 'сербия',\n",
       " 531: 'торренс',\n",
       " 532: 'турция',\n",
       " 533: 'франция',\n",
       " 534: 'французский',\n",
       " 535: 'шаргай',\n",
       " 536: 'cbs',\n",
       " 537: 'агент',\n",
       " 538: 'айлендерс',\n",
       " 539: 'взамен',\n",
       " 540: 'выбрать',\n",
       " 541: 'драфт',\n",
       " 542: 'клаттербак',\n",
       " 543: 'количество',\n",
       " 544: 'контракт',\n",
       " 545: 'кэла',\n",
       " 546: 'летний',\n",
       " 547: 'миннесота',\n",
       " 548: 'минувший',\n",
       " 549: 'молодой',\n",
       " 550: 'набрать',\n",
       " 551: 'нидеррайтер',\n",
       " 552: 'нино',\n",
       " 553: 'новый',\n",
       " 554: 'номер',\n",
       " 555: 'нхл',\n",
       " 556: 'обменять',\n",
       " 557: 'ограниченно',\n",
       " 558: 'островитянин',\n",
       " 559: 'переходить',\n",
       " 560: 'поэтому',\n",
       " 561: 'приём',\n",
       " 562: 'пятый',\n",
       " 563: 'свободный',\n",
       " 564: 'силовой',\n",
       " 565: 'также',\n",
       " 566: 'jcom',\n",
       " 567: 'активный',\n",
       " 568: 'бродый',\n",
       " 569: 'ванкувер',\n",
       " 570: 'выбор',\n",
       " 571: 'голкипер',\n",
       " 572: 'девятый',\n",
       " 573: 'дьявол',\n",
       " 574: 'завершение',\n",
       " 575: 'итоговый',\n",
       " 576: 'канадский',\n",
       " 577: 'карьера',\n",
       " 578: 'корь',\n",
       " 579: 'кэнакс',\n",
       " 580: 'луонго',\n",
       " 581: 'мартин',\n",
       " 582: 'многоопытный',\n",
       " 583: 'найти',\n",
       " 584: 'ньюджерси',\n",
       " 585: 'обмен',\n",
       " 586: 'однако',\n",
       " 587: 'покинуть',\n",
       " 588: 'призвать',\n",
       " 589: 'пристанище',\n",
       " 590: 'ранее',\n",
       " 591: 'раунд',\n",
       " 592: 'результат',\n",
       " 593: 'роберто',\n",
       " 594: 'солидный',\n",
       " 595: 'удаться',\n",
       " 596: 'шнайдер',\n",
       " 597: 'sportsru',\n",
       " 598: 'аккуратный',\n",
       " 599: 'беспокоить',\n",
       " 600: 'большой',\n",
       " 601: 'видеть',\n",
       " 602: 'десять',\n",
       " 603: 'динамо',\n",
       " 604: 'достойно',\n",
       " 605: 'заслуживать',\n",
       " 606: 'зенит',\n",
       " 607: 'киевлянин',\n",
       " 608: 'киевский',\n",
       " 609: 'кондиция',\n",
       " 610: 'лучано',\n",
       " 611: 'мешать',\n",
       " 612: 'назад',\n",
       " 613: 'например',\n",
       " 614: 'начать',\n",
       " 615: 'неприятно',\n",
       " 616: 'несколько',\n",
       " 617: 'объединить',\n",
       " 618: 'отличие',\n",
       " 619: 'подготовка',\n",
       " 620: 'проигрывать',\n",
       " 621: 'происходить',\n",
       " 622: 'ранний',\n",
       " 623: 'семь',\n",
       " 624: 'спаллетти',\n",
       " 625: 'сражаться',\n",
       " 626: 'травмироваться',\n",
       " 627: 'увидеть',\n",
       " 628: 'улучшение',\n",
       " 629: 'физический',\n",
       " 630: 'хотя',\n",
       " 631: 'широков',\n",
       " 632: 'алвес',\n",
       " 633: 'альба',\n",
       " 634: 'арбелоа',\n",
       " 635: 'бразилия',\n",
       " 636: 'бразильский',\n",
       " 637: 'бускетс',\n",
       " 638: 'давид',\n",
       " 639: 'дань',\n",
       " 640: 'жулио',\n",
       " 641: 'иньест',\n",
       " 642: 'касильяс',\n",
       " 643: 'конфедерация',\n",
       " 644: 'луис',\n",
       " 645: 'маракан',\n",
       " 646: 'марио',\n",
       " 647: 'марсесть',\n",
       " 648: 'мат',\n",
       " 649: 'мск',\n",
       " 650: 'неймара',\n",
       " 651: 'оскар',\n",
       " 652: 'паулиньо',\n",
       " 653: 'педро',\n",
       " 654: 'пик',\n",
       " 655: 'прямой',\n",
       " 656: 'рамос',\n",
       " 657: 'риодежанейро',\n",
       " 658: 'сезара',\n",
       " 659: 'силва',\n",
       " 660: 'состояться',\n",
       " 661: 'стадион',\n",
       " 662: 'текстовый',\n",
       " 663: 'торрес',\n",
       " 664: 'тьяго',\n",
       " 665: 'филья',\n",
       " 666: 'финальный',\n",
       " 667: 'фред',\n",
       " 668: 'хавить',\n",
       " 669: 'халк',\n",
       " 670: 'эрнанести',\n",
       " 671: 'абсолютный',\n",
       " 672: 'ажиотаж',\n",
       " 673: 'алла',\n",
       " 674: 'борисович',\n",
       " 675: 'вид',\n",
       " 676: 'владелец',\n",
       " 677: 'выразить',\n",
       " 678: 'высказывание',\n",
       " 679: 'газзаев',\n",
       " 680: 'говорить',\n",
       " 681: 'господин',\n",
       " 682: 'дабы',\n",
       " 683: 'деньга',\n",
       " 684: 'дорогой',\n",
       " 685: 'зато',\n",
       " 686: 'идея',\n",
       " 687: 'иностранец',\n",
       " 688: 'легионер',\n",
       " 689: 'лимит',\n",
       " 690: 'любимый',\n",
       " 691: 'намерить',\n",
       " 692: 'несерьёзно',\n",
       " 693: 'никто',\n",
       " 694: 'оба',\n",
       " 695: 'объединение',\n",
       " 696: 'организатор',\n",
       " 697: 'оргкомитет',\n",
       " 698: 'относительно',\n",
       " 699: 'перестать',\n",
       " 700: 'петь',\n",
       " 701: 'позитив',\n",
       " 702: 'построение',\n",
       " 703: 'потерять',\n",
       " 704: 'предлагать',\n",
       " 705: 'привести',\n",
       " 706: 'принцип',\n",
       " 707: 'приобрести',\n",
       " 708: 'приходить',\n",
       " 709: 'проводить',\n",
       " 710: 'произойти',\n",
       " 711: 'проституировать',\n",
       " 712: 'противоречить',\n",
       " 713: 'прямо',\n",
       " 714: 'пугачёв',\n",
       " 715: 'пусть',\n",
       " 716: 'разговор',\n",
       " 717: 'рфс',\n",
       " 718: 'свидетельствовать',\n",
       " 719: 'свобода',\n",
       " 720: 'скорее',\n",
       " 721: 'собираться',\n",
       " 722: 'советский',\n",
       " 723: 'спасение',\n",
       " 724: 'спорт',\n",
       " 725: 'сразу',\n",
       " 726: 'стороженко',\n",
       " 727: 'сторонник',\n",
       " 728: 'страна',\n",
       " 729: 'тонуть',\n",
       " 730: 'тысяча',\n",
       " 731: 'убийство',\n",
       " 732: 'уничтожение',\n",
       " 733: 'федерация',\n",
       " 734: 'ффу',\n",
       " 735: 'ходить',\n",
       " 736: 'черта',\n",
       " 737: 'число',\n",
       " 738: 'юношеский',\n",
       " 739: 'бегать',\n",
       " 740: 'блохин',\n",
       " 741: 'временами',\n",
       " 742: 'всетаки',\n",
       " 743: 'вчера',\n",
       " 744: 'выглядеть',\n",
       " 745: 'зритель',\n",
       " 746: 'километраж',\n",
       " 747: 'маленький',\n",
       " 748: 'меняться',\n",
       " 749: 'нагрузка',\n",
       " 750: 'нужный',\n",
       " 751: 'объём',\n",
       " 752: 'олег',\n",
       " 753: 'план',\n",
       " 754: 'поехать',\n",
       " 755: 'поздравлять',\n",
       " 756: 'показывать',\n",
       " 757: 'покупать',\n",
       " 758: 'проявлять',\n",
       " 759: 'работать',\n",
       " 760: 'роль',\n",
       " 761: 'сбрасывать',\n",
       " 762: 'ставить',\n",
       " 763: 'столько',\n",
       " 764: 'стремиться',\n",
       " 765: 'тактика',\n",
       " 766: 'тяжёлый',\n",
       " 767: 'украинец',\n",
       " 768: 'уровень',\n",
       " 769: 'усталость',\n",
       " 770: 'установка',\n",
       " 771: 'чемуть',\n",
       " 772: 'анатолий',\n",
       " 773: 'аршавин',\n",
       " 774: 'аршавино',\n",
       " 775: 'безнадёжно',\n",
       " 776: 'бойцовский',\n",
       " 777: 'видно',\n",
       " 778: 'возвращение',\n",
       " 779: 'впечатление',\n",
       " 780: 'вряд',\n",
       " 781: 'встретить',\n",
       " 782: 'довольный',\n",
       " 783: 'дух',\n",
       " 784: 'знакомство',\n",
       " 785: 'мастерство',\n",
       " 786: 'набирать',\n",
       " 787: 'начаться',\n",
       " 788: 'небольшой',\n",
       " 789: 'некоторый',\n",
       " 790: 'никуда',\n",
       " 791: 'опытный',\n",
       " 792: 'положительный',\n",
       " 793: 'понятно',\n",
       " 794: 'приятно',\n",
       " 795: 'проблема',\n",
       " 796: 'профессионализм',\n",
       " 797: 'реакция',\n",
       " 798: 'русский',\n",
       " 799: 'тимощука',\n",
       " 800: 'удача',\n",
       " 801: 'уста',\n",
       " 802: 'человеческий',\n",
       " 803: 'возвращаться',\n",
       " 804: 'впереди',\n",
       " 805: 'вывод',\n",
       " 806: 'жаль',\n",
       " 807: 'заметно',\n",
       " 808: 'ломбертс',\n",
       " 809: 'мяч',\n",
       " 810: 'неплохой',\n",
       " 811: 'непросто',\n",
       " 812: 'николас',\n",
       " 813: 'особенно',\n",
       " 814: 'отдавать',\n",
       " 815: 'отличный',\n",
       " 816: 'половина',\n",
       " 817: 'свежий',\n",
       " 818: 'старт',\n",
       " 819: 'стоить',\n",
       " 820: 'тайм',\n",
       " 821: 'тренироваться',\n",
       " 822: 'тренировочный',\n",
       " 823: 'устать',\n",
       " 824: 'футболист',\n",
       " 825: 'частый',\n",
       " 826: 'atio',\n",
       " 827: 'sb',\n",
       " 828: 'америка',\n",
       " 829: 'амрия',\n",
       " 830: 'баффало',\n",
       " 831: 'выступать',\n",
       " 832: 'задор',\n",
       " 833: 'затем',\n",
       " 834: 'красный',\n",
       " 835: 'лига',\n",
       " 836: 'лондон',\n",
       " 837: 'мхл',\n",
       " 838: 'найтс',\n",
       " 839: 'никита',\n",
       " 840: 'новичок',\n",
       " 841: 'онтарио',\n",
       " 842: 'северный',\n",
       " 843: 'уехать',\n",
       " 844: 'хоккеист',\n",
       " 845: 'хоккейный',\n",
       " 846: 'аплодировать',\n",
       " 847: 'армянский',\n",
       " 848: 'бавария',\n",
       " 849: 'биться',\n",
       " 850: 'бомбардир',\n",
       " 851: 'генрих',\n",
       " 852: 'горняк',\n",
       " 853: 'действие',\n",
       " 854: 'демонстрировать',\n",
       " 855: 'донецкий',\n",
       " 856: 'забивать',\n",
       " 857: 'заявление',\n",
       " 858: 'иной',\n",
       " 859: 'исчезнуть',\n",
       " 860: 'каждый',\n",
       " 861: 'какиеть',\n",
       " 862: 'комментировать',\n",
       " 863: 'ливерпуль',\n",
       " 864: 'лучёска',\n",
       " 865: 'мадридский',\n",
       " 866: 'менять',\n",
       " 867: 'мирча',\n",
       " 868: 'мхитарян',\n",
       " 869: 'опуститься',\n",
       " 870: 'организация',\n",
       " 871: 'остальной',\n",
       " 872: 'отпуск',\n",
       " 873: 'оценить',\n",
       " 874: 'ошибка',\n",
       " 875: 'переговоры',\n",
       " 876: 'переход',\n",
       " 877: 'подумать',\n",
       " 878: 'помогать',\n",
       " 879: 'понять',\n",
       " 880: 'появляться',\n",
       " 881: 'превосходить',\n",
       " 882: 'призывать',\n",
       " 883: 'продлить',\n",
       " 884: 'реал',\n",
       " 885: 'редко',\n",
       " 886: 'руководство',\n",
       " 887: 'самовольно',\n",
       " 888: 'сильный',\n",
       " 889: 'совершать',\n",
       " 890: 'спина',\n",
       " 891: 'травмировать',\n",
       " 892: 'хотеться',\n",
       " 893: 'шахтёр',\n",
       " 894: 'штрафной',\n",
       " 895: 'бельханда',\n",
       " 896: 'вживую',\n",
       " 897: 'впервые',\n",
       " 898: 'джермейн',\n",
       " 899: 'добавить',\n",
       " 900: 'дьемерси',\n",
       " 901: 'интересно',\n",
       " 902: 'интересный',\n",
       " 903: 'краска',\n",
       " 904: 'ленс',\n",
       " 905: 'мбокани',\n",
       " 906: 'официально',\n",
       " 907: 'перерыв',\n",
       " 908: 'представить',\n",
       " 909: 'юнести',\n",
       " 910: 'адам',\n",
       " 911: 'аз',\n",
       " 912: 'аякс',\n",
       " 913: 'вицечемпион',\n",
       " 914: 'голландия',\n",
       " 915: 'достигнуть',\n",
       " 916: 'забить',\n",
       " 917: 'заинтересованный',\n",
       " 918: 'махер',\n",
       " 919: 'молодёжный',\n",
       " 920: 'отдать',\n",
       " 921: 'передача',\n",
       " 922: 'подписать',\n",
       " 923: 'помимо',\n",
       " 924: 'принципиальный',\n",
       " 925: 'псв',\n",
       " 926: 'рассчитать',\n",
       " 927: 'результативный',\n",
       " 928: 'соглашение',\n",
       " 929: 'трансфер',\n",
       " 930: 'выкладываться',\n",
       " 931: 'выходить',\n",
       " 932: 'забывать',\n",
       " 933: 'качественный',\n",
       " 934: 'концентрация',\n",
       " 935: 'любой',\n",
       " 936: 'могилевец',\n",
       " 937: 'независимо',\n",
       " 938: 'неофициальный',\n",
       " 939: 'новинка',\n",
       " 940: 'обидно',\n",
       " 941: 'павел',\n",
       " 942: 'правда',\n",
       " 943: 'прийти',\n",
       " 944: 'процент',\n",
       " 945: 'реализация',\n",
       " 946: 'соревнование',\n",
       " 947: 'стараться',\n",
       " 948: 'сто',\n",
       " 949: 'хватить',\n",
       " 950: 'шанс',\n",
       " 951: 'эмоция',\n",
       " 952: 'значит',\n",
       " 953: 'полный',\n",
       " 954: 'преддрафтовый',\n",
       " 955: 'признаться',\n",
       " 956: 'равно',\n",
       " 957: 'страшный',\n",
       " 958: 'сюрприз',\n",
       " 959: 'тест',\n",
       " 960: 'торонто',\n",
       " 961: 'yahoosports',\n",
       " 962: 'будущее',\n",
       " 963: 'вариант',\n",
       " 964: 'возможный',\n",
       " 965: 'гиллис',\n",
       " 966: 'движение',\n",
       " 967: 'именно',\n",
       " 968: 'искать',\n",
       " 969: 'курс',\n",
       " 970: 'майк',\n",
       " 971: 'молодёжь',\n",
       " 972: 'необходимо',\n",
       " 973: 'перспективный',\n",
       " 974: 'постоянно',\n",
       " 975: 'постоянный',\n",
       " 976: 'предложение',\n",
       " 977: 'прекрасный',\n",
       " 978: 'приспосабливаться',\n",
       " 979: 'причина',\n",
       " 980: 'различный',\n",
       " 981: 'рассказать',\n",
       " 982: 'рассматривать',\n",
       " 983: 'рынок',\n",
       " 984: 'случиться',\n",
       " 985: 'слушать',\n",
       " 986: 'событие',\n",
       " 987: 'трансферный',\n",
       " 988: 'уверенный',\n",
       " 989: 'чтоть',\n",
       " 990: 'балл',\n",
       " 991: 'джей',\n",
       " 992: 'дженять',\n",
       " 993: 'заполучить',\n",
       " 994: 'использовать',\n",
       " 995: 'каролина',\n",
       " 996: 'клинок',\n",
       " 997: 'комфер',\n",
       " 998: 'направление',\n",
       " 999: 'обратный',\n",
       " ...}"
      ]
     },
     "execution_count": 26,
     "metadata": {},
     "output_type": "execute_result"
    }
   ],
   "source": [
    "common_dictionary.id2token"
   ]
  },
  {
   "cell_type": "markdown",
   "metadata": {
    "id": "YKkuzl96nZ4f"
   },
   "source": [
    "Делаем BoW по списку слов"
   ]
  },
  {
   "cell_type": "code",
   "execution_count": 27,
   "metadata": {
    "colab": {
     "base_uri": "https://localhost:8080/"
    },
    "id": "QAalxqanm95I",
    "outputId": "496b514a-e990-4fc0-befc-d09842cbeb9a"
   },
   "outputs": [
    {
     "data": {
      "text/plain": [
       "[(5, 3), (135723, 1), (135724, 1)]"
      ]
     },
     "execution_count": 27,
     "metadata": {},
     "output_type": "execute_result"
    }
   ],
   "source": [
    "common_dictionary.doc2bow(['баскетбол' ,'баскетбол' ,'баскетбол' ,'наше', 'все'], allow_update=True)"
   ]
  },
  {
   "cell_type": "code",
   "execution_count": 28,
   "metadata": {
    "colab": {
     "base_uri": "https://localhost:8080/"
    },
    "id": "JSf5rfLjROW7",
    "outputId": "8124d9b6-85a5-432f-fffe-7f0a124f3a50"
   },
   "outputs": [
    {
     "data": {
      "text/plain": [
       "(0, 2)"
      ]
     },
     "execution_count": 28,
     "metadata": {},
     "output_type": "execute_result"
    }
   ],
   "source": [
    "common_corpus[0][0]"
   ]
  },
  {
   "cell_type": "code",
   "execution_count": 29,
   "metadata": {
    "colab": {
     "base_uri": "https://localhost:8080/"
    },
    "id": "mcQAiY4kRlAW",
    "outputId": "54ce5ace-d5a3-4952-a1ac-46313d1ca0b9"
   },
   "outputs": [
    {
     "data": {
      "text/plain": [
       "118"
      ]
     },
     "execution_count": 29,
     "metadata": {},
     "output_type": "execute_result"
    }
   ],
   "source": [
    "len(texts[0])"
   ]
  },
  {
   "cell_type": "markdown",
   "metadata": {
    "id": "jrkMUNueMIGv"
   },
   "source": [
    "Все просто - это словарь наших слов"
   ]
  },
  {
   "cell_type": "markdown",
   "metadata": {
    "id": "LksYgmAqMIGw"
   },
   "source": [
    "Запускаем обучение"
   ]
  },
  {
   "cell_type": "code",
   "execution_count": 30,
   "metadata": {
    "id": "vcBROvtBkGix"
   },
   "outputs": [],
   "source": [
    "N_topic = 16 # число тем - гиперпараметр (зфиксируем 16)"
   ]
  },
  {
   "cell_type": "code",
   "execution_count": 31,
   "metadata": {
    "colab": {
     "base_uri": "https://localhost:8080/"
    },
    "id": "xtKgOLXzMIGw",
    "outputId": "c5043550-cf60-4e2d-91e8-8b352dc442f1"
   },
   "outputs": [
    {
     "name": "stdout",
     "output_type": "stream",
     "text": [
      "Wall time: 4min 50s\n"
     ]
    }
   ],
   "source": [
    "%%time\n",
    "from gensim.models import LdaModel\n",
    "# Train the model on the corpus.\n",
    "lda = LdaModel(common_corpus, num_topics=N_topic, id2word=common_dictionary)#, passes=10)"
   ]
  },
  {
   "cell_type": "code",
   "execution_count": 32,
   "metadata": {
    "colab": {
     "base_uri": "https://localhost:8080/"
    },
    "id": "IyVZ-spdMIGx",
    "outputId": "b3617aeb-00d6-4f7f-86fc-92486d6ebacc"
   },
   "outputs": [],
   "source": [
    "from gensim.test.utils import datapath\n",
    "# Save model to disk.\n",
    "temp_file = datapath(\"model.lda\")\n",
    "lda.save(temp_file)\n",
    "\n",
    "# Load a potentially pretrained model from disk.\n",
    "lda = LdaModel.load(temp_file)"
   ]
  },
  {
   "cell_type": "markdown",
   "metadata": {
    "id": "ZshpqNKwMIGx"
   },
   "source": [
    "Обучили модель. Теперь 2 вопроса:\n",
    "\n",
    "1. как выглядят наши темы\n",
    "2. как получить для документа вектор значений (вероятности принадлежности каждой теме)"
   ]
  },
  {
   "cell_type": "code",
   "execution_count": 33,
   "metadata": {
    "colab": {
     "base_uri": "https://localhost:8080/"
    },
    "id": "-stkuTDxMIGy",
    "outputId": "7aae0615-97e9-403b-9816-ade7ccb9dce7"
   },
   "outputs": [
    {
     "name": "stdout",
     "output_type": "stream",
     "text": [
      "['форвард', 'авангард', 'томаш', 'заборский', 'прокомментировать', 'игра', 'свой', 'команда', 'матч', 'чемпионат', 'кхл', 'против', 'атланта', 'провести', 'плохой', 'матч', 'нижний', 'новгород', 'против', 'торпедо', 'настраиваться', 'первый', 'минута', 'включиться', 'работа', 'сказать', 'заборский', 'получиться', 'забросить', 'быстрый', 'гол', 'задать', 'хороший', 'темп', 'поединок', 'мочь', 'играть', 'ещё', 'хороший', 'сторона', 'пять', 'очко', 'выезд', 'девять', 'это', 'хороший']\n"
     ]
    },
    {
     "data": {
      "text/plain": [
       "[(3, 0.5556787), (8, 0.2291667), (11, 0.19655511)]"
      ]
     },
     "execution_count": 33,
     "metadata": {},
     "output_type": "execute_result"
    }
   ],
   "source": [
    "# Create a new corpus, made of previously unseen documents.\n",
    "other_texts = [t for t in news['title'].iloc[:3]]\n",
    "other_corpus = [common_dictionary.doc2bow(text) for text in other_texts]\n",
    "\n",
    "unseen_doc = other_corpus[2]\n",
    "print(other_texts[2])\n",
    "lda[unseen_doc] "
   ]
  },
  {
   "cell_type": "code",
   "execution_count": 34,
   "metadata": {
    "colab": {
     "base_uri": "https://localhost:8080/"
    },
    "id": "Bbxd48b_MIGz",
    "outputId": "24862031-5a0b-4cc2-d564-f98349a4cb68"
   },
   "outputs": [
    {
     "name": "stdout",
     "output_type": "stream",
     "text": [
      "topic_0: год который банк человек стать это тело фонд время смерть новый получить также писать дом\n",
      "topic_1: остров сократиться японский япония топливо опасаться снизиться пилотировать устанавливать студия прирост японец выстрел инвестировать столетие\n",
      "topic_2: научный который журнал год москва станция район век работа город миссия это день объект авария\n",
      "topic_3: который это исследование мочь свой год земля время весь первый очень взрыв человек всё работа\n",
      "topic_4: статья фонд пенсия сотрудник мужчина университет проверка журнал дело убийство который женщина продукция препарат год\n",
      "topic_5: президент глава совет регион правительство закон область государство путин федеральный владимир законодательство выборы медведев депутат\n",
      "topic_6: газ год кремль египет активность украина доклад белоруссия это белорусский инвестиция апрель который россия подсчитать\n",
      "topic_7: это год человек который украина всё мочь гражданин свой ребёнок весь первый день большой мозг\n",
      "topic_8: самолёт это который год ракета мочь американский время погибнуть человек свой произойти земля ещё находиться\n",
      "topic_9: россия это российский страна который сша также заявить свой год весь всё мочь человек сторона\n",
      "topic_10: космос фестиваль мероприятие египетский ким пройти корея сайт программа праздник ми лауреат олимпийский состояться игра\n",
      "topic_11: рейтинг место высота германия россиянин опрос атмосферный испания италия третий золото австралия показатель дания греция\n",
      "topic_12: млн снижение составить год цена стоимость прогноз бизнесмен снизить показатель составлять министерство продажа общий тыс\n",
      "topic_13: год который это компания мочь эксперт также новый россия весь российский проект система наука рост\n",
      "topic_14: год рубль суд это тыс который решение млн дело ставка размер свой сумма деньга мочь\n",
      "topic_15: млрд военный мышь космонавт сектор парламент расход афганистан год al гражданский бюджет atio бюро оборона\n"
     ]
    }
   ],
   "source": [
    "x=lda.show_topics(num_topics=N_topic, num_words=15,formatted=False)\n",
    "topics_words = [(tp[0], [wd[0] for wd in tp[1]]) for tp in x]\n",
    "\n",
    "#Below Code Prints Only Words \n",
    "for topic,words in topics_words:\n",
    "    print(\"topic_{}: \".format(topic)+\" \".join(words))"
   ]
  },
  {
   "cell_type": "markdown",
   "metadata": {
    "id": "gBlxgTZoMIG0"
   },
   "source": [
    "Очень неплохо - большинство тем вполне можно описать о чем они\n",
    "\n",
    "\n",
    "построим темы "
   ]
  },
  {
   "cell_type": "code",
   "execution_count": 35,
   "metadata": {
    "colab": {
     "base_uri": "https://localhost:8080/"
    },
    "id": "1vbGV31OtHHx",
    "outputId": "1b84005e-19db-4358-eefa-75188e186c83"
   },
   "outputs": [
    {
     "data": {
      "text/plain": [
       "['ио',\n",
       " 'главное',\n",
       " 'тренер',\n",
       " 'вячеслав',\n",
       " 'буцай',\n",
       " 'прокомментировать',\n",
       " 'победа',\n",
       " 'югра',\n",
       " 'матч',\n",
       " 'регулярный',\n",
       " 'чемпионат',\n",
       " 'кхл',\n",
       " 'прежде',\n",
       " 'весь',\n",
       " 'хотеть',\n",
       " 'поблагодарить',\n",
       " 'свой',\n",
       " 'ребята',\n",
       " 'весь',\n",
       " 'команда',\n",
       " 'передавать',\n",
       " 'слово',\n",
       " 'официальный',\n",
       " 'сайт',\n",
       " 'югра',\n",
       " 'игра',\n",
       " 'начинаться',\n",
       " 'очень',\n",
       " 'удачно',\n",
       " 'пропустить',\n",
       " 'гол',\n",
       " 'первый',\n",
       " 'смена',\n",
       " 'долго',\n",
       " 'входить',\n",
       " 'игра',\n",
       " 'мочь',\n",
       " 'это',\n",
       " 'связать',\n",
       " 'это',\n",
       " 'дневный',\n",
       " 'матч',\n",
       " 'непривычный',\n",
       " 'время',\n",
       " 'плюс',\n",
       " 'это',\n",
       " 'третий',\n",
       " 'матч',\n",
       " 'сибирь',\n",
       " 'гдеть',\n",
       " 'ребята',\n",
       " 'чувствовать',\n",
       " 'скажем',\n",
       " 'сонный',\n",
       " 'второй',\n",
       " 'третий',\n",
       " 'период',\n",
       " 'показать',\n",
       " 'разбежаться',\n",
       " 'стать',\n",
       " 'играть',\n",
       " 'правильно',\n",
       " 'появиться',\n",
       " 'момент',\n",
       " 'дотерпеть',\n",
       " 'считать',\n",
       " 'заслуженно',\n",
       " 'победить']"
      ]
     },
     "execution_count": 35,
     "metadata": {},
     "output_type": "execute_result"
    }
   ],
   "source": [
    "news['title'].iloc[5]"
   ]
  },
  {
   "cell_type": "code",
   "execution_count": 36,
   "metadata": {
    "colab": {
     "base_uri": "https://localhost:8080/"
    },
    "id": "NzIVpjbQsK_8",
    "outputId": "53fb99e1-439f-44ba-cdba-5dd2feaf46bb"
   },
   "outputs": [
    {
     "data": {
      "text/plain": [
       "[(4, 0.46090376), (6, 0.2438725), (11, 0.26711202)]"
      ]
     },
     "execution_count": 36,
     "metadata": {},
     "output_type": "execute_result"
    }
   ],
   "source": [
    "lda[common_dictionary.doc2bow(news['title'].iloc[10])]"
   ]
  },
  {
   "cell_type": "markdown",
   "metadata": {
    "id": "ZqB953kTMIG0"
   },
   "source": [
    "Давайте напишем функцию, которая будет нам возвращать векторное представление новости"
   ]
  },
  {
   "cell_type": "code",
   "execution_count": 37,
   "metadata": {
    "id": "dKAc5hiVMIG1"
   },
   "outputs": [],
   "source": [
    "#text = news['title'].iloc[0]\n",
    "\n",
    "def get_lda_vector(text):\n",
    "    unseen_doc = common_dictionary.doc2bow(text)\n",
    "    lda_tuple = lda[unseen_doc]\n",
    "    not_null_topics = dict(zip([i[0] for i in lda_tuple], [i[1] for i in lda_tuple]))\n",
    "\n",
    "    output_vector = []\n",
    "    for i in range(N_topic):\n",
    "        if i not in not_null_topics:\n",
    "            output_vector.append(0)\n",
    "        else:\n",
    "            output_vector.append(not_null_topics[i])\n",
    "    return np.array(output_vector)"
   ]
  },
  {
   "cell_type": "code",
   "execution_count": 38,
   "metadata": {
    "colab": {
     "base_uri": "https://localhost:8080/",
     "height": 224
    },
    "id": "QKc4AAI5MIG2",
    "outputId": "e944ca19-c28c-46ba-db0e-4513360a4782"
   },
   "outputs": [
    {
     "data": {
      "text/html": [
       "<div>\n",
       "<style scoped>\n",
       "    .dataframe tbody tr th:only-of-type {\n",
       "        vertical-align: middle;\n",
       "    }\n",
       "\n",
       "    .dataframe tbody tr th {\n",
       "        vertical-align: top;\n",
       "    }\n",
       "\n",
       "    .dataframe thead th {\n",
       "        text-align: right;\n",
       "    }\n",
       "</style>\n",
       "<table border=\"1\" class=\"dataframe\">\n",
       "  <thead>\n",
       "    <tr style=\"text-align: right;\">\n",
       "      <th></th>\n",
       "      <th>doc_id</th>\n",
       "      <th>topic_0</th>\n",
       "      <th>topic_1</th>\n",
       "      <th>topic_2</th>\n",
       "      <th>topic_3</th>\n",
       "      <th>topic_4</th>\n",
       "      <th>topic_5</th>\n",
       "      <th>topic_6</th>\n",
       "      <th>topic_7</th>\n",
       "      <th>topic_8</th>\n",
       "      <th>topic_9</th>\n",
       "      <th>topic_10</th>\n",
       "      <th>topic_11</th>\n",
       "      <th>topic_12</th>\n",
       "      <th>topic_13</th>\n",
       "      <th>topic_14</th>\n",
       "      <th>topic_15</th>\n",
       "    </tr>\n",
       "  </thead>\n",
       "  <tbody>\n",
       "    <tr>\n",
       "      <th>0</th>\n",
       "      <td>6</td>\n",
       "      <td>0.439476</td>\n",
       "      <td>0.0</td>\n",
       "      <td>0.0</td>\n",
       "      <td>0.000000</td>\n",
       "      <td>0.000000</td>\n",
       "      <td>0.418396</td>\n",
       "      <td>0.000000</td>\n",
       "      <td>0.014732</td>\n",
       "      <td>0.000000</td>\n",
       "      <td>0.000000</td>\n",
       "      <td>0.0</td>\n",
       "      <td>0.051363</td>\n",
       "      <td>0.000000</td>\n",
       "      <td>0.069703</td>\n",
       "      <td>0.000000</td>\n",
       "      <td>0.0</td>\n",
       "    </tr>\n",
       "    <tr>\n",
       "      <th>1</th>\n",
       "      <td>4896</td>\n",
       "      <td>0.000000</td>\n",
       "      <td>0.0</td>\n",
       "      <td>0.0</td>\n",
       "      <td>0.707796</td>\n",
       "      <td>0.051388</td>\n",
       "      <td>0.000000</td>\n",
       "      <td>0.000000</td>\n",
       "      <td>0.000000</td>\n",
       "      <td>0.000000</td>\n",
       "      <td>0.000000</td>\n",
       "      <td>0.0</td>\n",
       "      <td>0.157641</td>\n",
       "      <td>0.000000</td>\n",
       "      <td>0.000000</td>\n",
       "      <td>0.064405</td>\n",
       "      <td>0.0</td>\n",
       "    </tr>\n",
       "    <tr>\n",
       "      <th>2</th>\n",
       "      <td>4897</td>\n",
       "      <td>0.000000</td>\n",
       "      <td>0.0</td>\n",
       "      <td>0.0</td>\n",
       "      <td>0.555709</td>\n",
       "      <td>0.000000</td>\n",
       "      <td>0.000000</td>\n",
       "      <td>0.000000</td>\n",
       "      <td>0.000000</td>\n",
       "      <td>0.229146</td>\n",
       "      <td>0.000000</td>\n",
       "      <td>0.0</td>\n",
       "      <td>0.196546</td>\n",
       "      <td>0.000000</td>\n",
       "      <td>0.000000</td>\n",
       "      <td>0.000000</td>\n",
       "      <td>0.0</td>\n",
       "    </tr>\n",
       "    <tr>\n",
       "      <th>3</th>\n",
       "      <td>4898</td>\n",
       "      <td>0.000000</td>\n",
       "      <td>0.0</td>\n",
       "      <td>0.0</td>\n",
       "      <td>0.405563</td>\n",
       "      <td>0.000000</td>\n",
       "      <td>0.000000</td>\n",
       "      <td>0.128620</td>\n",
       "      <td>0.166051</td>\n",
       "      <td>0.000000</td>\n",
       "      <td>0.192621</td>\n",
       "      <td>0.0</td>\n",
       "      <td>0.000000</td>\n",
       "      <td>0.090631</td>\n",
       "      <td>0.000000</td>\n",
       "      <td>0.000000</td>\n",
       "      <td>0.0</td>\n",
       "    </tr>\n",
       "    <tr>\n",
       "      <th>4</th>\n",
       "      <td>4899</td>\n",
       "      <td>0.000000</td>\n",
       "      <td>0.0</td>\n",
       "      <td>0.0</td>\n",
       "      <td>0.000000</td>\n",
       "      <td>0.000000</td>\n",
       "      <td>0.475386</td>\n",
       "      <td>0.185685</td>\n",
       "      <td>0.286691</td>\n",
       "      <td>0.000000</td>\n",
       "      <td>0.000000</td>\n",
       "      <td>0.0</td>\n",
       "      <td>0.000000</td>\n",
       "      <td>0.031284</td>\n",
       "      <td>0.000000</td>\n",
       "      <td>0.000000</td>\n",
       "      <td>0.0</td>\n",
       "    </tr>\n",
       "  </tbody>\n",
       "</table>\n",
       "</div>"
      ],
      "text/plain": [
       "   doc_id   topic_0  topic_1  topic_2   topic_3   topic_4   topic_5   topic_6  \\\n",
       "0       6  0.439476      0.0      0.0  0.000000  0.000000  0.418396  0.000000   \n",
       "1    4896  0.000000      0.0      0.0  0.707796  0.051388  0.000000  0.000000   \n",
       "2    4897  0.000000      0.0      0.0  0.555709  0.000000  0.000000  0.000000   \n",
       "3    4898  0.000000      0.0      0.0  0.405563  0.000000  0.000000  0.128620   \n",
       "4    4899  0.000000      0.0      0.0  0.000000  0.000000  0.475386  0.185685   \n",
       "\n",
       "    topic_7   topic_8   topic_9  topic_10  topic_11  topic_12  topic_13  \\\n",
       "0  0.014732  0.000000  0.000000       0.0  0.051363  0.000000  0.069703   \n",
       "1  0.000000  0.000000  0.000000       0.0  0.157641  0.000000  0.000000   \n",
       "2  0.000000  0.229146  0.000000       0.0  0.196546  0.000000  0.000000   \n",
       "3  0.166051  0.000000  0.192621       0.0  0.000000  0.090631  0.000000   \n",
       "4  0.286691  0.000000  0.000000       0.0  0.000000  0.031284  0.000000   \n",
       "\n",
       "   topic_14  topic_15  \n",
       "0  0.000000       0.0  \n",
       "1  0.064405       0.0  \n",
       "2  0.000000       0.0  \n",
       "3  0.000000       0.0  \n",
       "4  0.000000       0.0  "
      ]
     },
     "execution_count": 38,
     "metadata": {},
     "output_type": "execute_result"
    }
   ],
   "source": [
    "topic_matrix = pd.DataFrame([get_lda_vector(text) for text in news['title'].values])\n",
    "topic_matrix.columns = ['topic_{}'.format(i) for i in range(N_topic)]\n",
    "topic_matrix['doc_id'] = news['doc_id'].values\n",
    "topic_matrix = topic_matrix[['doc_id']+['topic_{}'.format(i) for i in range(N_topic)]]\n",
    "topic_matrix.head(5)"
   ]
  },
  {
   "cell_type": "code",
   "execution_count": 39,
   "metadata": {
    "colab": {
     "base_uri": "https://localhost:8080/",
     "height": 204
    },
    "id": "EHZFcqJKo0D8",
    "outputId": "31db74f0-7243-4c84-ba4c-e05caf7adce2"
   },
   "outputs": [
    {
     "data": {
      "text/html": [
       "<div>\n",
       "<style scoped>\n",
       "    .dataframe tbody tr th:only-of-type {\n",
       "        vertical-align: middle;\n",
       "    }\n",
       "\n",
       "    .dataframe tbody tr th {\n",
       "        vertical-align: top;\n",
       "    }\n",
       "\n",
       "    .dataframe thead th {\n",
       "        text-align: right;\n",
       "    }\n",
       "</style>\n",
       "<table border=\"1\" class=\"dataframe\">\n",
       "  <thead>\n",
       "    <tr style=\"text-align: right;\">\n",
       "      <th></th>\n",
       "      <th>doc_id</th>\n",
       "      <th>topic_0</th>\n",
       "      <th>topic_1</th>\n",
       "      <th>topic_2</th>\n",
       "      <th>topic_3</th>\n",
       "      <th>topic_4</th>\n",
       "      <th>topic_5</th>\n",
       "      <th>topic_6</th>\n",
       "      <th>topic_7</th>\n",
       "      <th>topic_8</th>\n",
       "      <th>topic_9</th>\n",
       "      <th>topic_10</th>\n",
       "      <th>topic_11</th>\n",
       "      <th>topic_12</th>\n",
       "      <th>topic_13</th>\n",
       "      <th>topic_14</th>\n",
       "      <th>topic_15</th>\n",
       "    </tr>\n",
       "  </thead>\n",
       "  <tbody>\n",
       "    <tr>\n",
       "      <th>0</th>\n",
       "      <td>6</td>\n",
       "      <td>0.439476</td>\n",
       "      <td>0.0</td>\n",
       "      <td>0.0</td>\n",
       "      <td>0.000000</td>\n",
       "      <td>0.000000</td>\n",
       "      <td>0.418396</td>\n",
       "      <td>0.000000</td>\n",
       "      <td>0.014732</td>\n",
       "      <td>0.000000</td>\n",
       "      <td>0.000000</td>\n",
       "      <td>0.0</td>\n",
       "      <td>0.051363</td>\n",
       "      <td>0.000000</td>\n",
       "      <td>0.069703</td>\n",
       "      <td>0.000000</td>\n",
       "      <td>0.0</td>\n",
       "    </tr>\n",
       "    <tr>\n",
       "      <th>1</th>\n",
       "      <td>4896</td>\n",
       "      <td>0.000000</td>\n",
       "      <td>0.0</td>\n",
       "      <td>0.0</td>\n",
       "      <td>0.707796</td>\n",
       "      <td>0.051388</td>\n",
       "      <td>0.000000</td>\n",
       "      <td>0.000000</td>\n",
       "      <td>0.000000</td>\n",
       "      <td>0.000000</td>\n",
       "      <td>0.000000</td>\n",
       "      <td>0.0</td>\n",
       "      <td>0.157641</td>\n",
       "      <td>0.000000</td>\n",
       "      <td>0.000000</td>\n",
       "      <td>0.064405</td>\n",
       "      <td>0.0</td>\n",
       "    </tr>\n",
       "    <tr>\n",
       "      <th>2</th>\n",
       "      <td>4897</td>\n",
       "      <td>0.000000</td>\n",
       "      <td>0.0</td>\n",
       "      <td>0.0</td>\n",
       "      <td>0.555709</td>\n",
       "      <td>0.000000</td>\n",
       "      <td>0.000000</td>\n",
       "      <td>0.000000</td>\n",
       "      <td>0.000000</td>\n",
       "      <td>0.229146</td>\n",
       "      <td>0.000000</td>\n",
       "      <td>0.0</td>\n",
       "      <td>0.196546</td>\n",
       "      <td>0.000000</td>\n",
       "      <td>0.000000</td>\n",
       "      <td>0.000000</td>\n",
       "      <td>0.0</td>\n",
       "    </tr>\n",
       "    <tr>\n",
       "      <th>3</th>\n",
       "      <td>4898</td>\n",
       "      <td>0.000000</td>\n",
       "      <td>0.0</td>\n",
       "      <td>0.0</td>\n",
       "      <td>0.405563</td>\n",
       "      <td>0.000000</td>\n",
       "      <td>0.000000</td>\n",
       "      <td>0.128620</td>\n",
       "      <td>0.166051</td>\n",
       "      <td>0.000000</td>\n",
       "      <td>0.192621</td>\n",
       "      <td>0.0</td>\n",
       "      <td>0.000000</td>\n",
       "      <td>0.090631</td>\n",
       "      <td>0.000000</td>\n",
       "      <td>0.000000</td>\n",
       "      <td>0.0</td>\n",
       "    </tr>\n",
       "    <tr>\n",
       "      <th>4</th>\n",
       "      <td>4899</td>\n",
       "      <td>0.000000</td>\n",
       "      <td>0.0</td>\n",
       "      <td>0.0</td>\n",
       "      <td>0.000000</td>\n",
       "      <td>0.000000</td>\n",
       "      <td>0.475386</td>\n",
       "      <td>0.185685</td>\n",
       "      <td>0.286691</td>\n",
       "      <td>0.000000</td>\n",
       "      <td>0.000000</td>\n",
       "      <td>0.0</td>\n",
       "      <td>0.000000</td>\n",
       "      <td>0.031284</td>\n",
       "      <td>0.000000</td>\n",
       "      <td>0.000000</td>\n",
       "      <td>0.0</td>\n",
       "    </tr>\n",
       "  </tbody>\n",
       "</table>\n",
       "</div>"
      ],
      "text/plain": [
       "   doc_id   topic_0  topic_1  topic_2   topic_3   topic_4   topic_5   topic_6  \\\n",
       "0       6  0.439476      0.0      0.0  0.000000  0.000000  0.418396  0.000000   \n",
       "1    4896  0.000000      0.0      0.0  0.707796  0.051388  0.000000  0.000000   \n",
       "2    4897  0.000000      0.0      0.0  0.555709  0.000000  0.000000  0.000000   \n",
       "3    4898  0.000000      0.0      0.0  0.405563  0.000000  0.000000  0.128620   \n",
       "4    4899  0.000000      0.0      0.0  0.000000  0.000000  0.475386  0.185685   \n",
       "\n",
       "    topic_7   topic_8   topic_9  topic_10  topic_11  topic_12  topic_13  \\\n",
       "0  0.014732  0.000000  0.000000       0.0  0.051363  0.000000  0.069703   \n",
       "1  0.000000  0.000000  0.000000       0.0  0.157641  0.000000  0.000000   \n",
       "2  0.000000  0.229146  0.000000       0.0  0.196546  0.000000  0.000000   \n",
       "3  0.166051  0.000000  0.192621       0.0  0.000000  0.090631  0.000000   \n",
       "4  0.286691  0.000000  0.000000       0.0  0.000000  0.031284  0.000000   \n",
       "\n",
       "   topic_14  topic_15  \n",
       "0  0.000000       0.0  \n",
       "1  0.064405       0.0  \n",
       "2  0.000000       0.0  \n",
       "3  0.000000       0.0  \n",
       "4  0.000000       0.0  "
      ]
     },
     "execution_count": 39,
     "metadata": {},
     "output_type": "execute_result"
    }
   ],
   "source": [
    "topic_matrix.head()"
   ]
  },
  {
   "cell_type": "markdown",
   "metadata": {
    "id": "MbQgZQ3MMIG2"
   },
   "source": [
    "Прекрасно, мы получили вектора наших новостей! И даже умеем интерпретировать получившиеся темы.\n",
    "\n",
    "Можно двигаться далее"
   ]
  },
  {
   "cell_type": "markdown",
   "metadata": {
    "id": "z0JACLjHMIG3"
   },
   "source": [
    "### Следующий шаг - векторные представления пользователей"
   ]
  },
  {
   "cell_type": "code",
   "execution_count": 40,
   "metadata": {
    "colab": {
     "base_uri": "https://localhost:8080/",
     "height": 359
    },
    "id": "7IcoyDauMIG3",
    "outputId": "3fb597d8-8975-4803-c047-8e36d59a4127",
    "scrolled": true
   },
   "outputs": [
    {
     "data": {
      "text/html": [
       "<div>\n",
       "<style scoped>\n",
       "    .dataframe tbody tr th:only-of-type {\n",
       "        vertical-align: middle;\n",
       "    }\n",
       "\n",
       "    .dataframe tbody tr th {\n",
       "        vertical-align: top;\n",
       "    }\n",
       "\n",
       "    .dataframe thead th {\n",
       "        text-align: right;\n",
       "    }\n",
       "</style>\n",
       "<table border=\"1\" class=\"dataframe\">\n",
       "  <thead>\n",
       "    <tr style=\"text-align: right;\">\n",
       "      <th></th>\n",
       "      <th>uid</th>\n",
       "      <th>articles</th>\n",
       "    </tr>\n",
       "  </thead>\n",
       "  <tbody>\n",
       "    <tr>\n",
       "      <th>0</th>\n",
       "      <td>u105138</td>\n",
       "      <td>[293672, 293328, 293001, 293622, 293126, 1852]</td>\n",
       "    </tr>\n",
       "    <tr>\n",
       "      <th>1</th>\n",
       "      <td>u108690</td>\n",
       "      <td>[3405, 1739, 2972, 1158, 1599, 322665]</td>\n",
       "    </tr>\n",
       "    <tr>\n",
       "      <th>2</th>\n",
       "      <td>u108339</td>\n",
       "      <td>[1845, 2009, 2356, 1424, 2939, 323389]</td>\n",
       "    </tr>\n",
       "    <tr>\n",
       "      <th>3</th>\n",
       "      <td>u101138</td>\n",
       "      <td>[5933, 6186, 5055, 6977, 5206, 488389]</td>\n",
       "    </tr>\n",
       "    <tr>\n",
       "      <th>4</th>\n",
       "      <td>u108248</td>\n",
       "      <td>[707, 1144, 2532, 2928, 3133, 324592]</td>\n",
       "    </tr>\n",
       "    <tr>\n",
       "      <th>5</th>\n",
       "      <td>u106662</td>\n",
       "      <td>[323868, 323426, 324267, 322426, 324104, 1550]</td>\n",
       "    </tr>\n",
       "    <tr>\n",
       "      <th>6</th>\n",
       "      <td>u105949</td>\n",
       "      <td>[293138, 294471, 295012, 294736, 293949, 3544]</td>\n",
       "    </tr>\n",
       "    <tr>\n",
       "      <th>7</th>\n",
       "      <td>u102457</td>\n",
       "      <td>[6928, 5009, 6940, 7629, 7644, 512736]</td>\n",
       "    </tr>\n",
       "    <tr>\n",
       "      <th>8</th>\n",
       "      <td>u104124</td>\n",
       "      <td>[322838, 324699, 322991, 322120, 324327, 472331]</td>\n",
       "    </tr>\n",
       "    <tr>\n",
       "      <th>9</th>\n",
       "      <td>u101386</td>\n",
       "      <td>[7827, 6427, 7394, 7151, 6335, 487254]</td>\n",
       "    </tr>\n",
       "  </tbody>\n",
       "</table>\n",
       "</div>"
      ],
      "text/plain": [
       "       uid                                          articles\n",
       "0  u105138    [293672, 293328, 293001, 293622, 293126, 1852]\n",
       "1  u108690            [3405, 1739, 2972, 1158, 1599, 322665]\n",
       "2  u108339            [1845, 2009, 2356, 1424, 2939, 323389]\n",
       "3  u101138            [5933, 6186, 5055, 6977, 5206, 488389]\n",
       "4  u108248             [707, 1144, 2532, 2928, 3133, 324592]\n",
       "5  u106662    [323868, 323426, 324267, 322426, 324104, 1550]\n",
       "6  u105949    [293138, 294471, 295012, 294736, 293949, 3544]\n",
       "7  u102457            [6928, 5009, 6940, 7629, 7644, 512736]\n",
       "8  u104124  [322838, 324699, 322991, 322120, 324327, 472331]\n",
       "9  u101386            [7827, 6427, 7394, 7151, 6335, 487254]"
      ]
     },
     "execution_count": 40,
     "metadata": {},
     "output_type": "execute_result"
    }
   ],
   "source": [
    "users.head(10)"
   ]
  },
  {
   "cell_type": "code",
   "execution_count": 41,
   "metadata": {
    "id": "U2pcSIBDMIG4"
   },
   "outputs": [],
   "source": [
    "doc_dict = dict(zip(topic_matrix['doc_id'].values, topic_matrix[['topic_{}'.format(i) for i in range(N_topic)]].values))"
   ]
  },
  {
   "cell_type": "code",
   "execution_count": 42,
   "metadata": {
    "colab": {
     "base_uri": "https://localhost:8080/"
    },
    "id": "wG7wI5TfMIG4",
    "outputId": "5443d210-f3d9-418b-fd46-dcae204eb4d7"
   },
   "outputs": [
    {
     "data": {
      "text/plain": [
       "array([0.29013273, 0.        , 0.        , 0.16001996, 0.        ,\n",
       "       0.12505107, 0.06908298, 0.16365334, 0.03144513, 0.        ,\n",
       "       0.01649465, 0.        , 0.02683892, 0.        , 0.11082464,\n",
       "       0.        ])"
      ]
     },
     "execution_count": 42,
     "metadata": {},
     "output_type": "execute_result"
    }
   ],
   "source": [
    "doc_dict[293622]"
   ]
  },
  {
   "cell_type": "markdown",
   "metadata": {},
   "source": [
    "## Домашнее задание"
   ]
  },
  {
   "cell_type": "code",
   "execution_count": 43,
   "metadata": {},
   "outputs": [],
   "source": [
    "user_articles_list = users['articles'].iloc[33]"
   ]
  },
  {
   "cell_type": "code",
   "execution_count": 44,
   "metadata": {
    "id": "6ssOp3RkMIG5"
   },
   "outputs": [],
   "source": [
    "def get_user_embedding_max(user_articles_list):\n",
    "    user_articles_list = eval(user_articles_list)\n",
    "    user_vector = np.array([doc_dict[doc_id] for doc_id in user_articles_list])\n",
    "    #print(user_vector)\n",
    "    user_vector1 = np.max(user_vector, 0)  # max-mean-median\n",
    "    return user_vector1 #,user_vector"
   ]
  },
  {
   "cell_type": "code",
   "execution_count": 45,
   "metadata": {},
   "outputs": [],
   "source": [
    "def get_user_embedding_mean(user_articles_list):\n",
    "    user_articles_list = eval(user_articles_list)\n",
    "    user_vector = np.array([doc_dict[doc_id] for doc_id in user_articles_list])\n",
    "    #print(user_vector)\n",
    "    user_vector1 = np.mean(user_vector, 0)  # max-mean-median\n",
    "    return user_vector1 #,user_vector"
   ]
  },
  {
   "cell_type": "code",
   "execution_count": 46,
   "metadata": {},
   "outputs": [],
   "source": [
    "def get_user_embedding_median(user_articles_list):\n",
    "    user_articles_list = eval(user_articles_list)\n",
    "    user_vector = np.array([doc_dict[doc_id] for doc_id in user_articles_list])\n",
    "    #print(user_vector)\n",
    "    user_vector1 = np.median(user_vector, 0)  # max-mean-median\n",
    "    return user_vector1 #,user_vector"
   ]
  },
  {
   "cell_type": "code",
   "execution_count": 47,
   "metadata": {},
   "outputs": [],
   "source": [
    "#type_func = [np.max, np.mean, np.median]"
   ]
  },
  {
   "cell_type": "code",
   "execution_count": 48,
   "metadata": {
    "id": "UKfTfcyKMDLq"
   },
   "outputs": [],
   "source": [
    "#user_articles_list = users['articles'].iloc[33]"
   ]
  },
  {
   "cell_type": "code",
   "execution_count": 49,
   "metadata": {
    "colab": {
     "base_uri": "https://localhost:8080/"
    },
    "id": "kn0IxR3vMIG5",
    "outputId": "16e1dbef-231a-490e-ad96-ba1500c5ad17"
   },
   "outputs": [],
   "source": [
    "#vv = get_user_embedding(user_articles_list)\n",
    "#vv"
   ]
  },
  {
   "cell_type": "code",
   "execution_count": 50,
   "metadata": {
    "id": "vw-UHq1PLiD6"
   },
   "outputs": [],
   "source": [
    "import matplotlib.pyplot as plt"
   ]
  },
  {
   "cell_type": "markdown",
   "metadata": {
    "id": "bbJ6STRBMIG6"
   },
   "source": [
    "Интересовался новостями с топиками topic_3, topic_14 (что-то про политику и государство)"
   ]
  },
  {
   "cell_type": "code",
   "execution_count": 51,
   "metadata": {
    "id": "3UPXZgsVMIG6"
   },
   "outputs": [],
   "source": [
    "#users['articles'].iloc[33]"
   ]
  },
  {
   "cell_type": "code",
   "execution_count": 52,
   "metadata": {
    "id": "bDJCMtAFMIG7",
    "scrolled": true
   },
   "outputs": [],
   "source": [
    "#\" \".join(news[news['doc_id']==323186]['title'].iloc[0])"
   ]
  },
  {
   "cell_type": "markdown",
   "metadata": {
    "id": "tk9q6qrVMIG7"
   },
   "source": [
    "Теперь получим эмбединги для всех пользователей и проверим их качество на конкретной downstream-задаче"
   ]
  },
  {
   "cell_type": "markdown",
   "metadata": {},
   "source": [
    "# User embedding for max-mean-median "
   ]
  },
  {
   "cell_type": "code",
   "execution_count": 53,
   "metadata": {},
   "outputs": [],
   "source": [
    "#С точки зрения трудозатрат - самый неудачный подход. Но времени на домашку осталось мало, пришлось делать \"в лоб\""
   ]
  },
  {
   "cell_type": "markdown",
   "metadata": {},
   "source": [
    "## Max"
   ]
  },
  {
   "cell_type": "code",
   "execution_count": 54,
   "metadata": {
    "colab": {
     "base_uri": "https://localhost:8080/",
     "height": 162
    },
    "id": "2gJ71BPbMIG8",
    "outputId": "e77a948c-2a6d-401f-9a81-6525155faeae"
   },
   "outputs": [],
   "source": [
    "user_embeddings_max = pd.DataFrame([i for i in users['articles'].apply(lambda x: get_user_embedding_max(x), 1)])\n",
    "user_embeddings_max.columns = ['topic_{}'.format(i) for i in range(N_topic)]\n",
    "user_embeddings_max['uid'] = users['uid'].values\n",
    "user_embeddings_max = user_embeddings_max[['uid']+['topic_{}'.format(i) for i in range(N_topic)]]"
   ]
  },
  {
   "cell_type": "code",
   "execution_count": 55,
   "metadata": {},
   "outputs": [
    {
     "data": {
      "text/html": [
       "<div>\n",
       "<style scoped>\n",
       "    .dataframe tbody tr th:only-of-type {\n",
       "        vertical-align: middle;\n",
       "    }\n",
       "\n",
       "    .dataframe tbody tr th {\n",
       "        vertical-align: top;\n",
       "    }\n",
       "\n",
       "    .dataframe thead th {\n",
       "        text-align: right;\n",
       "    }\n",
       "</style>\n",
       "<table border=\"1\" class=\"dataframe\">\n",
       "  <thead>\n",
       "    <tr style=\"text-align: right;\">\n",
       "      <th></th>\n",
       "      <th>uid</th>\n",
       "      <th>topic_0</th>\n",
       "      <th>topic_1</th>\n",
       "      <th>topic_2</th>\n",
       "      <th>topic_3</th>\n",
       "      <th>topic_4</th>\n",
       "      <th>topic_5</th>\n",
       "      <th>topic_6</th>\n",
       "      <th>topic_7</th>\n",
       "      <th>topic_8</th>\n",
       "      <th>topic_9</th>\n",
       "      <th>topic_10</th>\n",
       "      <th>topic_11</th>\n",
       "      <th>topic_12</th>\n",
       "      <th>topic_13</th>\n",
       "      <th>topic_14</th>\n",
       "      <th>topic_15</th>\n",
       "    </tr>\n",
       "  </thead>\n",
       "  <tbody>\n",
       "    <tr>\n",
       "      <th>0</th>\n",
       "      <td>u105138</td>\n",
       "      <td>0.456051</td>\n",
       "      <td>0.000000</td>\n",
       "      <td>0.142729</td>\n",
       "      <td>0.160020</td>\n",
       "      <td>0.05059</td>\n",
       "      <td>0.16710</td>\n",
       "      <td>0.371020</td>\n",
       "      <td>0.247944</td>\n",
       "      <td>0.148303</td>\n",
       "      <td>0.399594</td>\n",
       "      <td>0.053527</td>\n",
       "      <td>0.0</td>\n",
       "      <td>0.026839</td>\n",
       "      <td>0.337721</td>\n",
       "      <td>0.116317</td>\n",
       "      <td>0.0</td>\n",
       "    </tr>\n",
       "    <tr>\n",
       "      <th>1</th>\n",
       "      <td>u108690</td>\n",
       "      <td>0.061633</td>\n",
       "      <td>0.040891</td>\n",
       "      <td>0.093657</td>\n",
       "      <td>0.093801</td>\n",
       "      <td>0.28078</td>\n",
       "      <td>0.16985</td>\n",
       "      <td>0.143545</td>\n",
       "      <td>0.365685</td>\n",
       "      <td>0.068512</td>\n",
       "      <td>0.518463</td>\n",
       "      <td>0.000000</td>\n",
       "      <td>0.0</td>\n",
       "      <td>0.029985</td>\n",
       "      <td>0.204592</td>\n",
       "      <td>0.249280</td>\n",
       "      <td>0.0</td>\n",
       "    </tr>\n",
       "  </tbody>\n",
       "</table>\n",
       "</div>"
      ],
      "text/plain": [
       "       uid   topic_0   topic_1   topic_2   topic_3  topic_4  topic_5  \\\n",
       "0  u105138  0.456051  0.000000  0.142729  0.160020  0.05059  0.16710   \n",
       "1  u108690  0.061633  0.040891  0.093657  0.093801  0.28078  0.16985   \n",
       "\n",
       "    topic_6   topic_7   topic_8   topic_9  topic_10  topic_11  topic_12  \\\n",
       "0  0.371020  0.247944  0.148303  0.399594  0.053527       0.0  0.026839   \n",
       "1  0.143545  0.365685  0.068512  0.518463  0.000000       0.0  0.029985   \n",
       "\n",
       "   topic_13  topic_14  topic_15  \n",
       "0  0.337721  0.116317       0.0  \n",
       "1  0.204592  0.249280       0.0  "
      ]
     },
     "execution_count": 55,
     "metadata": {},
     "output_type": "execute_result"
    }
   ],
   "source": [
    "user_embeddings_max.head(2)"
   ]
  },
  {
   "cell_type": "markdown",
   "metadata": {},
   "source": [
    "## Mean"
   ]
  },
  {
   "cell_type": "code",
   "execution_count": 56,
   "metadata": {},
   "outputs": [],
   "source": [
    "user_embeddings_mean = pd.DataFrame([i for i in users['articles'].apply(lambda x: get_user_embedding_mean(x), 1)])\n",
    "user_embeddings_mean.columns = ['topic_{}'.format(i) for i in range(N_topic)]\n",
    "user_embeddings_mean['uid'] = users['uid'].values\n",
    "user_embeddings_mean = user_embeddings_mean[['uid']+['topic_{}'.format(i) for i in range(N_topic)]]"
   ]
  },
  {
   "cell_type": "code",
   "execution_count": 57,
   "metadata": {},
   "outputs": [
    {
     "data": {
      "text/html": [
       "<div>\n",
       "<style scoped>\n",
       "    .dataframe tbody tr th:only-of-type {\n",
       "        vertical-align: middle;\n",
       "    }\n",
       "\n",
       "    .dataframe tbody tr th {\n",
       "        vertical-align: top;\n",
       "    }\n",
       "\n",
       "    .dataframe thead th {\n",
       "        text-align: right;\n",
       "    }\n",
       "</style>\n",
       "<table border=\"1\" class=\"dataframe\">\n",
       "  <thead>\n",
       "    <tr style=\"text-align: right;\">\n",
       "      <th></th>\n",
       "      <th>uid</th>\n",
       "      <th>topic_0</th>\n",
       "      <th>topic_1</th>\n",
       "      <th>topic_2</th>\n",
       "      <th>topic_3</th>\n",
       "      <th>topic_4</th>\n",
       "      <th>topic_5</th>\n",
       "      <th>topic_6</th>\n",
       "      <th>topic_7</th>\n",
       "      <th>topic_8</th>\n",
       "      <th>topic_9</th>\n",
       "      <th>topic_10</th>\n",
       "      <th>topic_11</th>\n",
       "      <th>topic_12</th>\n",
       "      <th>topic_13</th>\n",
       "      <th>topic_14</th>\n",
       "      <th>topic_15</th>\n",
       "    </tr>\n",
       "  </thead>\n",
       "  <tbody>\n",
       "    <tr>\n",
       "      <th>0</th>\n",
       "      <td>u105138</td>\n",
       "      <td>0.254721</td>\n",
       "      <td>0.000000</td>\n",
       "      <td>0.053865</td>\n",
       "      <td>0.044912</td>\n",
       "      <td>0.008432</td>\n",
       "      <td>0.048692</td>\n",
       "      <td>0.105671</td>\n",
       "      <td>0.107085</td>\n",
       "      <td>0.054635</td>\n",
       "      <td>0.156345</td>\n",
       "      <td>0.01167</td>\n",
       "      <td>0.0</td>\n",
       "      <td>0.004473</td>\n",
       "      <td>0.078708</td>\n",
       "      <td>0.054658</td>\n",
       "      <td>0.0</td>\n",
       "    </tr>\n",
       "    <tr>\n",
       "      <th>1</th>\n",
       "      <td>u108690</td>\n",
       "      <td>0.031453</td>\n",
       "      <td>0.006815</td>\n",
       "      <td>0.023653</td>\n",
       "      <td>0.041814</td>\n",
       "      <td>0.070839</td>\n",
       "      <td>0.074940</td>\n",
       "      <td>0.038184</td>\n",
       "      <td>0.174359</td>\n",
       "      <td>0.038257</td>\n",
       "      <td>0.302805</td>\n",
       "      <td>0.00000</td>\n",
       "      <td>0.0</td>\n",
       "      <td>0.004998</td>\n",
       "      <td>0.131083</td>\n",
       "      <td>0.053506</td>\n",
       "      <td>0.0</td>\n",
       "    </tr>\n",
       "  </tbody>\n",
       "</table>\n",
       "</div>"
      ],
      "text/plain": [
       "       uid   topic_0   topic_1   topic_2   topic_3   topic_4   topic_5  \\\n",
       "0  u105138  0.254721  0.000000  0.053865  0.044912  0.008432  0.048692   \n",
       "1  u108690  0.031453  0.006815  0.023653  0.041814  0.070839  0.074940   \n",
       "\n",
       "    topic_6   topic_7   topic_8   topic_9  topic_10  topic_11  topic_12  \\\n",
       "0  0.105671  0.107085  0.054635  0.156345   0.01167       0.0  0.004473   \n",
       "1  0.038184  0.174359  0.038257  0.302805   0.00000       0.0  0.004998   \n",
       "\n",
       "   topic_13  topic_14  topic_15  \n",
       "0  0.078708  0.054658       0.0  \n",
       "1  0.131083  0.053506       0.0  "
      ]
     },
     "execution_count": 57,
     "metadata": {},
     "output_type": "execute_result"
    }
   ],
   "source": [
    "user_embeddings_mean.head(2)"
   ]
  },
  {
   "cell_type": "markdown",
   "metadata": {},
   "source": [
    "## Median"
   ]
  },
  {
   "cell_type": "code",
   "execution_count": 58,
   "metadata": {},
   "outputs": [],
   "source": [
    "user_embeddings_median = pd.DataFrame([i for i in users['articles'].apply(lambda x: get_user_embedding_median(x), 1)])\n",
    "user_embeddings_median.columns = ['topic_{}'.format(i) for i in range(N_topic)]\n",
    "user_embeddings_median['uid'] = users['uid'].values\n",
    "user_embeddings_median = user_embeddings_median[['uid']+['topic_{}'.format(i) for i in range(N_topic)]]"
   ]
  },
  {
   "cell_type": "code",
   "execution_count": 59,
   "metadata": {},
   "outputs": [
    {
     "data": {
      "text/html": [
       "<div>\n",
       "<style scoped>\n",
       "    .dataframe tbody tr th:only-of-type {\n",
       "        vertical-align: middle;\n",
       "    }\n",
       "\n",
       "    .dataframe tbody tr th {\n",
       "        vertical-align: top;\n",
       "    }\n",
       "\n",
       "    .dataframe thead th {\n",
       "        text-align: right;\n",
       "    }\n",
       "</style>\n",
       "<table border=\"1\" class=\"dataframe\">\n",
       "  <thead>\n",
       "    <tr style=\"text-align: right;\">\n",
       "      <th></th>\n",
       "      <th>uid</th>\n",
       "      <th>topic_0</th>\n",
       "      <th>topic_1</th>\n",
       "      <th>topic_2</th>\n",
       "      <th>topic_3</th>\n",
       "      <th>topic_4</th>\n",
       "      <th>topic_5</th>\n",
       "      <th>topic_6</th>\n",
       "      <th>topic_7</th>\n",
       "      <th>topic_8</th>\n",
       "      <th>topic_9</th>\n",
       "      <th>topic_10</th>\n",
       "      <th>topic_11</th>\n",
       "      <th>topic_12</th>\n",
       "      <th>topic_13</th>\n",
       "      <th>topic_14</th>\n",
       "      <th>topic_15</th>\n",
       "    </tr>\n",
       "  </thead>\n",
       "  <tbody>\n",
       "    <tr>\n",
       "      <th>0</th>\n",
       "      <td>u105138</td>\n",
       "      <td>0.296038</td>\n",
       "      <td>0.0</td>\n",
       "      <td>0.044661</td>\n",
       "      <td>0.000000</td>\n",
       "      <td>0.000000</td>\n",
       "      <td>0.000000</td>\n",
       "      <td>0.034541</td>\n",
       "      <td>0.111820</td>\n",
       "      <td>0.015723</td>\n",
       "      <td>0.070813</td>\n",
       "      <td>0.0</td>\n",
       "      <td>0.0</td>\n",
       "      <td>0.0</td>\n",
       "      <td>0.000000</td>\n",
       "      <td>0.050402</td>\n",
       "      <td>0.0</td>\n",
       "    </tr>\n",
       "    <tr>\n",
       "      <th>1</th>\n",
       "      <td>u108690</td>\n",
       "      <td>0.029720</td>\n",
       "      <td>0.0</td>\n",
       "      <td>0.000000</td>\n",
       "      <td>0.038807</td>\n",
       "      <td>0.038002</td>\n",
       "      <td>0.063937</td>\n",
       "      <td>0.027451</td>\n",
       "      <td>0.188528</td>\n",
       "      <td>0.037141</td>\n",
       "      <td>0.291323</td>\n",
       "      <td>0.0</td>\n",
       "      <td>0.0</td>\n",
       "      <td>0.0</td>\n",
       "      <td>0.137382</td>\n",
       "      <td>0.000000</td>\n",
       "      <td>0.0</td>\n",
       "    </tr>\n",
       "  </tbody>\n",
       "</table>\n",
       "</div>"
      ],
      "text/plain": [
       "       uid   topic_0  topic_1   topic_2   topic_3   topic_4   topic_5  \\\n",
       "0  u105138  0.296038      0.0  0.044661  0.000000  0.000000  0.000000   \n",
       "1  u108690  0.029720      0.0  0.000000  0.038807  0.038002  0.063937   \n",
       "\n",
       "    topic_6   topic_7   topic_8   topic_9  topic_10  topic_11  topic_12  \\\n",
       "0  0.034541  0.111820  0.015723  0.070813       0.0       0.0       0.0   \n",
       "1  0.027451  0.188528  0.037141  0.291323       0.0       0.0       0.0   \n",
       "\n",
       "   topic_13  topic_14  topic_15  \n",
       "0  0.000000  0.050402       0.0  \n",
       "1  0.137382  0.000000       0.0  "
      ]
     },
     "execution_count": 59,
     "metadata": {},
     "output_type": "execute_result"
    }
   ],
   "source": [
    "user_embeddings_median.head(2)"
   ]
  },
  {
   "cell_type": "markdown",
   "metadata": {
    "id": "dZNF_ZXSMIG8"
   },
   "source": [
    "Датасеты готов - можно попробовать обучить модель. Загрузим нашу разметку"
   ]
  },
  {
   "cell_type": "code",
   "execution_count": 60,
   "metadata": {
    "colab": {
     "base_uri": "https://localhost:8080/",
     "height": 142
    },
    "id": "L2mVHGMPMIG9",
    "outputId": "628307eb-ec59-4a22-c701-8f8dfc4f26f7"
   },
   "outputs": [
    {
     "data": {
      "text/html": [
       "<div>\n",
       "<style scoped>\n",
       "    .dataframe tbody tr th:only-of-type {\n",
       "        vertical-align: middle;\n",
       "    }\n",
       "\n",
       "    .dataframe tbody tr th {\n",
       "        vertical-align: top;\n",
       "    }\n",
       "\n",
       "    .dataframe thead th {\n",
       "        text-align: right;\n",
       "    }\n",
       "</style>\n",
       "<table border=\"1\" class=\"dataframe\">\n",
       "  <thead>\n",
       "    <tr style=\"text-align: right;\">\n",
       "      <th></th>\n",
       "      <th>uid</th>\n",
       "      <th>churn</th>\n",
       "    </tr>\n",
       "  </thead>\n",
       "  <tbody>\n",
       "    <tr>\n",
       "      <th>0</th>\n",
       "      <td>u107120</td>\n",
       "      <td>0</td>\n",
       "    </tr>\n",
       "    <tr>\n",
       "      <th>1</th>\n",
       "      <td>u102277</td>\n",
       "      <td>0</td>\n",
       "    </tr>\n",
       "    <tr>\n",
       "      <th>2</th>\n",
       "      <td>u102444</td>\n",
       "      <td>0</td>\n",
       "    </tr>\n",
       "  </tbody>\n",
       "</table>\n",
       "</div>"
      ],
      "text/plain": [
       "       uid  churn\n",
       "0  u107120      0\n",
       "1  u102277      0\n",
       "2  u102444      0"
      ]
     },
     "execution_count": 60,
     "metadata": {},
     "output_type": "execute_result"
    }
   ],
   "source": [
    "target = pd.read_csv(\"../lesson_2/users_churn.csv\")\n",
    "target.head(3)"
   ]
  },
  {
   "cell_type": "code",
   "execution_count": 61,
   "metadata": {
    "colab": {
     "base_uri": "https://localhost:8080/",
     "height": 162
    },
    "id": "qXzy3pA2MIG9",
    "outputId": "e663bed4-96e4-4760-c1b3-7ea3953299dd"
   },
   "outputs": [
    {
     "data": {
      "text/html": [
       "<div>\n",
       "<style scoped>\n",
       "    .dataframe tbody tr th:only-of-type {\n",
       "        vertical-align: middle;\n",
       "    }\n",
       "\n",
       "    .dataframe tbody tr th {\n",
       "        vertical-align: top;\n",
       "    }\n",
       "\n",
       "    .dataframe thead th {\n",
       "        text-align: right;\n",
       "    }\n",
       "</style>\n",
       "<table border=\"1\" class=\"dataframe\">\n",
       "  <thead>\n",
       "    <tr style=\"text-align: right;\">\n",
       "      <th></th>\n",
       "      <th>uid</th>\n",
       "      <th>topic_0</th>\n",
       "      <th>topic_1</th>\n",
       "      <th>topic_2</th>\n",
       "      <th>topic_3</th>\n",
       "      <th>topic_4</th>\n",
       "      <th>topic_5</th>\n",
       "      <th>topic_6</th>\n",
       "      <th>topic_7</th>\n",
       "      <th>topic_8</th>\n",
       "      <th>topic_9</th>\n",
       "      <th>topic_10</th>\n",
       "      <th>topic_11</th>\n",
       "      <th>topic_12</th>\n",
       "      <th>topic_13</th>\n",
       "      <th>topic_14</th>\n",
       "      <th>topic_15</th>\n",
       "      <th>churn</th>\n",
       "    </tr>\n",
       "  </thead>\n",
       "  <tbody>\n",
       "    <tr>\n",
       "      <th>0</th>\n",
       "      <td>u105138</td>\n",
       "      <td>0.456051</td>\n",
       "      <td>0.000000</td>\n",
       "      <td>0.142729</td>\n",
       "      <td>0.160020</td>\n",
       "      <td>0.05059</td>\n",
       "      <td>0.167100</td>\n",
       "      <td>0.371020</td>\n",
       "      <td>0.247944</td>\n",
       "      <td>0.148303</td>\n",
       "      <td>0.399594</td>\n",
       "      <td>0.053527</td>\n",
       "      <td>0.000000</td>\n",
       "      <td>0.026839</td>\n",
       "      <td>0.337721</td>\n",
       "      <td>0.116317</td>\n",
       "      <td>0.000000</td>\n",
       "      <td>0</td>\n",
       "    </tr>\n",
       "    <tr>\n",
       "      <th>1</th>\n",
       "      <td>u108690</td>\n",
       "      <td>0.061633</td>\n",
       "      <td>0.040891</td>\n",
       "      <td>0.093657</td>\n",
       "      <td>0.093801</td>\n",
       "      <td>0.28078</td>\n",
       "      <td>0.169850</td>\n",
       "      <td>0.143545</td>\n",
       "      <td>0.365685</td>\n",
       "      <td>0.068512</td>\n",
       "      <td>0.518463</td>\n",
       "      <td>0.000000</td>\n",
       "      <td>0.000000</td>\n",
       "      <td>0.029985</td>\n",
       "      <td>0.204592</td>\n",
       "      <td>0.249280</td>\n",
       "      <td>0.000000</td>\n",
       "      <td>1</td>\n",
       "    </tr>\n",
       "    <tr>\n",
       "      <th>2</th>\n",
       "      <td>u108339</td>\n",
       "      <td>0.209333</td>\n",
       "      <td>0.000000</td>\n",
       "      <td>0.383240</td>\n",
       "      <td>0.116644</td>\n",
       "      <td>0.11487</td>\n",
       "      <td>0.156311</td>\n",
       "      <td>0.091147</td>\n",
       "      <td>0.076972</td>\n",
       "      <td>0.168066</td>\n",
       "      <td>0.456158</td>\n",
       "      <td>0.000000</td>\n",
       "      <td>0.012062</td>\n",
       "      <td>0.000000</td>\n",
       "      <td>0.215745</td>\n",
       "      <td>0.215254</td>\n",
       "      <td>0.033448</td>\n",
       "      <td>1</td>\n",
       "    </tr>\n",
       "  </tbody>\n",
       "</table>\n",
       "</div>"
      ],
      "text/plain": [
       "       uid   topic_0   topic_1   topic_2   topic_3  topic_4   topic_5  \\\n",
       "0  u105138  0.456051  0.000000  0.142729  0.160020  0.05059  0.167100   \n",
       "1  u108690  0.061633  0.040891  0.093657  0.093801  0.28078  0.169850   \n",
       "2  u108339  0.209333  0.000000  0.383240  0.116644  0.11487  0.156311   \n",
       "\n",
       "    topic_6   topic_7   topic_8   topic_9  topic_10  topic_11  topic_12  \\\n",
       "0  0.371020  0.247944  0.148303  0.399594  0.053527  0.000000  0.026839   \n",
       "1  0.143545  0.365685  0.068512  0.518463  0.000000  0.000000  0.029985   \n",
       "2  0.091147  0.076972  0.168066  0.456158  0.000000  0.012062  0.000000   \n",
       "\n",
       "   topic_13  topic_14  topic_15  churn  \n",
       "0  0.337721  0.116317  0.000000      0  \n",
       "1  0.204592  0.249280  0.000000      1  \n",
       "2  0.215745  0.215254  0.033448      1  "
      ]
     },
     "execution_count": 61,
     "metadata": {},
     "output_type": "execute_result"
    }
   ],
   "source": [
    "X_max = pd.merge(user_embeddings_max, target, 'left')\n",
    "X_max.head(3)"
   ]
  },
  {
   "cell_type": "code",
   "execution_count": 62,
   "metadata": {},
   "outputs": [
    {
     "data": {
      "text/html": [
       "<div>\n",
       "<style scoped>\n",
       "    .dataframe tbody tr th:only-of-type {\n",
       "        vertical-align: middle;\n",
       "    }\n",
       "\n",
       "    .dataframe tbody tr th {\n",
       "        vertical-align: top;\n",
       "    }\n",
       "\n",
       "    .dataframe thead th {\n",
       "        text-align: right;\n",
       "    }\n",
       "</style>\n",
       "<table border=\"1\" class=\"dataframe\">\n",
       "  <thead>\n",
       "    <tr style=\"text-align: right;\">\n",
       "      <th></th>\n",
       "      <th>uid</th>\n",
       "      <th>topic_0</th>\n",
       "      <th>topic_1</th>\n",
       "      <th>topic_2</th>\n",
       "      <th>topic_3</th>\n",
       "      <th>topic_4</th>\n",
       "      <th>topic_5</th>\n",
       "      <th>topic_6</th>\n",
       "      <th>topic_7</th>\n",
       "      <th>topic_8</th>\n",
       "      <th>topic_9</th>\n",
       "      <th>topic_10</th>\n",
       "      <th>topic_11</th>\n",
       "      <th>topic_12</th>\n",
       "      <th>topic_13</th>\n",
       "      <th>topic_14</th>\n",
       "      <th>topic_15</th>\n",
       "      <th>churn</th>\n",
       "    </tr>\n",
       "  </thead>\n",
       "  <tbody>\n",
       "    <tr>\n",
       "      <th>0</th>\n",
       "      <td>u105138</td>\n",
       "      <td>0.254721</td>\n",
       "      <td>0.000000</td>\n",
       "      <td>0.053865</td>\n",
       "      <td>0.044912</td>\n",
       "      <td>0.008432</td>\n",
       "      <td>0.048692</td>\n",
       "      <td>0.105671</td>\n",
       "      <td>0.107085</td>\n",
       "      <td>0.054635</td>\n",
       "      <td>0.156345</td>\n",
       "      <td>0.01167</td>\n",
       "      <td>0.00000</td>\n",
       "      <td>0.004473</td>\n",
       "      <td>0.078708</td>\n",
       "      <td>0.054658</td>\n",
       "      <td>0.000000</td>\n",
       "      <td>0</td>\n",
       "    </tr>\n",
       "    <tr>\n",
       "      <th>1</th>\n",
       "      <td>u108690</td>\n",
       "      <td>0.031453</td>\n",
       "      <td>0.006815</td>\n",
       "      <td>0.023653</td>\n",
       "      <td>0.041814</td>\n",
       "      <td>0.070839</td>\n",
       "      <td>0.074940</td>\n",
       "      <td>0.038184</td>\n",
       "      <td>0.174359</td>\n",
       "      <td>0.038257</td>\n",
       "      <td>0.302805</td>\n",
       "      <td>0.00000</td>\n",
       "      <td>0.00000</td>\n",
       "      <td>0.004998</td>\n",
       "      <td>0.131083</td>\n",
       "      <td>0.053506</td>\n",
       "      <td>0.000000</td>\n",
       "      <td>1</td>\n",
       "    </tr>\n",
       "    <tr>\n",
       "      <th>2</th>\n",
       "      <td>u108339</td>\n",
       "      <td>0.074112</td>\n",
       "      <td>0.000000</td>\n",
       "      <td>0.107383</td>\n",
       "      <td>0.019441</td>\n",
       "      <td>0.058017</td>\n",
       "      <td>0.071990</td>\n",
       "      <td>0.038093</td>\n",
       "      <td>0.039153</td>\n",
       "      <td>0.129227</td>\n",
       "      <td>0.222193</td>\n",
       "      <td>0.00000</td>\n",
       "      <td>0.00201</td>\n",
       "      <td>0.000000</td>\n",
       "      <td>0.142248</td>\n",
       "      <td>0.078587</td>\n",
       "      <td>0.008683</td>\n",
       "      <td>1</td>\n",
       "    </tr>\n",
       "  </tbody>\n",
       "</table>\n",
       "</div>"
      ],
      "text/plain": [
       "       uid   topic_0   topic_1   topic_2   topic_3   topic_4   topic_5  \\\n",
       "0  u105138  0.254721  0.000000  0.053865  0.044912  0.008432  0.048692   \n",
       "1  u108690  0.031453  0.006815  0.023653  0.041814  0.070839  0.074940   \n",
       "2  u108339  0.074112  0.000000  0.107383  0.019441  0.058017  0.071990   \n",
       "\n",
       "    topic_6   topic_7   topic_8   topic_9  topic_10  topic_11  topic_12  \\\n",
       "0  0.105671  0.107085  0.054635  0.156345   0.01167   0.00000  0.004473   \n",
       "1  0.038184  0.174359  0.038257  0.302805   0.00000   0.00000  0.004998   \n",
       "2  0.038093  0.039153  0.129227  0.222193   0.00000   0.00201  0.000000   \n",
       "\n",
       "   topic_13  topic_14  topic_15  churn  \n",
       "0  0.078708  0.054658  0.000000      0  \n",
       "1  0.131083  0.053506  0.000000      1  \n",
       "2  0.142248  0.078587  0.008683      1  "
      ]
     },
     "execution_count": 62,
     "metadata": {},
     "output_type": "execute_result"
    }
   ],
   "source": [
    "X_mean = pd.merge(user_embeddings_mean, target, 'left')\n",
    "X_mean.head(3)"
   ]
  },
  {
   "cell_type": "code",
   "execution_count": 63,
   "metadata": {},
   "outputs": [
    {
     "data": {
      "text/html": [
       "<div>\n",
       "<style scoped>\n",
       "    .dataframe tbody tr th:only-of-type {\n",
       "        vertical-align: middle;\n",
       "    }\n",
       "\n",
       "    .dataframe tbody tr th {\n",
       "        vertical-align: top;\n",
       "    }\n",
       "\n",
       "    .dataframe thead th {\n",
       "        text-align: right;\n",
       "    }\n",
       "</style>\n",
       "<table border=\"1\" class=\"dataframe\">\n",
       "  <thead>\n",
       "    <tr style=\"text-align: right;\">\n",
       "      <th></th>\n",
       "      <th>uid</th>\n",
       "      <th>topic_0</th>\n",
       "      <th>topic_1</th>\n",
       "      <th>topic_2</th>\n",
       "      <th>topic_3</th>\n",
       "      <th>topic_4</th>\n",
       "      <th>topic_5</th>\n",
       "      <th>topic_6</th>\n",
       "      <th>topic_7</th>\n",
       "      <th>topic_8</th>\n",
       "      <th>topic_9</th>\n",
       "      <th>topic_10</th>\n",
       "      <th>topic_11</th>\n",
       "      <th>topic_12</th>\n",
       "      <th>topic_13</th>\n",
       "      <th>topic_14</th>\n",
       "      <th>topic_15</th>\n",
       "      <th>churn</th>\n",
       "    </tr>\n",
       "  </thead>\n",
       "  <tbody>\n",
       "    <tr>\n",
       "      <th>0</th>\n",
       "      <td>u105138</td>\n",
       "      <td>0.254721</td>\n",
       "      <td>0.000000</td>\n",
       "      <td>0.053865</td>\n",
       "      <td>0.044912</td>\n",
       "      <td>0.008432</td>\n",
       "      <td>0.048692</td>\n",
       "      <td>0.105671</td>\n",
       "      <td>0.107085</td>\n",
       "      <td>0.054635</td>\n",
       "      <td>0.156345</td>\n",
       "      <td>0.01167</td>\n",
       "      <td>0.00000</td>\n",
       "      <td>0.004473</td>\n",
       "      <td>0.078708</td>\n",
       "      <td>0.054658</td>\n",
       "      <td>0.000000</td>\n",
       "      <td>0</td>\n",
       "    </tr>\n",
       "    <tr>\n",
       "      <th>1</th>\n",
       "      <td>u108690</td>\n",
       "      <td>0.031453</td>\n",
       "      <td>0.006815</td>\n",
       "      <td>0.023653</td>\n",
       "      <td>0.041814</td>\n",
       "      <td>0.070839</td>\n",
       "      <td>0.074940</td>\n",
       "      <td>0.038184</td>\n",
       "      <td>0.174359</td>\n",
       "      <td>0.038257</td>\n",
       "      <td>0.302805</td>\n",
       "      <td>0.00000</td>\n",
       "      <td>0.00000</td>\n",
       "      <td>0.004998</td>\n",
       "      <td>0.131083</td>\n",
       "      <td>0.053506</td>\n",
       "      <td>0.000000</td>\n",
       "      <td>1</td>\n",
       "    </tr>\n",
       "    <tr>\n",
       "      <th>2</th>\n",
       "      <td>u108339</td>\n",
       "      <td>0.074112</td>\n",
       "      <td>0.000000</td>\n",
       "      <td>0.107383</td>\n",
       "      <td>0.019441</td>\n",
       "      <td>0.058017</td>\n",
       "      <td>0.071990</td>\n",
       "      <td>0.038093</td>\n",
       "      <td>0.039153</td>\n",
       "      <td>0.129227</td>\n",
       "      <td>0.222193</td>\n",
       "      <td>0.00000</td>\n",
       "      <td>0.00201</td>\n",
       "      <td>0.000000</td>\n",
       "      <td>0.142248</td>\n",
       "      <td>0.078587</td>\n",
       "      <td>0.008683</td>\n",
       "      <td>1</td>\n",
       "    </tr>\n",
       "  </tbody>\n",
       "</table>\n",
       "</div>"
      ],
      "text/plain": [
       "       uid   topic_0   topic_1   topic_2   topic_3   topic_4   topic_5  \\\n",
       "0  u105138  0.254721  0.000000  0.053865  0.044912  0.008432  0.048692   \n",
       "1  u108690  0.031453  0.006815  0.023653  0.041814  0.070839  0.074940   \n",
       "2  u108339  0.074112  0.000000  0.107383  0.019441  0.058017  0.071990   \n",
       "\n",
       "    topic_6   topic_7   topic_8   topic_9  topic_10  topic_11  topic_12  \\\n",
       "0  0.105671  0.107085  0.054635  0.156345   0.01167   0.00000  0.004473   \n",
       "1  0.038184  0.174359  0.038257  0.302805   0.00000   0.00000  0.004998   \n",
       "2  0.038093  0.039153  0.129227  0.222193   0.00000   0.00201  0.000000   \n",
       "\n",
       "   topic_13  topic_14  topic_15  churn  \n",
       "0  0.078708  0.054658  0.000000      0  \n",
       "1  0.131083  0.053506  0.000000      1  \n",
       "2  0.142248  0.078587  0.008683      1  "
      ]
     },
     "execution_count": 63,
     "metadata": {},
     "output_type": "execute_result"
    }
   ],
   "source": [
    "X_median = pd.merge(user_embeddings_mean, target, 'left')\n",
    "X_median.head(3)"
   ]
  },
  {
   "cell_type": "code",
   "execution_count": 64,
   "metadata": {
    "id": "Un-dl_vDMIHM"
   },
   "outputs": [],
   "source": [
    "from sklearn.linear_model import LogisticRegression\n",
    "from sklearn.model_selection import train_test_split\n",
    "#import itertools\n",
    "\n",
    "import matplotlib.pyplot as plt\n",
    "\n",
    "%matplotlib inline"
   ]
  },
  {
   "cell_type": "markdown",
   "metadata": {},
   "source": [
    "## Разбивка Xmax, Xmean, Xmedian"
   ]
  },
  {
   "cell_type": "code",
   "execution_count": 65,
   "metadata": {
    "id": "rzq-WEIJMIHO"
   },
   "outputs": [],
   "source": [
    "#разделим данные на train/test\n",
    "X_train_max, X_test_max, y_train_max, y_test_max = train_test_split(X_max[['topic_{}'.format(i) for i in range(N_topic)]], \n",
    "                                                    X_max['churn'], random_state=0, test_size=0.25)"
   ]
  },
  {
   "cell_type": "code",
   "execution_count": 66,
   "metadata": {},
   "outputs": [],
   "source": [
    "X_train_mean, X_test_mean, y_train_mean, y_test_mean = train_test_split(X_mean[['topic_{}'.format(i) for i in range(N_topic)]], \n",
    "                                                    X_mean['churn'], random_state=0, test_size=0.25)"
   ]
  },
  {
   "cell_type": "code",
   "execution_count": 67,
   "metadata": {},
   "outputs": [],
   "source": [
    "X_train_median, X_test_median, y_train_median, y_test_median = train_test_split(X_median[['topic_{}'.format(i) for i in range(N_topic)]], \n",
    "                                                    X_median['churn'], random_state=0, test_size=0.25)"
   ]
  },
  {
   "cell_type": "markdown",
   "metadata": {},
   "source": [
    "## Обучение и прогнозы Max-Mean-Median"
   ]
  },
  {
   "cell_type": "code",
   "execution_count": 68,
   "metadata": {
    "colab": {
     "base_uri": "https://localhost:8080/"
    },
    "id": "EBQsn00QMIHO",
    "outputId": "1e563da0-19ac-46c4-a19b-bbf2f0105db6"
   },
   "outputs": [
    {
     "data": {
      "text/plain": [
       "LogisticRegression()"
      ]
     },
     "execution_count": 68,
     "metadata": {},
     "output_type": "execute_result"
    }
   ],
   "source": [
    "logreg_max = LogisticRegression(C=1.0)\n",
    "#обучим наш пайплайн max\n",
    "logreg_max.fit(X_train_max, y_train_max)"
   ]
  },
  {
   "cell_type": "code",
   "execution_count": 69,
   "metadata": {},
   "outputs": [
    {
     "data": {
      "text/plain": [
       "LogisticRegression()"
      ]
     },
     "execution_count": 69,
     "metadata": {},
     "output_type": "execute_result"
    }
   ],
   "source": [
    "logreg_mean = LogisticRegression(C=1.0)\n",
    "#обучим наш пайплайн mean\n",
    "logreg_mean.fit(X_train_mean, y_train_mean)"
   ]
  },
  {
   "cell_type": "code",
   "execution_count": 70,
   "metadata": {},
   "outputs": [
    {
     "data": {
      "text/plain": [
       "LogisticRegression()"
      ]
     },
     "execution_count": 70,
     "metadata": {},
     "output_type": "execute_result"
    }
   ],
   "source": [
    "logreg_median = LogisticRegression(C=1.0)\n",
    "#обучим наш пайплайн median\n",
    "logreg_median.fit(X_train_median, y_train_median)"
   ]
  },
  {
   "cell_type": "code",
   "execution_count": 71,
   "metadata": {
    "colab": {
     "base_uri": "https://localhost:8080/"
    },
    "id": "GqftFfoOMIHP",
    "outputId": "4c8d353d-533b-4b07-ad66-c0849ad183e6"
   },
   "outputs": [
    {
     "data": {
      "text/plain": [
       "array([0.24619884, 0.01230555, 0.71762829, 0.31841793, 0.00736034,\n",
       "       0.0153157 , 0.15830618, 0.07107414, 0.02912572, 0.31190169])"
      ]
     },
     "execution_count": 71,
     "metadata": {},
     "output_type": "execute_result"
    }
   ],
   "source": [
    "#наши прогнозы для тестовой выборки\n",
    "preds_max = logreg_max.predict_proba(X_test_max)[:, 1]\n",
    "preds_max[:10]"
   ]
  },
  {
   "cell_type": "code",
   "execution_count": 72,
   "metadata": {},
   "outputs": [
    {
     "data": {
      "text/plain": [
       "array([0.24519335, 0.0507884 , 0.2801477 , 0.17253345, 0.03674922,\n",
       "       0.0648931 , 0.25315243, 0.07430764, 0.12103236, 0.30904242])"
      ]
     },
     "execution_count": 72,
     "metadata": {},
     "output_type": "execute_result"
    }
   ],
   "source": [
    "preds_mean = logreg_mean.predict_proba(X_test_mean)[:, 1]\n",
    "preds_mean[:10]"
   ]
  },
  {
   "cell_type": "code",
   "execution_count": 73,
   "metadata": {},
   "outputs": [
    {
     "data": {
      "text/plain": [
       "array([0.24519335, 0.0507884 , 0.2801477 , 0.17253345, 0.03674922,\n",
       "       0.0648931 , 0.25315243, 0.07430764, 0.12103236, 0.30904242])"
      ]
     },
     "execution_count": 73,
     "metadata": {},
     "output_type": "execute_result"
    }
   ],
   "source": [
    "preds_median = logreg_median.predict_proba(X_test_median)[:, 1]\n",
    "preds_median[:10]"
   ]
  },
  {
   "cell_type": "code",
   "execution_count": 74,
   "metadata": {
    "id": "nQKM7kKtMIHU"
   },
   "outputs": [],
   "source": [
    "from sklearn.metrics import f1_score, roc_auc_score, precision_score, classification_report, precision_recall_curve, confusion_matrix"
   ]
  },
  {
   "cell_type": "markdown",
   "metadata": {
    "id": "_X_oDrlNMIHV"
   },
   "source": [
    "### Рассчитаем Precision, Recall, F_score для наших случаев"
   ]
  },
  {
   "cell_type": "code",
   "execution_count": 75,
   "metadata": {
    "colab": {
     "base_uri": "https://localhost:8080/",
     "height": 295
    },
    "id": "vFnKI0lCQ91K",
    "outputId": "23b87772-6878-47f7-8f8f-16815bf1250d"
   },
   "outputs": [
    {
     "data": {
      "image/png": "[encoded data removed]",
      "text/plain": [
       "<Figure size 864x576 with 3 Axes>"
      ]
     },
     "metadata": {
      "needs_background": "light"
     },
     "output_type": "display_data"
    }
   ],
   "source": [
    "fig, ax = plt.subplots(nrows=3)\n",
    "fig.set_size_inches(12, 8)\n",
    "ax1, ax2, ax3 = ax.flatten()\n",
    "\n",
    "ax1.plot(preds_max[:100], label = 'predict')\n",
    "ax1.plot(y_test_max.values[:100], label = 'true')\n",
    "ax1.set_title('ответ модели с примером Max')\n",
    "ax1.set_xlabel('пример c Max')\n",
    "ax1.set_ylabel(' выход')\n",
    "ax1.legend()\n",
    "ax1.grid(True)\n",
    "\n",
    "ax2.plot(preds_mean[:100], label = 'predict')\n",
    "ax2.plot(y_test_mean.values[:100], label = 'true')\n",
    "ax2.set_title('ответ модели c примером Mean')\n",
    "ax2.set_xlabel('пример c Mean')\n",
    "ax2.set_ylabel(' выход')\n",
    "ax2.legend()\n",
    "ax2.grid(True)\n",
    "\n",
    "ax3.plot(preds_median[:100], label = 'predict')\n",
    "ax3.plot(y_test_median.values[:100], label = 'true')\n",
    "ax3.set_title('ответ модели с примером Median')\n",
    "ax3.set_xlabel('пример c Median')\n",
    "ax3.set_ylabel(' выход')\n",
    "ax3.legend()\n",
    "ax3.grid(True)\n",
    "\n",
    "fig.subplots_adjust(bottom = 0.1, top = 1.3, wspace=1.3, hspace=0.3)\n"
   ]
  },
  {
   "cell_type": "code",
   "execution_count": 76,
   "metadata": {
    "id": "J04r8edvMIHV"
   },
   "outputs": [],
   "source": [
    "precision_max, recall_max, thresholds_max = precision_recall_curve(y_test_max.values, preds_max)"
   ]
  },
  {
   "cell_type": "code",
   "execution_count": 77,
   "metadata": {},
   "outputs": [],
   "source": [
    "precision_mean, recall_mean, thresholds_mean = precision_recall_curve(y_test_mean.values, preds_mean)"
   ]
  },
  {
   "cell_type": "code",
   "execution_count": 78,
   "metadata": {},
   "outputs": [],
   "source": [
    "precision_median, recall_median, thresholds_median = precision_recall_curve(y_test_median.values, preds_median)"
   ]
  },
  {
   "cell_type": "markdown",
   "metadata": {},
   "source": [
    "## Fscore Max-Mean-Median"
   ]
  },
  {
   "cell_type": "code",
   "execution_count": 79,
   "metadata": {
    "colab": {
     "base_uri": "https://localhost:8080/"
    },
    "id": "a_M4X_aj_1Q-",
    "outputId": "2bc8dc05-db51-49b7-8026-38093e509290"
   },
   "outputs": [
    {
     "name": "stdout",
     "output_type": "stream",
     "text": [
      "Best Threshold=0.367402, F-Score=0.739, Precision=0.739, Recall=0.739\n"
     ]
    }
   ],
   "source": [
    "n=-1\n",
    "fscore_max = (2 * precision_max[:n] * recall_max[:n]) / (precision_max[:n] + recall_max[:n])\n",
    "\n",
    "# locate the index of the largest f score\n",
    "ix = np.argmax(fscore_max)\n",
    "print('Best Threshold=%f, F-Score=%.3f, Precision=%.3f, Recall=%.3f' % (thresholds_max[ix], \n",
    "                                                                        fscore_max[ix],\n",
    "                                                                        precision_max[ix],\n",
    "                                                                        recall_max[ix]))"
   ]
  },
  {
   "cell_type": "code",
   "execution_count": 80,
   "metadata": {},
   "outputs": [
    {
     "name": "stdout",
     "output_type": "stream",
     "text": [
      "Best Threshold=0.241227, F-Score=0.663, Precision=0.579, Recall=0.776\n"
     ]
    }
   ],
   "source": [
    "n=-1\n",
    "fscore_mean = (2 * precision_mean[:n] * recall_mean[:n]) / (precision_mean[:n] + recall_mean[:n])\n",
    "\n",
    "# locate the index of the largest f score\n",
    "ix = np.argmax(fscore_mean)\n",
    "print('Best Threshold=%f, F-Score=%.3f, Precision=%.3f, Recall=%.3f' % (thresholds_mean[ix], \n",
    "                                                                        fscore_mean[ix],\n",
    "                                                                        precision_mean[ix],\n",
    "                                                                        recall_mean[ix]))"
   ]
  },
  {
   "cell_type": "code",
   "execution_count": 81,
   "metadata": {},
   "outputs": [
    {
     "name": "stdout",
     "output_type": "stream",
     "text": [
      "Best Threshold=0.241227, F-Score=0.663, Precision=0.579, Recall=0.776\n"
     ]
    }
   ],
   "source": [
    "n=-1\n",
    "fscore_median = (2 * precision_median[:n] * recall_median[:n]) / (precision_median[:n] + recall_median[:n])\n",
    "\n",
    "# locate the index of the largest f score\n",
    "ix = np.argmax(fscore_median)\n",
    "print('Best Threshold=%f, F-Score=%.3f, Precision=%.3f, Recall=%.3f' % (thresholds_median[ix], \n",
    "                                                                        fscore_median[ix],\n",
    "                                                                        precision_median[ix],\n",
    "                                                                        recall_median[ix]))"
   ]
  },
  {
   "cell_type": "code",
   "execution_count": 83,
   "metadata": {},
   "outputs": [
    {
     "data": {
      "image/png": "[encoded data removed]",
      "text/plain": [
       "<Figure size 576x576 with 3 Axes>"
      ]
     },
     "metadata": {
      "needs_background": "light"
     },
     "output_type": "display_data"
    }
   ],
   "source": [
    "fig, ax = plt.subplots(nrows=3)\n",
    "fig.set_size_inches(8, 8)\n",
    "ax1, ax2, ax3 = ax.flatten()\n",
    "\n",
    "ax1.plot(recall_max[:n],precision_max[:n] )\n",
    "ax1.set_title(' точность/полнота для max')\n",
    "ax1.set_xlabel(' полнота max')\n",
    "ax1.set_ylabel(' точность')\n",
    "ax1.grid(True)\n",
    "\n",
    "ax2.plot(recall_mean[:n],precision_mean[:n] )\n",
    "ax2.set_title(' точность/полнота для mean')\n",
    "ax2.set_xlabel(' полнота mean')\n",
    "ax2.set_ylabel(' точность')\n",
    "ax2.grid(True)\n",
    "\n",
    "ax3.plot(recall_median[:n],precision_median[:n] )\n",
    "ax3.set_title(' точность/полнота для median')\n",
    "ax3.set_xlabel(' полнота median')\n",
    "ax3.set_ylabel(' точность')\n",
    "ax3.grid(True)\n",
    "\n",
    "fig.subplots_adjust(bottom = 0.1, top = 1.3, wspace=1.3, hspace=0.3)\n"
   ]
  },
  {
   "cell_type": "code",
   "execution_count": 84,
   "metadata": {
    "id": "fGe9uvYRYsQf"
   },
   "outputs": [],
   "source": [
    "import itertools"
   ]
  },
  {
   "cell_type": "code",
   "execution_count": 85,
   "metadata": {
    "id": "Q-yiXb5qMIHW"
   },
   "outputs": [],
   "source": [
    "def plot_confusion_matrix(cm, classes,\n",
    "                          normalize=False,\n",
    "                          title='Confusion matrix',\n",
    "                          cmap=plt.cm.Blues):\n",
    "    \"\"\"\n",
    "    This function prints and plots the confusion matrix.\n",
    "    Normalization can be applied by setting `normalize=True`.\n",
    "    \"\"\"\n",
    "    plt.imshow(cm, interpolation='nearest', cmap=cmap)\n",
    "    plt.title(title)\n",
    "    plt.colorbar()\n",
    "    tick_marks = np.arange(len(classes))\n",
    "    plt.xticks(tick_marks, classes, rotation=45)\n",
    "    plt.yticks(tick_marks, classes)\n",
    "\n",
    "    if normalize:\n",
    "        cm = cm.astype('float') / cm.sum(axis=1)[:, np.newaxis]\n",
    "        print(\"Normalized confusion matrix\")\n",
    "    else:\n",
    "        print('Confusion matrix, without normalization')\n",
    "\n",
    "    print(cm)\n",
    "\n",
    "    thresh = cm.max() \n",
    "    for i, j in itertools.product(range(cm.shape[0]), range(cm.shape[1])):\n",
    "        plt.text(j, i, cm[i, j],\n",
    "                 horizontalalignment=\"center\",\n",
    "                 color=\"white\" if cm[i, j] > thresh else \"black\")\n",
    "\n",
    "    plt.tight_layout()\n",
    "    plt.ylabel('True label')\n",
    "    plt.xlabel('Predicted label')"
   ]
  },
  {
   "cell_type": "markdown",
   "metadata": {},
   "source": [
    "## Confusion matrix for Max example"
   ]
  },
  {
   "cell_type": "code",
   "execution_count": 86,
   "metadata": {
    "colab": {
     "base_uri": "https://localhost:8080/",
     "height": 644
    },
    "id": "ALvrhVX3MIHW",
    "outputId": "6fe454a5-9abc-4846-d898-32c695a6c16b"
   },
   "outputs": [
    {
     "name": "stdout",
     "output_type": "stream",
     "text": [
      "Confusion matrix, without normalization\n",
      "[[1192  563]\n",
      " [   8  237]]\n"
     ]
    },
    {
     "data": {
      "image/png": "[encoded data removed]",
      "text/plain": [
       "<Figure size 720x576 with 2 Axes>"
      ]
     },
     "metadata": {
      "needs_background": "light"
     },
     "output_type": "display_data"
    }
   ],
   "source": [
    "#мы уже нашли ранее \"оптимальный\" порог, когда максимизировали f_score\n",
    "font = {'size' : 15}\n",
    "\n",
    "plt.rc('font', **font)\n",
    "\n",
    "cnf_matrix = confusion_matrix(y_test_max, preds_max>thresholds_max[ix])\n",
    "plt.figure(figsize=(10, 8))\n",
    "plot_confusion_matrix(cnf_matrix, classes=['Non-Churn', 'churn'],\n",
    "                      title='Confusion matrix for max example')\n",
    "plt.savefig(\"conf_matrix.png\")\n",
    "plt.show()"
   ]
  },
  {
   "cell_type": "markdown",
   "metadata": {},
   "source": [
    "## Confusion matrix for Mean example"
   ]
  },
  {
   "cell_type": "code",
   "execution_count": 87,
   "metadata": {},
   "outputs": [
    {
     "name": "stdout",
     "output_type": "stream",
     "text": [
      "Confusion matrix, without normalization\n",
      "[[1617  138]\n",
      " [  56  189]]\n"
     ]
    },
    {
     "data": {
      "image/png": "[encoded data removed]",
      "text/plain": [
       "<Figure size 720x576 with 2 Axes>"
      ]
     },
     "metadata": {
      "needs_background": "light"
     },
     "output_type": "display_data"
    }
   ],
   "source": [
    "#мы уже нашли ранее \"оптимальный\" порог, когда максимизировали f_score\n",
    "font = {'size' : 15}\n",
    "\n",
    "plt.rc('font', **font)\n",
    "\n",
    "cnf_matrix = confusion_matrix(y_test_mean, preds_mean>thresholds_mean[ix])\n",
    "plt.figure(figsize=(10, 8))\n",
    "plot_confusion_matrix(cnf_matrix, classes=['Non-Churn', 'churn'],\n",
    "                      title='Confusion matrix for mean example')\n",
    "plt.savefig(\"conf_matrix.png\")\n",
    "plt.show()"
   ]
  },
  {
   "cell_type": "markdown",
   "metadata": {},
   "source": [
    "## Confusion matrix for Median example"
   ]
  },
  {
   "cell_type": "code",
   "execution_count": 88,
   "metadata": {},
   "outputs": [
    {
     "name": "stdout",
     "output_type": "stream",
     "text": [
      "Confusion matrix, without normalization\n",
      "[[1617  138]\n",
      " [  56  189]]\n"
     ]
    },
    {
     "data": {
      "image/png": "[encoded data removed]",
      "text/plain": [
       "<Figure size 720x576 with 2 Axes>"
      ]
     },
     "metadata": {
      "needs_background": "light"
     },
     "output_type": "display_data"
    }
   ],
   "source": [
    "#мы уже нашли ранее \"оптимальный\" порог, когда максимизировали f_score\n",
    "font = {'size' : 15}\n",
    "\n",
    "plt.rc('font', **font)\n",
    "\n",
    "cnf_matrix = confusion_matrix(y_test_median, preds_mean>thresholds_median[ix])\n",
    "plt.figure(figsize=(10, 8))\n",
    "plot_confusion_matrix(cnf_matrix, classes=['Non-Churn', 'churn'],\n",
    "                      title='Confusion matrix for median example')\n",
    "plt.savefig(\"conf_matrix.png\")\n",
    "plt.show()"
   ]
  },
  {
   "cell_type": "code",
   "execution_count": 97,
   "metadata": {
    "colab": {
     "base_uri": "https://localhost:8080/"
    },
    "id": "vGLGf7iFMIHX",
    "outputId": "0ecddb00-3cd5-4fa8-d84b-bd976b348521"
   },
   "outputs": [],
   "source": [
    "roc_auc_max = roc_auc_score(y_test_max, preds_max)"
   ]
  },
  {
   "cell_type": "code",
   "execution_count": 98,
   "metadata": {},
   "outputs": [],
   "source": [
    "roc_auc_mean = roc_auc_score(y_test_mean, preds_mean)"
   ]
  },
  {
   "cell_type": "code",
   "execution_count": 99,
   "metadata": {},
   "outputs": [],
   "source": [
    "roc_auc_median = roc_auc_score(y_test_median, preds_median)"
   ]
  },
  {
   "cell_type": "code",
   "execution_count": 100,
   "metadata": {},
   "outputs": [],
   "source": [
    "#Ожидаемо, что значения mean, median совпали, ведь мы нормировали все данные которые к нам поступали. "
   ]
  },
  {
   "cell_type": "code",
   "execution_count": 105,
   "metadata": {},
   "outputs": [],
   "source": [
    "result = pd.DataFrame(index = ['roc_auc', 'threshold', 'fscore', 'precision', 'recall'], \n",
    "                      columns = ['max', 'mean', 'median'])"
   ]
  },
  {
   "cell_type": "code",
   "execution_count": 104,
   "metadata": {},
   "outputs": [
    {
     "data": {
      "text/plain": [
       "(0.94865515436944,\n",
       " 0.07559151996006953,\n",
       " 0.45315487571701724,\n",
       " 0.2958801498127341,\n",
       " 0.9673469387755103)"
      ]
     },
     "execution_count": 104,
     "metadata": {},
     "output_type": "execute_result"
    }
   ],
   "source": [
    "roc_auc_max, thresholds_max[ix], fscore_max[ix], precision_max[ix], recall_max[ix]"
   ]
  },
  {
   "cell_type": "code",
   "execution_count": 107,
   "metadata": {},
   "outputs": [],
   "source": [
    "result['max'] = roc_auc_max, thresholds_max[ix], fscore_max[ix], precision_max[ix], recall_max[ix]"
   ]
  },
  {
   "cell_type": "code",
   "execution_count": 108,
   "metadata": {},
   "outputs": [],
   "source": [
    "result['mean'] = roc_auc_mean, thresholds_mean[ix], fscore_mean[ix], precision_mean[ix], recall_mean[ix]"
   ]
  },
  {
   "cell_type": "code",
   "execution_count": 109,
   "metadata": {},
   "outputs": [],
   "source": [
    "result['median'] = roc_auc_median, thresholds_median[ix], fscore_median[ix], precision_median[ix], recall_median[ix]"
   ]
  },
  {
   "cell_type": "code",
   "execution_count": 110,
   "metadata": {},
   "outputs": [
    {
     "data": {
      "text/html": [
       "<div>\n",
       "<style scoped>\n",
       "    .dataframe tbody tr th:only-of-type {\n",
       "        vertical-align: middle;\n",
       "    }\n",
       "\n",
       "    .dataframe tbody tr th {\n",
       "        vertical-align: top;\n",
       "    }\n",
       "\n",
       "    .dataframe thead th {\n",
       "        text-align: right;\n",
       "    }\n",
       "</style>\n",
       "<table border=\"1\" class=\"dataframe\">\n",
       "  <thead>\n",
       "    <tr style=\"text-align: right;\">\n",
       "      <th></th>\n",
       "      <th>max</th>\n",
       "      <th>mean</th>\n",
       "      <th>median</th>\n",
       "    </tr>\n",
       "  </thead>\n",
       "  <tbody>\n",
       "    <tr>\n",
       "      <th>roc_auc</th>\n",
       "      <td>0.948655</td>\n",
       "      <td>0.935682</td>\n",
       "      <td>0.935682</td>\n",
       "    </tr>\n",
       "    <tr>\n",
       "      <th>threshold</th>\n",
       "      <td>0.075592</td>\n",
       "      <td>0.241227</td>\n",
       "      <td>0.241227</td>\n",
       "    </tr>\n",
       "    <tr>\n",
       "      <th>fscore</th>\n",
       "      <td>0.453155</td>\n",
       "      <td>0.663176</td>\n",
       "      <td>0.663176</td>\n",
       "    </tr>\n",
       "    <tr>\n",
       "      <th>precision</th>\n",
       "      <td>0.295880</td>\n",
       "      <td>0.579268</td>\n",
       "      <td>0.579268</td>\n",
       "    </tr>\n",
       "    <tr>\n",
       "      <th>recall</th>\n",
       "      <td>0.967347</td>\n",
       "      <td>0.775510</td>\n",
       "      <td>0.775510</td>\n",
       "    </tr>\n",
       "  </tbody>\n",
       "</table>\n",
       "</div>"
      ],
      "text/plain": [
       "                max      mean    median\n",
       "roc_auc    0.948655  0.935682  0.935682\n",
       "threshold  0.075592  0.241227  0.241227\n",
       "fscore     0.453155  0.663176  0.663176\n",
       "precision  0.295880  0.579268  0.579268\n",
       "recall     0.967347  0.775510  0.775510"
      ]
     },
     "execution_count": 110,
     "metadata": {},
     "output_type": "execute_result"
    }
   ],
   "source": [
    "result.head()"
   ]
  },
  {
   "cell_type": "code",
   "execution_count": 111,
   "metadata": {},
   "outputs": [],
   "source": [
    "#Выводы: \n",
    "#- крайне высокие показатели по max были достигнуты как мне кажется из-за методы,\n",
    "# которым мы оперировали при реализации эмбедингов. И если от нас бизнес потребует максимальный охват,\n",
    "# то разумно строить модель, используя эту метрику. \n",
    "# - если мы должны добиться максимального precision при охвате выше среднего, то лучше mean(на отнормированных данных)\n",
    "# и median на неотнормированных. "
   ]
  },
  {
   "cell_type": "markdown",
   "metadata": {
    "id": "qPeKWD9VMIHY"
   },
   "source": [
    "В целом мы видим, что получившиеся векторные представления содержат какой-то сигнал и позволяют решать нашу прикладную задачу. "
   ]
  },
  {
   "cell_type": "markdown",
   "metadata": {},
   "source": [
    "Основная программа дз выполнена, но осталась дополнительно дз с tf-idf. Сделаем его чуть позже. "
   ]
  },
  {
   "cell_type": "markdown",
   "metadata": {
    "id": "fbxpSNMMMIHY"
   },
   "source": [
    "### Домашнее задание"
   ]
  },
  {
   "cell_type": "markdown",
   "metadata": {
    "id": "1cxL4c0tMIHZ"
   },
   "source": [
    "1. Самостоятельно разобраться с тем, что такое tfidf (документация https://scikit-learn.org/stable/modules/generated/sklearn.feature_extraction.text.TfidfVectorizer.html и еще - https://scikit-learn.org/stable/modules/feature_extraction.html#text-feature-extraction)\n",
    "2. Модифицировать код функции get_user_embedding таким образом, чтобы считалось не среднее (как в примере np.mean), а медиана. Применить такое преобразование к данным, обучить модель прогнозирования оттока и посчитать метрики качества и сохранить их: roc auc, precision/recall/f_score (для 3 последних - подобрать оптимальный порог с помощью precision_recall_curve, как это делалось на уроке)\n",
    "3. Повторить п.2, но используя уже не медиану, а max\n",
    "4. (опциональное, если очень хочется) Воспользовавшись полученными знаниями из п.1, повторить пункт 2, но уже взвешивая новости по tfidf (подсказка: нужно получить веса-коэффициенты для каждого документа. Не все документы одинаково информативны и несут какой-то положительный сигнал). Подсказка 2 - нужен именно idf, как вес.\n",
    "5. Сформировать на выходе единую таблицу, сравнивающую качество 3 разных метода получения эмбедингов пользователей: mean, median, max, idf_mean по метрикам roc_auc, precision, recall, f_score\n",
    "6. Сделать самостоятельные выводы и предположения о том, почему тот или ной способ оказался эффективнее остальных"
   ]
  },
  {
   "cell_type": "markdown",
   "metadata": {
    "id": "knu4EuwkMIHZ"
   },
   "source": [
    "#### Ссылки"
   ]
  },
  {
   "cell_type": "markdown",
   "metadata": {
    "id": "_J8Raxx3MIHZ"
   },
   "source": [
    "1. http://www.machinelearning.ru/wiki/images/d/d5/Voron17survey-artm.pdf\n",
    "2. https://en.wikipedia.org/wiki/Latent_Dirichlet_allocation"
   ]
  },
  {
   "cell_type": "markdown",
   "metadata": {
    "id": "QfwYYD1qMIHa"
   },
   "source": [
    "#### Библиотеки, которые нужно установить:\n",
    "\n",
    "1. gensim\n",
    "2. razdel\n",
    "3. pymorphy2\n",
    "4. nltk"
   ]
  },
  {
   "cell_type": "code",
   "execution_count": null,
   "metadata": {
    "id": "04kJ_-kyMIHa"
   },
   "outputs": [],
   "source": []
  }
 ],
 "metadata": {
  "colab": {
   "collapsed_sections": [
    "fbxpSNMMMIHY",
    "knu4EuwkMIHZ",
    "QfwYYD1qMIHa"
   ],
   "name": "webinar2_colab_practica_ipynb_.ipynb",
   "provenance": []
  },
  "kernelspec": {
   "display_name": "Python 3",
   "language": "python",
   "name": "python3"
  },
  "language_info": {
   "codemirror_mode": {
    "name": "ipython",
    "version": 3
   },
   "file_extension": ".py",
   "mimetype": "text/x-python",
   "name": "python",
   "nbconvert_exporter": "python",
   "pygments_lexer": "ipython3",
   "version": "3.9.6"
  }
 },
 "nbformat": 4,
 "nbformat_minor": 4
}
