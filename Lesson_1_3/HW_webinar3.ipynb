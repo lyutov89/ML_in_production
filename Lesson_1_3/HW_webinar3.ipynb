{
 "cells": [
  {
   "cell_type": "markdown",
   "id": "44beb56d",
   "metadata": {},
   "source": [
    "## Домашнее задание "
   ]
  },
  {
   "cell_type": "markdown",
   "id": "9f0ebec8",
   "metadata": {},
   "source": [
    "- обучить несколько разных моделей на наборе данных ССЗ (train_case2.csv): логрег, бустинг, лес и т.д - на ваш выбор 2-3 варианта\n",
    "\n",
    "- при обучении моделей обязательно использовать кроссвалидацию\n",
    "- вывести сравнение полученных моделей по основным метрикам классификации: pr/rec/auc/f_score (можно в виде таблицы, где строки - модели, а столбцы - метрики)\n",
    "\n",
    "сделать выводы о том, какая модель справилась с задачей лучше других\n",
    "(опциональный вопрос) какая метрика (precision_recall_curve или roc_auc_curve) больше подходит в случае сильного дисбаланса классов? (когда объектов одного из классов намного больше чем другого).\n",
    "\n",
    "p.s.В вопросе проще разобраться, если вспомнить оси на графике roc auc curve и рассмотреть такой пример:\n",
    "\n",
    "Имеется 100000 объектов, из которых только 100 - класс \"1\" (99900 - класс \"0\", соответственно).\n",
    "Допустим, у нас две модели:\n",
    "\n",
    "первая помечает 100 объектов как класс 1, но TP = 90\n",
    "вторая помечает 1000 объектов как класс 1, но TP такой же - 90\n",
    "Какая модель лучше и почему? И что позволяет легче сделать вывод - roc_auc_curve или precision_recall_curve?\n",
    "\n",
    "6. (опциональный вопрос) Найти порог классификации по деньгам (Стоимость лечения 15000 р, если сделали тест и начали лечить вовремя. Стоимость лечения 20000, если упустили и начали лечить когда уже проявились все симптомы. Стоимость теста 1400 р)"
   ]
  },
  {
   "cell_type": "code",
   "execution_count": 1,
   "id": "55ce1264",
   "metadata": {},
   "outputs": [
    {
     "name": "stderr",
     "output_type": "stream",
     "text": [
      "c:\\users\\anatoly\\appdata\\local\\programs\\python\\python39\\lib\\site-packages\\numpy\\_distributor_init.py:30: UserWarning: loaded more than 1 DLL from .libs:\n",
      "c:\\users\\anatoly\\appdata\\local\\programs\\python\\python39\\lib\\site-packages\\numpy\\.libs\\libopenblas.GK7GX5KEQ4F6UYO3P26ULGBQYHGQO7J4.gfortran-win_amd64.dll\n",
      "c:\\users\\anatoly\\appdata\\local\\programs\\python\\python39\\lib\\site-packages\\numpy\\.libs\\libopenblas.WCDJNK7YVMPZQ2ME2ZZHJJRJ3JIKNDB7.gfortran-win_amd64.dll\n",
      "  warnings.warn(\"loaded more than 1 DLL from .libs:\"\n"
     ]
    }
   ],
   "source": [
    "import pandas as pd\n",
    "import seaborn as sns\n",
    "import matplotlib.pyplot as plt\n",
    "import numpy as np\n",
    "from sklearn.metrics import precision_recall_curve, roc_curve, roc_auc_score, confusion_matrix"
   ]
  },
  {
   "cell_type": "code",
   "execution_count": 2,
   "id": "5a7eedc7",
   "metadata": {},
   "outputs": [
    {
     "data": {
      "text/html": [
       "<div>\n",
       "<style scoped>\n",
       "    .dataframe tbody tr th:only-of-type {\n",
       "        vertical-align: middle;\n",
       "    }\n",
       "\n",
       "    .dataframe tbody tr th {\n",
       "        vertical-align: top;\n",
       "    }\n",
       "\n",
       "    .dataframe thead th {\n",
       "        text-align: right;\n",
       "    }\n",
       "</style>\n",
       "<table border=\"1\" class=\"dataframe\">\n",
       "  <thead>\n",
       "    <tr style=\"text-align: right;\">\n",
       "      <th></th>\n",
       "      <th>id</th>\n",
       "      <th>age</th>\n",
       "      <th>gender</th>\n",
       "      <th>height</th>\n",
       "      <th>weight</th>\n",
       "      <th>ap_hi</th>\n",
       "      <th>ap_lo</th>\n",
       "      <th>cholesterol</th>\n",
       "      <th>gluc</th>\n",
       "      <th>smoke</th>\n",
       "      <th>alco</th>\n",
       "      <th>active</th>\n",
       "      <th>cardio</th>\n",
       "    </tr>\n",
       "  </thead>\n",
       "  <tbody>\n",
       "    <tr>\n",
       "      <th>0</th>\n",
       "      <td>0</td>\n",
       "      <td>18393</td>\n",
       "      <td>2</td>\n",
       "      <td>168</td>\n",
       "      <td>62.0</td>\n",
       "      <td>110</td>\n",
       "      <td>80</td>\n",
       "      <td>1</td>\n",
       "      <td>1</td>\n",
       "      <td>0</td>\n",
       "      <td>0</td>\n",
       "      <td>1</td>\n",
       "      <td>0</td>\n",
       "    </tr>\n",
       "    <tr>\n",
       "      <th>1</th>\n",
       "      <td>1</td>\n",
       "      <td>20228</td>\n",
       "      <td>1</td>\n",
       "      <td>156</td>\n",
       "      <td>85.0</td>\n",
       "      <td>140</td>\n",
       "      <td>90</td>\n",
       "      <td>3</td>\n",
       "      <td>1</td>\n",
       "      <td>0</td>\n",
       "      <td>0</td>\n",
       "      <td>1</td>\n",
       "      <td>1</td>\n",
       "    </tr>\n",
       "    <tr>\n",
       "      <th>2</th>\n",
       "      <td>2</td>\n",
       "      <td>18857</td>\n",
       "      <td>1</td>\n",
       "      <td>165</td>\n",
       "      <td>64.0</td>\n",
       "      <td>130</td>\n",
       "      <td>70</td>\n",
       "      <td>3</td>\n",
       "      <td>1</td>\n",
       "      <td>0</td>\n",
       "      <td>0</td>\n",
       "      <td>0</td>\n",
       "      <td>1</td>\n",
       "    </tr>\n",
       "  </tbody>\n",
       "</table>\n",
       "</div>"
      ],
      "text/plain": [
       "   id    age  gender  height  weight  ap_hi  ap_lo  cholesterol  gluc  smoke  \\\n",
       "0   0  18393       2     168    62.0    110     80            1     1      0   \n",
       "1   1  20228       1     156    85.0    140     90            3     1      0   \n",
       "2   2  18857       1     165    64.0    130     70            3     1      0   \n",
       "\n",
       "   alco  active  cardio  \n",
       "0     0       1       0  \n",
       "1     0       1       1  \n",
       "2     0       0       1  "
      ]
     },
     "execution_count": 2,
     "metadata": {},
     "output_type": "execute_result"
    }
   ],
   "source": [
    "df = pd.read_csv('train_case2.csv', ';')\n",
    "df.head(3)"
   ]
  },
  {
   "cell_type": "markdown",
   "id": "32840ac1",
   "metadata": {},
   "source": [
    "В рамках конкурса вам нужно предсказать наличие сердечно-сосудистых заболеваний по результатам классического врачебного осмотра. Датасет сформирован из 100.000 реальных клинических анализов, и в нём используются признаки, которые можно разбить на 3 группы:\n",
    "\n",
    " \n",
    "\n",
    "Объективные признаки:\n",
    "\n",
    " - Возраст\n",
    " - Рост\n",
    " - Вес\n",
    " - Пол\n",
    " \n",
    "\n",
    "Результаты измерения:\n",
    "\n",
    " - Артериальное давление верхнее и нижнее\n",
    " - Холестерин\n",
    " - Глюкоза\n",
    " \n",
    "\n",
    "Субъективные признаки:\n",
    "\n",
    " - Курение\n",
    " - Употребление Алкоголя\n",
    " - Физическая активность\n",
    " \n",
    "\n",
    "Возраст дан в днях. Значения показателей холестерина и глюкозы представлены одним из трех классов: норма, выше нормы, значительно выше нормы. Значения субъективных признаков — бинарны.\n",
    "\n",
    "Все показатели даны на момент осмотра."
   ]
  },
  {
   "cell_type": "markdown",
   "id": "a6455c13",
   "metadata": {},
   "source": [
    "Таргет - наличие сердечно-сосудистых заболеваний (ССЗ, cardio - столбец) "
   ]
  },
  {
   "cell_type": "code",
   "execution_count": 3,
   "id": "1032c026",
   "metadata": {},
   "outputs": [],
   "source": [
    "from sklearn.linear_model import LogisticRegression\n",
    "from sklearn.model_selection import cross_val_score, train_test_split\n",
    "from scipy.sparse import hstack\n",
    "from sklearn.pipeline import Pipeline, make_pipeline\n",
    "from sklearn.base import BaseEstimator, TransformerMixin"
   ]
  },
  {
   "cell_type": "code",
   "execution_count": 4,
   "id": "806d1675",
   "metadata": {},
   "outputs": [
    {
     "data": {
      "text/plain": [
       "Index(['id', 'age', 'gender', 'height', 'weight', 'ap_hi', 'ap_lo',\n",
       "       'cholesterol', 'gluc', 'smoke', 'alco', 'active', 'cardio'],\n",
       "      dtype='object')"
      ]
     },
     "execution_count": 4,
     "metadata": {},
     "output_type": "execute_result"
    }
   ],
   "source": [
    "df.columns"
   ]
  },
  {
   "cell_type": "code",
   "execution_count": 5,
   "id": "4145e7ea",
   "metadata": {},
   "outputs": [],
   "source": [
    "#разделим данные на train/test\n",
    "X_train, X_test, y_train, y_test = train_test_split(df.drop('cardio', 1), \n",
    "                                                    df['cardio'], random_state=0)"
   ]
  },
  {
   "cell_type": "code",
   "execution_count": 6,
   "id": "4ddce8b9",
   "metadata": {},
   "outputs": [
    {
     "data": {
      "text/plain": [
       "(52500, 12)"
      ]
     },
     "execution_count": 6,
     "metadata": {},
     "output_type": "execute_result"
    }
   ],
   "source": [
    "X_train.shape"
   ]
  },
  {
   "cell_type": "markdown",
   "id": "d64a40a7",
   "metadata": {},
   "source": [
    "К полям:\n",
    "- gender, cholesterol применим OHE-кодирование\n",
    "- age, height, weight, ap_hi, ap_lo - standardScaler\n",
    "- gluc, smoke, alco, active - оставим пока как есть"
   ]
  },
  {
   "cell_type": "code",
   "execution_count": 7,
   "id": "ed2eed35",
   "metadata": {},
   "outputs": [],
   "source": [
    "class ColumnSelector(BaseEstimator, TransformerMixin):\n",
    "    \"\"\"\n",
    "    Transformer to select a single column from the data frame to perform additional transformations on\n",
    "    \"\"\"\n",
    "    def __init__(self, key):\n",
    "        self.key = key\n",
    "\n",
    "    def fit(self, X, y=None):\n",
    "        return self\n",
    "\n",
    "    def transform(self, X):\n",
    "        return X[self.key]\n",
    "    \n",
    "class NumberSelector(BaseEstimator, TransformerMixin):\n",
    "    \"\"\"\n",
    "    Transformer to select a single column from the data frame to perform additional transformations on\n",
    "    Use on numeric columns in the data\n",
    "    \"\"\"\n",
    "    def __init__(self, key):\n",
    "        self.key = key\n",
    "\n",
    "    def fit(self, X, y=None):\n",
    "        return self\n",
    "\n",
    "    def transform(self, X):\n",
    "        return X[[self.key]]\n",
    "    \n",
    "class OHEEncoder(BaseEstimator, TransformerMixin):\n",
    "    def __init__(self, key):\n",
    "        self.key = key\n",
    "        self.columns = []\n",
    "\n",
    "    def fit(self, X, y=None):\n",
    "        self.columns = [col for col in pd.get_dummies(X, prefix=self.key).columns]\n",
    "        return self\n",
    "\n",
    "    def transform(self, X):\n",
    "        X = pd.get_dummies(X, prefix=self.key)\n",
    "        test_columns = [col for col in X.columns]\n",
    "        for col_ in test_columns:\n",
    "            if col_ not in self.columns:\n",
    "                X[col_] = 0\n",
    "        return X[self.columns]\n",
    "\n",
    "\n",
    "from sklearn.preprocessing import StandardScaler\n",
    "\n",
    "\n",
    "continuos_cols = ['age', 'height', 'weight', 'ap_hi', 'ap_lo']\n",
    "cat_cols = ['gender', 'cholesterol']\n",
    "base_cols = ['gluc', 'smoke', 'alco', 'active']\n",
    "\n",
    "continuos_transformers = []\n",
    "cat_transformers = []\n",
    "base_transformers = []\n",
    "\n",
    "for cont_col in continuos_cols:\n",
    "    transfomer =  Pipeline([\n",
    "                ('selector', NumberSelector(key=cont_col)),\n",
    "                ('standard', StandardScaler())\n",
    "            ])\n",
    "    continuos_transformers.append((cont_col, transfomer))\n",
    "    \n",
    "for cat_col in cat_cols:\n",
    "    cat_transformer = Pipeline([\n",
    "                ('selector', ColumnSelector(key=cat_col)),\n",
    "                ('ohe', OHEEncoder(key=cat_col))\n",
    "            ])\n",
    "    cat_transformers.append((cat_col, cat_transformer))\n",
    "    \n",
    "for base_col in base_cols:\n",
    "    base_transformer = Pipeline([\n",
    "                ('selector', NumberSelector(key=base_col))\n",
    "            ])\n",
    "    base_transformers.append((base_col, base_transformer))"
   ]
  },
  {
   "cell_type": "code",
   "execution_count": 8,
   "id": "3a76d687",
   "metadata": {
    "tags": []
   },
   "outputs": [],
   "source": [
    "from sklearn.metrics import precision_recall_curve\n",
    "def metrics_models(y_test, y_score): \n",
    "    b=1\n",
    "    precision, recall, thresholds = precision_recall_curve(y_test.values, y_score)\n",
    "    fscore = (1+b**2)*(precision * recall) / (b**2*precision + recall)\n",
    "    # locate the index of the largest f score\n",
    "    ix = np.argmax(fscore)\n",
    "    print(ix)\n",
    "    print('Best Threshold=%f, F-Score=%.3f, Precision=%.3f, Recall=%.3f' % (thresholds[ix], \n",
    "                                                                    fscore[ix],\n",
    "                                                                    precision[ix],\n",
    "                                                                    recall[ix]))\n",
    "    return thresholds[ix], fscore[ix], precision[ix], recall[ix]"
   ]
  },
  {
   "cell_type": "code",
   "execution_count": 9,
   "id": "ebf62ead",
   "metadata": {},
   "outputs": [
    {
     "data": {
      "text/plain": [
       "array([[-1.73391771,  0.6873301 ,  0.74843904, ...,  1.        ,\n",
       "         0.        ,  1.        ],\n",
       "       [-1.67343538,  0.07758923, -0.29640123, ...,  0.        ,\n",
       "         0.        ,  1.        ],\n",
       "       [ 0.13738132,  1.17512278, -0.15708919, ...,  0.        ,\n",
       "         0.        ,  0.        ],\n",
       "       ...,\n",
       "       [ 1.17775864,  1.17512278, -0.15708919, ...,  0.        ,\n",
       "         0.        ,  1.        ],\n",
       "       [-0.47190715, -1.38578883,  0.74843904, ...,  0.        ,\n",
       "         0.        ,  1.        ],\n",
       "       [ 0.38174619,  0.56538192, -0.08743318, ...,  0.        ,\n",
       "         0.        ,  1.        ]])"
      ]
     },
     "execution_count": 9,
     "metadata": {},
     "output_type": "execute_result"
    }
   ],
   "source": [
    "from sklearn.pipeline import FeatureUnion\n",
    "\n",
    "feats = FeatureUnion(continuos_transformers+cat_transformers+base_transformers)\n",
    "feature_processing = Pipeline([('feats', feats)])\n",
    "\n",
    "feature_processing.fit_transform(X_train)"
   ]
  },
  {
   "cell_type": "code",
   "execution_count": 10,
   "id": "97271d7b",
   "metadata": {},
   "outputs": [
    {
     "name": "stdout",
     "output_type": "stream",
     "text": [
      "CV score is 0.7844374123135694+-0.005286474572634387\n"
     ]
    }
   ],
   "source": [
    "classifier = Pipeline([\n",
    "    ('features',feats),\n",
    "    ('classifier', LogisticRegression(C = 0.1,random_state = 42)),\n",
    "])\n",
    "\n",
    "\n",
    "#запустим кросс-валидацию\n",
    "cv_scores = cross_val_score(classifier, X_train, y_train, cv=6, scoring='roc_auc')\n",
    "cv_score = np.mean(cv_scores)\n",
    "cv_score_std = np.std(cv_scores)\n",
    "print('CV score is {}+-{}'.format(cv_score, cv_score_std))\n",
    "\n",
    "#обучим пайплайн на всем тренировочном датасете\n",
    "classifier.fit(X_train, y_train)\n",
    "y_score = classifier.predict_proba(X_test)[:, 1]"
   ]
  },
  {
   "cell_type": "code",
   "execution_count": 11,
   "id": "637ed908",
   "metadata": {},
   "outputs": [
    {
     "name": "stdout",
     "output_type": "stream",
     "text": [
      "6196\n",
      "Best Threshold=0.389193, F-Score=0.729, Precision=0.645, Recall=0.839\n"
     ]
    }
   ],
   "source": [
    "thresholds_lr, fscore_lr, precision_lr, recall_lr = metrics_models(y_test, y_score)"
   ]
  },
  {
   "cell_type": "code",
   "execution_count": 14,
   "id": "2e7ad91d",
   "metadata": {},
   "outputs": [],
   "source": [
    "LR_parameters = [thresholds_lr, fscore_lr, precision_lr, recall_lr]"
   ]
  },
  {
   "cell_type": "code",
   "execution_count": 15,
   "id": "58f6fe66",
   "metadata": {},
   "outputs": [],
   "source": [
    "from sklearn.ensemble import RandomForestClassifier\n",
    "from sklearn.metrics import precision_recall_curve\n",
    "import random"
   ]
  },
  {
   "cell_type": "code",
   "execution_count": 16,
   "id": "adc33dbb",
   "metadata": {},
   "outputs": [],
   "source": [
    "random.seed(42)"
   ]
  },
  {
   "cell_type": "code",
   "execution_count": 17,
   "id": "4c8ccb96",
   "metadata": {},
   "outputs": [
    {
     "name": "stdout",
     "output_type": "stream",
     "text": [
      "CV score is 0.7990276308201959+-0.004167008066728519\n"
     ]
    }
   ],
   "source": [
    "classifier_rf = Pipeline([\n",
    "    ('features',feats),\n",
    "    ('classifier', RandomForestClassifier(max_depth=7, random_state=42)),\n",
    "])\n",
    "\n",
    "\n",
    "#запустим кросс-валидацию\n",
    "cv_scores_rf = cross_val_score(classifier_rf, X_train, y_train, cv=6, scoring='roc_auc')\n",
    "cv_score_rf = np.mean(cv_scores_rf)\n",
    "cv_score_std_rf = np.std(cv_scores_rf)\n",
    "print('CV score is {}+-{}'.format(cv_score_rf, cv_score_std_rf))\n",
    "\n",
    "#обучим пайплайн на всем тренировочном датасете\n",
    "classifier_rf.fit(X_train, y_train)\n",
    "y_score_rf = classifier_rf.predict_proba(X_test)[:, 1]"
   ]
  },
  {
   "cell_type": "code",
   "execution_count": 18,
   "id": "e69aac66",
   "metadata": {},
   "outputs": [
    {
     "name": "stdout",
     "output_type": "stream",
     "text": [
      "5953\n",
      "Best Threshold=0.381271, F-Score=0.739, Precision=0.666, Recall=0.830\n"
     ]
    }
   ],
   "source": [
    "thresholds_rf, fscore_rf, precision_rf, recall_rf = metrics_models(y_test, y_score_rf)"
   ]
  },
  {
   "cell_type": "code",
   "execution_count": 20,
   "id": "96bc1f34",
   "metadata": {},
   "outputs": [],
   "source": [
    "RF_parameters = [thresholds_rf, fscore_rf, precision_rf, recall_rf]"
   ]
  },
  {
   "cell_type": "code",
   "execution_count": 21,
   "id": "b066f78a",
   "metadata": {},
   "outputs": [
    {
     "data": {
      "image/png": "[encoded data removed]",
      "text/plain": [
       "<Figure size 720x576 with 1 Axes>"
      ]
     },
     "metadata": {},
     "output_type": "display_data"
    }
   ],
   "source": [
    "sns.set(font_scale=1.5)\n",
    "sns.set_color_codes(\"muted\")\n",
    "\n",
    "plt.figure(figsize=(10, 8))\n",
    "fpr_rf, tpr_rf, thresholds_rf = roc_curve(y_test, y_score_rf, pos_label=1)\n",
    "fpr_lr, tpr_lr, thresholds_lr = roc_curve(y_test, y_score, pos_label=1)\n",
    "lw = 2\n",
    "\n",
    "plt.plot(fpr_rf, tpr_rf, lw=lw, label='ROC curve for Random Forest')\n",
    "plt.plot(fpr_lr, tpr_lr, lw=lw, label='ROC curve for Logistic Regression')\n",
    "plt.plot([0, 1], [0, 1])\n",
    "plt.xlim([0.0, 1.0])\n",
    "plt.ylim([0.0, 1.05])\n",
    "plt.xlabel('False Positive Rate')\n",
    "plt.ylabel('True Positive Rate')\n",
    "plt.title('ROC curve')\n",
    "plt.legend()\n",
    "plt.savefig(\"ROC.png\")\n",
    "plt.show()"
   ]
  },
  {
   "cell_type": "code",
   "execution_count": 22,
   "id": "0e6319ac",
   "metadata": {},
   "outputs": [
    {
     "name": "stdout",
     "output_type": "stream",
     "text": [
      "roc auc score for Random Forest: 0.7994743173767203\n",
      "roc auc score for Logistic Regression: 0.78198138395143\n"
     ]
    }
   ],
   "source": [
    "from sklearn.metrics import roc_auc_score\n",
    "\n",
    "print(\"roc auc score for Random Forest: {}\".format(roc_auc_score(y_test, y_score_rf)))\n",
    "print(\"roc auc score for Logistic Regression: {}\".format(roc_auc_score(y_test, y_score)))"
   ]
  },
  {
   "cell_type": "code",
   "execution_count": 23,
   "id": "4c7da150",
   "metadata": {},
   "outputs": [],
   "source": [
    "roc_auc_lr = roc_auc_score(y_test, y_score)"
   ]
  },
  {
   "cell_type": "code",
   "execution_count": 24,
   "id": "45e51a6a",
   "metadata": {},
   "outputs": [],
   "source": [
    "roc_auc_rf = roc_auc_score(y_test, y_score_rf)"
   ]
  },
  {
   "cell_type": "code",
   "execution_count": 25,
   "id": "ba2398fd",
   "metadata": {},
   "outputs": [],
   "source": [
    "RF_parameters.append(roc_auc_rf)\n",
    "LR_parameters.append(roc_auc_lr)"
   ]
  },
  {
   "cell_type": "code",
   "execution_count": 74,
   "id": "f96e0c98",
   "metadata": {},
   "outputs": [],
   "source": [
    "result_gb = pd.read_csv('gb_data_classifier')"
   ]
  },
  {
   "cell_type": "code",
   "execution_count": 75,
   "id": "30f5be98",
   "metadata": {},
   "outputs": [
    {
     "data": {
      "text/html": [
       "<div>\n",
       "<style scoped>\n",
       "    .dataframe tbody tr th:only-of-type {\n",
       "        vertical-align: middle;\n",
       "    }\n",
       "\n",
       "    .dataframe tbody tr th {\n",
       "        vertical-align: top;\n",
       "    }\n",
       "\n",
       "    .dataframe thead th {\n",
       "        text-align: right;\n",
       "    }\n",
       "</style>\n",
       "<table border=\"1\" class=\"dataframe\">\n",
       "  <thead>\n",
       "    <tr style=\"text-align: right;\">\n",
       "      <th></th>\n",
       "      <th>gb_classifier</th>\n",
       "    </tr>\n",
       "  </thead>\n",
       "  <tbody>\n",
       "    <tr>\n",
       "      <th>0</th>\n",
       "      <td>0.354076</td>\n",
       "    </tr>\n",
       "    <tr>\n",
       "      <th>1</th>\n",
       "      <td>0.737790</td>\n",
       "    </tr>\n",
       "    <tr>\n",
       "      <th>2</th>\n",
       "      <td>0.666729</td>\n",
       "    </tr>\n",
       "    <tr>\n",
       "      <th>3</th>\n",
       "      <td>0.825806</td>\n",
       "    </tr>\n",
       "    <tr>\n",
       "      <th>4</th>\n",
       "      <td>0.799478</td>\n",
       "    </tr>\n",
       "  </tbody>\n",
       "</table>\n",
       "</div>"
      ],
      "text/plain": [
       "   gb_classifier\n",
       "0       0.354076\n",
       "1       0.737790\n",
       "2       0.666729\n",
       "3       0.825806\n",
       "4       0.799478"
      ]
     },
     "execution_count": 75,
     "metadata": {},
     "output_type": "execute_result"
    }
   ],
   "source": [
    "result_gb.head()"
   ]
  },
  {
   "cell_type": "code",
   "execution_count": null,
   "id": "9994178b",
   "metadata": {},
   "outputs": [],
   "source": []
  },
  {
   "cell_type": "code",
   "execution_count": 76,
   "id": "06448a7a",
   "metadata": {},
   "outputs": [],
   "source": [
    "result = pd.DataFrame(index = ['threshold', 'fscore', 'precision', 'recall', 'roc_auc'], \n",
    "                      columns = ['rf_classifier', 'lr_classifier'])"
   ]
  },
  {
   "cell_type": "code",
   "execution_count": 77,
   "id": "2c88c98f",
   "metadata": {},
   "outputs": [],
   "source": [
    "result['rf_classifier'] = RF_parameters \n",
    "result['lr_classifier'] = LR_parameters "
   ]
  },
  {
   "cell_type": "code",
   "execution_count": 78,
   "id": "7708f433",
   "metadata": {},
   "outputs": [
    {
     "data": {
      "text/html": [
       "<div>\n",
       "<style scoped>\n",
       "    .dataframe tbody tr th:only-of-type {\n",
       "        vertical-align: middle;\n",
       "    }\n",
       "\n",
       "    .dataframe tbody tr th {\n",
       "        vertical-align: top;\n",
       "    }\n",
       "\n",
       "    .dataframe thead th {\n",
       "        text-align: right;\n",
       "    }\n",
       "</style>\n",
       "<table border=\"1\" class=\"dataframe\">\n",
       "  <thead>\n",
       "    <tr style=\"text-align: right;\">\n",
       "      <th></th>\n",
       "      <th>rf_classifier</th>\n",
       "      <th>lr_classifier</th>\n",
       "    </tr>\n",
       "  </thead>\n",
       "  <tbody>\n",
       "    <tr>\n",
       "      <th>threshold</th>\n",
       "      <td>0.381271</td>\n",
       "      <td>0.389193</td>\n",
       "    </tr>\n",
       "    <tr>\n",
       "      <th>fscore</th>\n",
       "      <td>0.739434</td>\n",
       "      <td>0.728938</td>\n",
       "    </tr>\n",
       "    <tr>\n",
       "      <th>precision</th>\n",
       "      <td>0.666420</td>\n",
       "      <td>0.644507</td>\n",
       "    </tr>\n",
       "    <tr>\n",
       "      <th>recall</th>\n",
       "      <td>0.830415</td>\n",
       "      <td>0.838825</td>\n",
       "    </tr>\n",
       "    <tr>\n",
       "      <th>roc_auc</th>\n",
       "      <td>0.799474</td>\n",
       "      <td>0.781981</td>\n",
       "    </tr>\n",
       "  </tbody>\n",
       "</table>\n",
       "</div>"
      ],
      "text/plain": [
       "           rf_classifier  lr_classifier\n",
       "threshold       0.381271       0.389193\n",
       "fscore          0.739434       0.728938\n",
       "precision       0.666420       0.644507\n",
       "recall          0.830415       0.838825\n",
       "roc_auc         0.799474       0.781981"
      ]
     },
     "execution_count": 78,
     "metadata": {},
     "output_type": "execute_result"
    }
   ],
   "source": [
    "result.head()"
   ]
  },
  {
   "cell_type": "code",
   "execution_count": 81,
   "id": "fef28580",
   "metadata": {},
   "outputs": [],
   "source": [
    "result['gb_classifier'] = result_gb.gb_classifier.to_list()"
   ]
  },
  {
   "cell_type": "code",
   "execution_count": 82,
   "id": "bb110020",
   "metadata": {},
   "outputs": [
    {
     "data": {
      "text/html": [
       "<div>\n",
       "<style scoped>\n",
       "    .dataframe tbody tr th:only-of-type {\n",
       "        vertical-align: middle;\n",
       "    }\n",
       "\n",
       "    .dataframe tbody tr th {\n",
       "        vertical-align: top;\n",
       "    }\n",
       "\n",
       "    .dataframe thead th {\n",
       "        text-align: right;\n",
       "    }\n",
       "</style>\n",
       "<table border=\"1\" class=\"dataframe\">\n",
       "  <thead>\n",
       "    <tr style=\"text-align: right;\">\n",
       "      <th></th>\n",
       "      <th>rf_classifier</th>\n",
       "      <th>lr_classifier</th>\n",
       "      <th>gb_classifier</th>\n",
       "    </tr>\n",
       "  </thead>\n",
       "  <tbody>\n",
       "    <tr>\n",
       "      <th>threshold</th>\n",
       "      <td>0.381271</td>\n",
       "      <td>0.389193</td>\n",
       "      <td>0.354076</td>\n",
       "    </tr>\n",
       "    <tr>\n",
       "      <th>fscore</th>\n",
       "      <td>0.739434</td>\n",
       "      <td>0.728938</td>\n",
       "      <td>0.737790</td>\n",
       "    </tr>\n",
       "    <tr>\n",
       "      <th>precision</th>\n",
       "      <td>0.666420</td>\n",
       "      <td>0.644507</td>\n",
       "      <td>0.666729</td>\n",
       "    </tr>\n",
       "    <tr>\n",
       "      <th>recall</th>\n",
       "      <td>0.830415</td>\n",
       "      <td>0.838825</td>\n",
       "      <td>0.825806</td>\n",
       "    </tr>\n",
       "    <tr>\n",
       "      <th>roc_auc</th>\n",
       "      <td>0.799474</td>\n",
       "      <td>0.781981</td>\n",
       "      <td>0.799478</td>\n",
       "    </tr>\n",
       "  </tbody>\n",
       "</table>\n",
       "</div>"
      ],
      "text/plain": [
       "           rf_classifier  lr_classifier  gb_classifier\n",
       "threshold       0.381271       0.389193       0.354076\n",
       "fscore          0.739434       0.728938       0.737790\n",
       "precision       0.666420       0.644507       0.666729\n",
       "recall          0.830415       0.838825       0.825806\n",
       "roc_auc         0.799474       0.781981       0.799478"
      ]
     },
     "execution_count": 82,
     "metadata": {},
     "output_type": "execute_result"
    }
   ],
   "source": [
    "result.head()"
   ]
  },
  {
   "cell_type": "markdown",
   "id": "eab733bc",
   "metadata": {},
   "source": [
    "Выводы:\n",
    "\n",
    "    - сложно сказать, какая модель лучше всего подойдет, потому что метрики не настолько сильно отличаются друг от друга\n",
    "    \n",
    "    - субъективно, я бы сперва отсек ту модель, у которой самый низкий порог, то есть Gradient Boosting. При увеличении количества данных мы можем столкнуться с увеличением FP, а это уже плохо.\n",
    "    \n",
    "    - далее нужно исходить из параметров precision\\recall и целей бизнеса по ним. "
   ]
  },
  {
   "cell_type": "markdown",
   "id": "d283563f",
   "metadata": {},
   "source": [
    "## Дополнительная задачка на определение \"лучшести\" модели"
   ]
  },
  {
   "cell_type": "markdown",
   "id": "3ba9a084",
   "metadata": {},
   "source": [
    "Если я правильно понял условие (обсудим на вебинаре), то я бы выбрал первую модель, потому что из 100 предсказаний первого класса у нас 90 является TP. \n",
    "\n",
    "У второй модели TP также будет 90 (по условию), но она отметила 1000 объектов классом 1. Доля правильных ответов у первой модели выше. \n",
    "\n",
    "Но согласно правилам, на несбалансированных данных как правило не оперируют accuracy. Поэтому я сомневаюсь в правильности своих рассуждений. \n",
    "\n",
    "Лично для меня было бы удобнее использовать [roc-auc кривую](https://dyakonov.org/2017/07/28/auc-roc-%D0%BF%D0%BB%D0%BE%D1%89%D0%B0%D0%B4%D1%8C-%D0%BF%D0%BE%D0%B4-%D0%BA%D1%80%D0%B8%D0%B2%D0%BE%D0%B9-%D0%BE%D1%88%D0%B8%D0%B1%D0%BE%D0%BA/)\n",
    "\n",
    "Исходя главы \"Смысл roc-auc кривой\" я предполагаю, что у второй модели площадь кривой будет меньше, чем у первой. \n"
   ]
  },
  {
   "cell_type": "code",
   "execution_count": null,
   "id": "9c64d256",
   "metadata": {},
   "outputs": [],
   "source": []
  }
 ],
 "metadata": {
  "kernelspec": {
   "display_name": "Python 3",
   "language": "python",
   "name": "python3"
  },
  "language_info": {
   "codemirror_mode": {
    "name": "ipython",
    "version": 3
   },
   "file_extension": ".py",
   "mimetype": "text/x-python",
   "name": "python",
   "nbconvert_exporter": "python",
   "pygments_lexer": "ipython3",
   "version": "3.9.6"
  }
 },
 "nbformat": 4,
 "nbformat_minor": 5
}
