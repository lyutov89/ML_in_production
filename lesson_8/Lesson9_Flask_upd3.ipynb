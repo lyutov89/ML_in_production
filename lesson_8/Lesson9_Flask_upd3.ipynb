{
  "nbformat": 4,
  "nbformat_minor": 0,
  "metadata": {
    "colab": {
      "name": "Lesson9_Flask.ipynb",
      "provenance": [],
      "collapsed_sections": []
    },
    "kernelspec": {
      "display_name": "Python 3",
      "name": "python3"
    }
  },
  "cells": [
    {
      "cell_type": "code",
      "metadata": {
        "colab": {
          "base_uri": "https://localhost:8080/"
        },
        "id": "h5UwPNX65oct",
        "outputId": "49565330-0d6a-4e06-c620-21407750fa87"
      },
      "source": [
        "# Подключение к Google drive\n",
        "\n",
        "from google.colab import drive\n",
        "drive.mount('/content/drive')"
      ],
      "execution_count": 1,
      "outputs": [
        {
          "output_type": "stream",
          "text": [
            "Mounted at /content/drive\n"
          ],
          "name": "stdout"
        }
      ]
    },
    {
      "cell_type": "code",
      "metadata": {
        "colab": {
          "base_uri": "https://localhost:8080/"
        },
        "id": "0vJvzDPN5td0",
        "outputId": "99dec29a-530b-4177-b0b7-0b29e392606f"
      },
      "source": [
        "!pip install flask-ngrok"
      ],
      "execution_count": 2,
      "outputs": [
        {
          "output_type": "stream",
          "text": [
            "Collecting flask-ngrok\n",
            "  Downloading https://files.pythonhosted.org/packages/af/6c/f54cb686ad1129e27d125d182f90f52b32f284e6c8df58c1bae54fa1adbc/flask_ngrok-0.0.25-py3-none-any.whl\n",
            "Requirement already satisfied: requests in /usr/local/lib/python3.6/dist-packages (from flask-ngrok) (2.23.0)\n",
            "Requirement already satisfied: Flask>=0.8 in /usr/local/lib/python3.6/dist-packages (from flask-ngrok) (1.1.2)\n",
            "Requirement already satisfied: urllib3!=1.25.0,!=1.25.1,<1.26,>=1.21.1 in /usr/local/lib/python3.6/dist-packages (from requests->flask-ngrok) (1.24.3)\n",
            "Requirement already satisfied: idna<3,>=2.5 in /usr/local/lib/python3.6/dist-packages (from requests->flask-ngrok) (2.10)\n",
            "Requirement already satisfied: certifi>=2017.4.17 in /usr/local/lib/python3.6/dist-packages (from requests->flask-ngrok) (2020.11.8)\n",
            "Requirement already satisfied: chardet<4,>=3.0.2 in /usr/local/lib/python3.6/dist-packages (from requests->flask-ngrok) (3.0.4)\n",
            "Requirement already satisfied: itsdangerous>=0.24 in /usr/local/lib/python3.6/dist-packages (from Flask>=0.8->flask-ngrok) (1.1.0)\n",
            "Requirement already satisfied: Werkzeug>=0.15 in /usr/local/lib/python3.6/dist-packages (from Flask>=0.8->flask-ngrok) (1.0.1)\n",
            "Requirement already satisfied: click>=5.1 in /usr/local/lib/python3.6/dist-packages (from Flask>=0.8->flask-ngrok) (7.1.2)\n",
            "Requirement already satisfied: Jinja2>=2.10.1 in /usr/local/lib/python3.6/dist-packages (from Flask>=0.8->flask-ngrok) (2.11.2)\n",
            "Requirement already satisfied: MarkupSafe>=0.23 in /usr/local/lib/python3.6/dist-packages (from Jinja2>=2.10.1->Flask>=0.8->flask-ngrok) (1.1.1)\n",
            "Installing collected packages: flask-ngrok\n",
            "Successfully installed flask-ngrok-0.0.25\n"
          ],
          "name": "stdout"
        }
      ]
    },
    {
      "cell_type": "code",
      "metadata": {
        "id": "l9J4BRIY54lN"
      },
      "source": [
        "from flask_ngrok import run_with_ngrok\n",
        "from flask import Flask, request, jsonify\n",
        "import pandas as pd"
      ],
      "execution_count": 3,
      "outputs": []
    },
    {
      "cell_type": "code",
      "metadata": {
        "colab": {
          "base_uri": "https://localhost:8080/"
        },
        "id": "4OKtjU7n6Dzl",
        "outputId": "602c2e23-f7b9-4f39-cc1b-89d61c520d40"
      },
      "source": [
        "# Пробный запуск Flask\n",
        "\n",
        "app = Flask(__name__)\n",
        "run_with_ngrok(app)  # Start ngrok when app is run\n",
        "\n",
        "@app.route(\"/a\")\n",
        "def hello():\n",
        "    return \"Hello World!\"\n",
        "\n",
        "if __name__ == '__main__':\n",
        "    app.run()"
      ],
      "execution_count": 4,
      "outputs": [
        {
          "output_type": "stream",
          "text": [
            " * Serving Flask app \"__main__\" (lazy loading)\n",
            " * Environment: production\n",
            "\u001b[31m   WARNING: This is a development server. Do not use it in a production deployment.\u001b[0m\n",
            "\u001b[2m   Use a production WSGI server instead.\u001b[0m\n",
            " * Debug mode: off\n"
          ],
          "name": "stdout"
        },
        {
          "output_type": "stream",
          "text": [
            " * Running on http://127.0.0.1:5000/ (Press CTRL+C to quit)\n"
          ],
          "name": "stderr"
        },
        {
          "output_type": "stream",
          "text": [
            " * Running on http://865bceae6ebd.ngrok.io\n",
            " * Traffic stats available on http://127.0.0.1:4040\n"
          ],
          "name": "stdout"
        },
        {
          "output_type": "stream",
          "text": [
            "127.0.0.1 - - [06/Dec/2020 18:13:33] \"\u001b[37mGET /a HTTP/1.1\u001b[0m\" 200 -\n",
            "127.0.0.1 - - [06/Dec/2020 18:13:34] \"\u001b[33mGET /favicon.ico HTTP/1.1\u001b[0m\" 404 -\n"
          ],
          "name": "stderr"
        }
      ]
    },
    {
      "cell_type": "code",
      "metadata": {
        "colab": {
          "base_uri": "https://localhost:8080/"
        },
        "id": "O73Gg-ZF6HPm",
        "outputId": "90f0b8cd-5ea0-4242-dca8-bfe52bd72fee"
      },
      "source": [
        "!pip install h2o"
      ],
      "execution_count": 5,
      "outputs": [
        {
          "output_type": "stream",
          "text": [
            "Collecting h2o\n",
            "\u001b[?25l  Downloading https://files.pythonhosted.org/packages/26/c5/d63a8bfdbeb4ebfb709c010af3e061d89a363204c437cb5527431f6de3d2/h2o-3.32.0.2.tar.gz (164.6MB)\n",
            "\u001b[K     |████████████████████████████████| 164.6MB 82kB/s \n",
            "\u001b[?25hRequirement already satisfied: requests in /usr/local/lib/python3.6/dist-packages (from h2o) (2.23.0)\n",
            "Requirement already satisfied: tabulate in /usr/local/lib/python3.6/dist-packages (from h2o) (0.8.7)\n",
            "Requirement already satisfied: future in /usr/local/lib/python3.6/dist-packages (from h2o) (0.16.0)\n",
            "Collecting colorama>=0.3.8\n",
            "  Downloading https://files.pythonhosted.org/packages/44/98/5b86278fbbf250d239ae0ecb724f8572af1c91f4a11edf4d36a206189440/colorama-0.4.4-py2.py3-none-any.whl\n",
            "Requirement already satisfied: urllib3!=1.25.0,!=1.25.1,<1.26,>=1.21.1 in /usr/local/lib/python3.6/dist-packages (from requests->h2o) (1.24.3)\n",
            "Requirement already satisfied: idna<3,>=2.5 in /usr/local/lib/python3.6/dist-packages (from requests->h2o) (2.10)\n",
            "Requirement already satisfied: certifi>=2017.4.17 in /usr/local/lib/python3.6/dist-packages (from requests->h2o) (2020.11.8)\n",
            "Requirement already satisfied: chardet<4,>=3.0.2 in /usr/local/lib/python3.6/dist-packages (from requests->h2o) (3.0.4)\n",
            "Building wheels for collected packages: h2o\n",
            "  Building wheel for h2o (setup.py) ... \u001b[?25l\u001b[?25hdone\n",
            "  Created wheel for h2o: filename=h2o-3.32.0.2-py2.py3-none-any.whl size=164620456 sha256=9b2701d7ceafe8254525a536c2c538bb744a6315928b5f898b2dbf80cd40b326\n",
            "  Stored in directory: /root/.cache/pip/wheels/42/bd/ea/218fd15724eddf6fa7fc8fab802b6fa592e623d87199679721\n",
            "Successfully built h2o\n",
            "Installing collected packages: colorama, h2o\n",
            "Successfully installed colorama-0.4.4 h2o-3.32.0.2\n"
          ],
          "name": "stdout"
        }
      ]
    },
    {
      "cell_type": "code",
      "metadata": {
        "colab": {
          "base_uri": "https://localhost:8080/",
          "height": 543
        },
        "id": "mrQ8bbqR6SQJ",
        "outputId": "8b83490a-b963-4948-8e58-3ce5b469a7ba"
      },
      "source": [
        "import h2o\n",
        "h2o.init()"
      ],
      "execution_count": 6,
      "outputs": [
        {
          "output_type": "stream",
          "text": [
            "Checking whether there is an H2O instance running at http://localhost:54321 ..... not found.\n",
            "Attempting to start a local H2O server...\n",
            "  Java Version: openjdk version \"11.0.9.1\" 2020-11-04; OpenJDK Runtime Environment (build 11.0.9.1+1-Ubuntu-0ubuntu1.18.04); OpenJDK 64-Bit Server VM (build 11.0.9.1+1-Ubuntu-0ubuntu1.18.04, mixed mode, sharing)\n",
            "  Starting server from /usr/local/lib/python3.6/dist-packages/h2o/backend/bin/h2o.jar\n",
            "  Ice root: /tmp/tmp54olyg8p\n",
            "  JVM stdout: /tmp/tmp54olyg8p/h2o_unknownUser_started_from_python.out\n",
            "  JVM stderr: /tmp/tmp54olyg8p/h2o_unknownUser_started_from_python.err\n",
            "  Server is running at http://127.0.0.1:54321\n",
            "Connecting to H2O server at http://127.0.0.1:54321 ... successful.\n"
          ],
          "name": "stdout"
        },
        {
          "output_type": "display_data",
          "data": {
            "text/html": [
              "<div style=\"overflow:auto\"><table style=\"width:50%\"><tr><td>H2O_cluster_uptime:</td>\n",
              "<td>03 secs</td></tr>\n",
              "<tr><td>H2O_cluster_timezone:</td>\n",
              "<td>Etc/UTC</td></tr>\n",
              "<tr><td>H2O_data_parsing_timezone:</td>\n",
              "<td>UTC</td></tr>\n",
              "<tr><td>H2O_cluster_version:</td>\n",
              "<td>3.32.0.2</td></tr>\n",
              "<tr><td>H2O_cluster_version_age:</td>\n",
              "<td>19 days </td></tr>\n",
              "<tr><td>H2O_cluster_name:</td>\n",
              "<td>H2O_from_python_unknownUser_02pudv</td></tr>\n",
              "<tr><td>H2O_cluster_total_nodes:</td>\n",
              "<td>1</td></tr>\n",
              "<tr><td>H2O_cluster_free_memory:</td>\n",
              "<td>3.180 Gb</td></tr>\n",
              "<tr><td>H2O_cluster_total_cores:</td>\n",
              "<td>2</td></tr>\n",
              "<tr><td>H2O_cluster_allowed_cores:</td>\n",
              "<td>2</td></tr>\n",
              "<tr><td>H2O_cluster_status:</td>\n",
              "<td>accepting new members, healthy</td></tr>\n",
              "<tr><td>H2O_connection_url:</td>\n",
              "<td>http://127.0.0.1:54321</td></tr>\n",
              "<tr><td>H2O_connection_proxy:</td>\n",
              "<td>{\"http\": null, \"https\": null}</td></tr>\n",
              "<tr><td>H2O_internal_security:</td>\n",
              "<td>False</td></tr>\n",
              "<tr><td>H2O_API_Extensions:</td>\n",
              "<td>Amazon S3, XGBoost, Algos, AutoML, Core V3, TargetEncoder, Core V4</td></tr>\n",
              "<tr><td>Python_version:</td>\n",
              "<td>3.6.9 final</td></tr></table></div>"
            ],
            "text/plain": [
              "--------------------------  ------------------------------------------------------------------\n",
              "H2O_cluster_uptime:         03 secs\n",
              "H2O_cluster_timezone:       Etc/UTC\n",
              "H2O_data_parsing_timezone:  UTC\n",
              "H2O_cluster_version:        3.32.0.2\n",
              "H2O_cluster_version_age:    19 days\n",
              "H2O_cluster_name:           H2O_from_python_unknownUser_02pudv\n",
              "H2O_cluster_total_nodes:    1\n",
              "H2O_cluster_free_memory:    3.180 Gb\n",
              "H2O_cluster_total_cores:    2\n",
              "H2O_cluster_allowed_cores:  2\n",
              "H2O_cluster_status:         accepting new members, healthy\n",
              "H2O_connection_url:         http://127.0.0.1:54321\n",
              "H2O_connection_proxy:       {\"http\": null, \"https\": null}\n",
              "H2O_internal_security:      False\n",
              "H2O_API_Extensions:         Amazon S3, XGBoost, Algos, AutoML, Core V3, TargetEncoder, Core V4\n",
              "Python_version:             3.6.9 final\n",
              "--------------------------  ------------------------------------------------------------------"
            ]
          },
          "metadata": {
            "tags": []
          }
        }
      ]
    },
    {
      "cell_type": "code",
      "metadata": {
        "id": "cGdnJnRp6XSo"
      },
      "source": [
        "# Загружаем обученные модели \n",
        "model_glm_binomial = h2o.load_model('/content/drive/My Drive/my_time_rows/GLM_model_python_1607029343503_1')\n"
      ],
      "execution_count": 7,
      "outputs": []
    },
    {
      "cell_type": "code",
      "metadata": {
        "colab": {
          "base_uri": "https://localhost:8080/"
        },
        "id": "3x8SAlTP8DJG",
        "outputId": "12e6b9ef-51cc-4ebd-d3a6-a4c088129b6b"
      },
      "source": [
        "# Запуск Flask\n",
        "\n",
        "app = Flask(__name__)\n",
        "run_with_ngrok(app)  # Start ngrok when app is run\n",
        "\n",
        "def map_for_dict_Gender(Gender):\n",
        "  dict_Gender = {'Male':0, 'Female':1}\n",
        "  res = dict_Gender.get(Gender)\n",
        "  return res\n",
        "\n",
        "def map_for_dict_MariStat(MariStat):\n",
        "  dict_MariStat = {'Other':0, 'Alone':1}\n",
        "  res = dict_MariStat.get(MariStat)\n",
        "  return res\n",
        "\n",
        "def f_VehUsage_Professional(VehUsage):\n",
        "  if VehUsage == 'Professional':\n",
        "    VehUsage_Professional = 1\n",
        "  else:\n",
        "    VehUsage_Professional = 0\n",
        "  return(VehUsage_Professional)\n",
        "\n",
        "def f_VehUsage_Private_trip_to_office(VehUsage):\n",
        "  if VehUsage == 'Private+trip to office':\n",
        "    VehUsage_Private_trip_to_office = 1\n",
        "  else:\n",
        "    VehUsage_Private_trip_to_office = 0\n",
        "  return(VehUsage_Private_trip_to_office)\n",
        "\n",
        "def f_VehUsage_Private(VehUsage):\n",
        "  if VehUsage == 'Private':\n",
        "    VehUsage_Private = 1\n",
        "  else:\n",
        "    VehUsage_Privatel = 0\n",
        "  return(VehUsage_Private)\n",
        "\n",
        "def f_VehUsage_Professional_run(VehUsage):\n",
        "  if VehUsage == 'Professional run':\n",
        "    VehUsage_Professional_run = 1\n",
        "  else:\n",
        "    VehUsage_Professional_run = 0\n",
        "  return(VehUsage_Professional_run)\n",
        "\n",
        "def return_NewH2o_Frame():\n",
        "  columns = [\n",
        "      'LicAge',\n",
        "      'Gender',\n",
        "      'MariStat',\n",
        "      'DrivAge',\n",
        "      'HasKmLimit',\n",
        "      'BonusMalus',\n",
        "      'OutUseNb',\n",
        "      'RiskArea',\n",
        "      'VehUsg_Private',\n",
        "      'VehUsg_Private+trip to office',\n",
        "      'VehUsg_Professional',\n",
        "      'VehUsg_Professional run',\n",
        "      'CSP1',\n",
        "      'CSP2',\n",
        "      'CSP3',\n",
        "      'CSP6',\n",
        "      'CSP7',\n",
        "      'CSP20',\n",
        "      'CSP21',\n",
        "      'CSP22',\n",
        "      'CSP26',\n",
        "      'CSP37',\n",
        "      'CSP40',\n",
        "      'CSP42',\n",
        "      'CSP46',\n",
        "      'CSP47',\n",
        "      'CSP48',\n",
        "      'CSP49',\n",
        "      'CSP50',\n",
        "      'CSP55',\n",
        "      'CSP56',\n",
        "      'CSP57',\n",
        "      'CSP60',\n",
        "      'CSP65',\n",
        "      'CSP66'\n",
        "      ]\n",
        "  return h2o.H2OFrame([[0,0,0,0,0,0,0,0,0,0,0,0,0,0,0,0,0,0,0,0,0,0,0,0,0,0,0,0,0,0,0,0,0,0,0]], column_names = columns)\n",
        "\n",
        "@app.route(\"/\")\n",
        "def index():\n",
        "    return \"API for predict service\"\n",
        "\n",
        "@app.route('/predict', methods=['GET', 'POST'])\n",
        "def predict3():\n",
        "\n",
        "    try:\n",
        "\n",
        "      json_input = request.json\n",
        "      \n",
        "      print(json_input)\n",
        "      ID = json_input[\"ID\"]\n",
        "      LicAge = json_input[\"LicAge\"]\n",
        "      Gender = map_for_dict_Gender(json_input[\"Gender\"])\n",
        "      MariStat = map_for_dict_MariStat(json_input[\"MariStat\"])\n",
        "      DrivAge = json_input[\"DrivAge\"]\n",
        "      HasKmLimit = json_input[\"HasKmLimit\"]\n",
        "      BonusMalus = json_input[\"BonusMalus\"]\n",
        "      OutUseNb = json_input[\"OutUseNb\"]\n",
        "      RiskArea = json_input[\"RiskArea\"]\n",
        "      VehUsg_Private = f_VehUsage_Private(json_input[\"VehUsage\"])\n",
        "      VehUsg_Private_trip_to_office = f_VehUsage_Private_trip_to_office(json_input[\"VehUsage\"])\n",
        "      VehUsg_Professional = f_VehUsage_Professional(json_input[\"VehUsage\"])\n",
        "      VehUsg_Professional_run = f_VehUsage_Professional_run(json_input[\"VehUsage\"])\n",
        "      CSP1 = 0\n",
        "      CSP2 = 0\n",
        "      CSP3 = 0\n",
        "      CSP6 = 0\n",
        "      CSP7 = 0\n",
        "      CSP20 = 0\n",
        "      CSP21 = 0\n",
        "      CSP22 = 0\n",
        "      CSP26 = 0\n",
        "      CSP37 = 0\n",
        "      CSP40 = 0\n",
        "      CSP42 = 0\n",
        "      CSP46 = 0\n",
        "      CSP47 = 0\n",
        "      CSP48 = 0\n",
        "      CSP49 = 0\n",
        "      CSP50 = 0\n",
        "      CSP55 = 0\n",
        "      CSP56 = 0\n",
        "      CSP57 = 0\n",
        "      CSP60 = 0\n",
        "      CSP65 = 0\n",
        "      CSP66 = 0\n",
        "\n",
        "      hf = return_NewH2o_Frame()\n",
        "\n",
        "      hf[0, 'LicAge'] = LicAge\n",
        "      hf[0, 'Gender'] = Gender\n",
        "      hf[0, 'MariStat'] = MariStat\n",
        "      hf[0, 'DrivAge'] = DrivAge\n",
        "      hf[0, 'HasKmLimit'] = HasKmLimit\n",
        "      hf[0, 'BonusMalus'] = BonusMalus\n",
        "      hf[0, 'OutUseNb'] = OutUseNb\n",
        "      hf[0, 'RiskArea'] = RiskArea\n",
        "      hf[0, 'VehUsg_Private'] = VehUsg_Private\n",
        "      hf[0, 'VehUsg_Private+trip to office'] = VehUsg_Private_trip_to_office\n",
        "      hf[0, 'VehUsg_Professional'] = VehUsg_Professional\n",
        "      hf[0, 'VehUsg_Professional run'] = VehUsg_Professional_run\n",
        "      hf[0, 'CSP1'] = CSP1\n",
        "      hf[0, 'CSP2'] = CSP2\n",
        "      hf[0, 'CSP3'] = CSP3\n",
        "      hf[0, 'CSP6'] = CSP6\n",
        "      hf[0, 'CSP7'] = CSP7\n",
        "      hf[0, 'CSP20'] = CSP20\n",
        "      hf[0, 'CSP21'] = CSP21\n",
        "      hf[0, 'CSP22'] = CSP22\n",
        "      hf[0, 'CSP26'] = CSP26\n",
        "      hf[0, 'CSP37'] = CSP37\n",
        "      hf[0, 'CSP40'] = CSP40\n",
        "      hf[0, 'CSP42'] = CSP42\n",
        "      hf[0, 'CSP46'] = CSP46\n",
        "      hf[0, 'CSP47'] = CSP47\n",
        "      hf[0, 'CSP48'] = CSP48\n",
        "      hf[0, 'CSP49'] = CSP49\n",
        "      hf[0, 'CSP50'] = CSP50\n",
        "      hf[0, 'CSP55'] = CSP55\n",
        "      hf[0, 'CSP56'] = CSP56\n",
        "      hf[0, 'CSP57'] = CSP57\n",
        "      hf[0, 'CSP60'] = CSP60\n",
        "      hf[0, 'CSP65'] = CSP65\n",
        "      hf[0, 'CSP66'] = CSP66\n",
        "\n",
        "\n",
        "      prediction_Binomial = model_glm_binomial.predict(hf)\n",
        "      value_Binomial  = prediction_Binomial.as_data_frame()['predict'][0]/1\n",
        "\n",
        "      return jsonify({'ID': json_input['ID'], 'value_Binomial':value_Binomial})\n",
        "\n",
        "    except:\n",
        "      \n",
        "      return \"Error\"\n",
        "\n",
        "if __name__ == '__main__':\n",
        "    app.run()"
      ],
      "execution_count": 9,
      "outputs": [
        {
          "output_type": "stream",
          "text": [
            " * Serving Flask app \"__main__\" (lazy loading)\n",
            " * Environment: production\n",
            "   WARNING: This is a development server. Do not use it in a production deployment.\n",
            "   Use a production WSGI server instead.\n",
            " * Debug mode: off\n"
          ],
          "name": "stdout"
        },
        {
          "output_type": "stream",
          "text": [
            " * Running on http://127.0.0.1:5000/ (Press CTRL+C to quit)\n"
          ],
          "name": "stderr"
        },
        {
          "output_type": "stream",
          "text": [
            " * Running on http://938c354e006b.ngrok.io\n",
            " * Traffic stats available on http://127.0.0.1:4040\n",
            "{'ID': 1, 'LicAge': 468, 'RecordBeg': '2004-01-01', 'RecordEnd': '', 'VehAge': '', 'Gender': 'Male', 'MariStat': 'Other', 'SocioCateg': 'CSP50', 'VehUsage': 'Private', 'DrivAge': 67, 'HasKmLimit': 0, 'BonusMalus': 50, 'OutUseNb': 0, 'RiskArea': 0}\n",
            "Parse progress: |█████████████████████████████████████████████████████████| 100%\n",
            "glm prediction progress: |████████████████████████████████████████████████| 100%\n"
          ],
          "name": "stdout"
        },
        {
          "output_type": "stream",
          "text": [
            "/usr/local/lib/python3.6/dist-packages/h2o/job.py:70: UserWarning: Test/Validation dataset is missing column 'driver_minage_m': substituting in a column of NaN\n",
            "  warnings.warn(w)\n",
            "/usr/local/lib/python3.6/dist-packages/h2o/job.py:70: UserWarning: Test/Validation dataset is missing column 'driver_minage_f': substituting in a column of NaN\n",
            "  warnings.warn(w)\n",
            "/usr/local/lib/python3.6/dist-packages/h2o/job.py:70: UserWarning: Test/Validation dataset is missing column 'driver_minage_m_2': substituting in a column of NaN\n",
            "  warnings.warn(w)\n",
            "/usr/local/lib/python3.6/dist-packages/h2o/job.py:70: UserWarning: Test/Validation dataset is missing column 'driver_minage_f_2': substituting in a column of NaN\n",
            "  warnings.warn(w)\n",
            "/usr/local/lib/python3.6/dist-packages/h2o/job.py:70: UserWarning: Test/Validation dataset is missing column 'VehUsage_Private': substituting in a column of NaN\n",
            "  warnings.warn(w)\n",
            "/usr/local/lib/python3.6/dist-packages/h2o/job.py:70: UserWarning: Test/Validation dataset is missing column 'VehUsage_Private+trip to office': substituting in a column of NaN\n",
            "  warnings.warn(w)\n",
            "/usr/local/lib/python3.6/dist-packages/h2o/job.py:70: UserWarning: Test/Validation dataset is missing column 'VehUsage_Professional': substituting in a column of NaN\n",
            "  warnings.warn(w)\n",
            "/usr/local/lib/python3.6/dist-packages/h2o/job.py:70: UserWarning: Test/Validation dataset is missing column 'VehUsage_Professional run': substituting in a column of NaN\n",
            "  warnings.warn(w)\n",
            "/usr/local/lib/python3.6/dist-packages/h2o/job.py:70: UserWarning: Test/Validation dataset is missing column 'SocioCateg_CSP1': substituting in a column of NaN\n",
            "  warnings.warn(w)\n",
            "/usr/local/lib/python3.6/dist-packages/h2o/job.py:70: UserWarning: Test/Validation dataset is missing column 'SocioCateg_CSP2': substituting in a column of NaN\n",
            "  warnings.warn(w)\n",
            "/usr/local/lib/python3.6/dist-packages/h2o/job.py:70: UserWarning: Test/Validation dataset is missing column 'SocioCateg_CSP3': substituting in a column of NaN\n",
            "  warnings.warn(w)\n",
            "/usr/local/lib/python3.6/dist-packages/h2o/job.py:70: UserWarning: Test/Validation dataset is missing column 'SocioCateg_CSP4': substituting in a column of NaN\n",
            "  warnings.warn(w)\n",
            "/usr/local/lib/python3.6/dist-packages/h2o/job.py:70: UserWarning: Test/Validation dataset is missing column 'SocioCateg_CSP5': substituting in a column of NaN\n",
            "  warnings.warn(w)\n",
            "/usr/local/lib/python3.6/dist-packages/h2o/job.py:70: UserWarning: Test/Validation dataset is missing column 'SocioCateg_CSP6': substituting in a column of NaN\n",
            "  warnings.warn(w)\n",
            "/usr/local/lib/python3.6/dist-packages/h2o/job.py:70: UserWarning: Test/Validation dataset is missing column 'SocioCateg_CSP7': substituting in a column of NaN\n",
            "  warnings.warn(w)\n",
            "127.0.0.1 - - [06/Dec/2020 18:29:24] \"\u001b[37mPOST /predict HTTP/1.1\u001b[0m\" 200 -\n"
          ],
          "name": "stderr"
        }
      ]
    },
    {
      "cell_type": "code",
      "metadata": {
        "id": "8usfNIpDD-Vm"
      },
      "source": [
        ""
      ],
      "execution_count": 8,
      "outputs": []
    }
  ]
}