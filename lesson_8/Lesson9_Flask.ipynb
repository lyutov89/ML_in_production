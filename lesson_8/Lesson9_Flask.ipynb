{
  "nbformat": 4,
  "nbformat_minor": 0,
  "metadata": {
    "colab": {
      "name": "Lesson9_Flask.ipynb",
      "provenance": [],
      "collapsed_sections": []
    },
    "kernelspec": {
      "name": "python3",
      "display_name": "Python 3"
    }
  },
  "cells": [
    {
      "cell_type": "code",
      "metadata": {
        "colab": {
          "base_uri": "https://localhost:8080/"
        },
        "id": "h5UwPNX65oct",
        "outputId": "4e19cea2-6769-4dde-a5e3-a8d06b519b05"
      },
      "source": [
        "# Подключение к Google drive\n",
        "\n",
        "from google.colab import drive\n",
        "drive.mount('/content/drive')"
      ],
      "execution_count": 1,
      "outputs": [
        {
          "output_type": "stream",
          "text": [
            "Mounted at /content/drive\n"
          ],
          "name": "stdout"
        }
      ]
    },
    {
      "cell_type": "code",
      "metadata": {
        "colab": {
          "base_uri": "https://localhost:8080/"
        },
        "id": "0vJvzDPN5td0",
        "outputId": "ff2106a9-0bae-45ed-dd3d-f4a8c10a2016"
      },
      "source": [
        "!pip install flask-ngrok"
      ],
      "execution_count": 2,
      "outputs": [
        {
          "output_type": "stream",
          "text": [
            "Collecting flask-ngrok\n",
            "  Downloading https://files.pythonhosted.org/packages/af/6c/f54cb686ad1129e27d125d182f90f52b32f284e6c8df58c1bae54fa1adbc/flask_ngrok-0.0.25-py3-none-any.whl\n",
            "Requirement already satisfied: requests in /usr/local/lib/python3.6/dist-packages (from flask-ngrok) (2.23.0)\n",
            "Requirement already satisfied: Flask>=0.8 in /usr/local/lib/python3.6/dist-packages (from flask-ngrok) (1.1.2)\n",
            "Requirement already satisfied: certifi>=2017.4.17 in /usr/local/lib/python3.6/dist-packages (from requests->flask-ngrok) (2020.11.8)\n",
            "Requirement already satisfied: chardet<4,>=3.0.2 in /usr/local/lib/python3.6/dist-packages (from requests->flask-ngrok) (3.0.4)\n",
            "Requirement already satisfied: urllib3!=1.25.0,!=1.25.1,<1.26,>=1.21.1 in /usr/local/lib/python3.6/dist-packages (from requests->flask-ngrok) (1.24.3)\n",
            "Requirement already satisfied: idna<3,>=2.5 in /usr/local/lib/python3.6/dist-packages (from requests->flask-ngrok) (2.10)\n",
            "Requirement already satisfied: click>=5.1 in /usr/local/lib/python3.6/dist-packages (from Flask>=0.8->flask-ngrok) (7.1.2)\n",
            "Requirement already satisfied: Werkzeug>=0.15 in /usr/local/lib/python3.6/dist-packages (from Flask>=0.8->flask-ngrok) (1.0.1)\n",
            "Requirement already satisfied: itsdangerous>=0.24 in /usr/local/lib/python3.6/dist-packages (from Flask>=0.8->flask-ngrok) (1.1.0)\n",
            "Requirement already satisfied: Jinja2>=2.10.1 in /usr/local/lib/python3.6/dist-packages (from Flask>=0.8->flask-ngrok) (2.11.2)\n",
            "Requirement already satisfied: MarkupSafe>=0.23 in /usr/local/lib/python3.6/dist-packages (from Jinja2>=2.10.1->Flask>=0.8->flask-ngrok) (1.1.1)\n",
            "Installing collected packages: flask-ngrok\n",
            "Successfully installed flask-ngrok-0.0.25\n"
          ],
          "name": "stdout"
        }
      ]
    },
    {
      "cell_type": "code",
      "metadata": {
        "id": "l9J4BRIY54lN"
      },
      "source": [
        "from flask_ngrok import run_with_ngrok\n",
        "from flask import Flask, request, jsonify\n",
        "import pandas as pd"
      ],
      "execution_count": 3,
      "outputs": []
    },
    {
      "cell_type": "code",
      "metadata": {
        "colab": {
          "base_uri": "https://localhost:8080/"
        },
        "id": "4OKtjU7n6Dzl",
        "outputId": "ed82e2e9-b1af-43d6-d8ae-5377b958797e"
      },
      "source": [
        "# Пробный запуск Flask\n",
        "\n",
        "app = Flask(__name__)\n",
        "run_with_ngrok(app)  # Start ngrok when app is run\n",
        "\n",
        "@app.route(\"/a\")\n",
        "def hello():\n",
        "    return \"Hello World!\"\n",
        "\n",
        "if __name__ == '__main__':\n",
        "    app.run()"
      ],
      "execution_count": 13,
      "outputs": [
        {
          "output_type": "stream",
          "text": [
            " * Serving Flask app \"__main__\" (lazy loading)\n",
            " * Environment: production\n",
            "   WARNING: This is a development server. Do not use it in a production deployment.\n",
            "   Use a production WSGI server instead.\n",
            " * Debug mode: off\n"
          ],
          "name": "stdout"
        },
        {
          "output_type": "stream",
          "text": [
            " * Running on http://127.0.0.1:5000/ (Press CTRL+C to quit)\n"
          ],
          "name": "stderr"
        },
        {
          "output_type": "stream",
          "text": [
            " * Running on http://eefdd97003b0.ngrok.io\n",
            " * Traffic stats available on http://127.0.0.1:4040\n"
          ],
          "name": "stdout"
        },
        {
          "output_type": "stream",
          "text": [
            "127.0.0.1 - - [02/Dec/2020 20:59:19] \"\u001b[37mGET /a HTTP/1.1\u001b[0m\" 200 -\n"
          ],
          "name": "stderr"
        }
      ]
    },
    {
      "cell_type": "code",
      "metadata": {
        "colab": {
          "base_uri": "https://localhost:8080/"
        },
        "id": "O73Gg-ZF6HPm",
        "outputId": "f96f7744-35f9-45f6-c11a-a23079c4b884"
      },
      "source": [
        "!pip install h2o"
      ],
      "execution_count": 5,
      "outputs": [
        {
          "output_type": "stream",
          "text": [
            "Collecting h2o\n",
            "\u001b[?25l  Downloading https://files.pythonhosted.org/packages/26/c5/d63a8bfdbeb4ebfb709c010af3e061d89a363204c437cb5527431f6de3d2/h2o-3.32.0.2.tar.gz (164.6MB)\n",
            "\u001b[K     |████████████████████████████████| 164.6MB 86kB/s \n",
            "\u001b[?25hRequirement already satisfied: requests in /usr/local/lib/python3.6/dist-packages (from h2o) (2.23.0)\n",
            "Requirement already satisfied: tabulate in /usr/local/lib/python3.6/dist-packages (from h2o) (0.8.7)\n",
            "Requirement already satisfied: future in /usr/local/lib/python3.6/dist-packages (from h2o) (0.16.0)\n",
            "Collecting colorama>=0.3.8\n",
            "  Downloading https://files.pythonhosted.org/packages/44/98/5b86278fbbf250d239ae0ecb724f8572af1c91f4a11edf4d36a206189440/colorama-0.4.4-py2.py3-none-any.whl\n",
            "Requirement already satisfied: urllib3!=1.25.0,!=1.25.1,<1.26,>=1.21.1 in /usr/local/lib/python3.6/dist-packages (from requests->h2o) (1.24.3)\n",
            "Requirement already satisfied: idna<3,>=2.5 in /usr/local/lib/python3.6/dist-packages (from requests->h2o) (2.10)\n",
            "Requirement already satisfied: certifi>=2017.4.17 in /usr/local/lib/python3.6/dist-packages (from requests->h2o) (2020.11.8)\n",
            "Requirement already satisfied: chardet<4,>=3.0.2 in /usr/local/lib/python3.6/dist-packages (from requests->h2o) (3.0.4)\n",
            "Building wheels for collected packages: h2o\n",
            "  Building wheel for h2o (setup.py) ... \u001b[?25l\u001b[?25hdone\n",
            "  Created wheel for h2o: filename=h2o-3.32.0.2-py2.py3-none-any.whl size=164620456 sha256=a9eb2f611999aaf1ded93afbae64620092063bac9e9b739ebacc216b2457df89\n",
            "  Stored in directory: /root/.cache/pip/wheels/42/bd/ea/218fd15724eddf6fa7fc8fab802b6fa592e623d87199679721\n",
            "Successfully built h2o\n",
            "Installing collected packages: colorama, h2o\n",
            "Successfully installed colorama-0.4.4 h2o-3.32.0.2\n"
          ],
          "name": "stdout"
        }
      ]
    },
    {
      "cell_type": "code",
      "metadata": {
        "colab": {
          "base_uri": "https://localhost:8080/",
          "height": 543
        },
        "id": "mrQ8bbqR6SQJ",
        "outputId": "4fb7856a-5312-4f3c-bfb8-a5df03996df5"
      },
      "source": [
        "import h2o\n",
        "h2o.init()"
      ],
      "execution_count": 6,
      "outputs": [
        {
          "output_type": "stream",
          "text": [
            "Checking whether there is an H2O instance running at http://localhost:54321 ..... not found.\n",
            "Attempting to start a local H2O server...\n",
            "  Java Version: openjdk version \"11.0.9.1\" 2020-11-04; OpenJDK Runtime Environment (build 11.0.9.1+1-Ubuntu-0ubuntu1.18.04); OpenJDK 64-Bit Server VM (build 11.0.9.1+1-Ubuntu-0ubuntu1.18.04, mixed mode, sharing)\n",
            "  Starting server from /usr/local/lib/python3.6/dist-packages/h2o/backend/bin/h2o.jar\n",
            "  Ice root: /tmp/tmp2zmowcr9\n",
            "  JVM stdout: /tmp/tmp2zmowcr9/h2o_unknownUser_started_from_python.out\n",
            "  JVM stderr: /tmp/tmp2zmowcr9/h2o_unknownUser_started_from_python.err\n",
            "  Server is running at http://127.0.0.1:54321\n",
            "Connecting to H2O server at http://127.0.0.1:54321 ... successful.\n"
          ],
          "name": "stdout"
        },
        {
          "output_type": "display_data",
          "data": {
            "text/html": [
              "<div style=\"overflow:auto\"><table style=\"width:50%\"><tr><td>H2O_cluster_uptime:</td>\n",
              "<td>03 secs</td></tr>\n",
              "<tr><td>H2O_cluster_timezone:</td>\n",
              "<td>Etc/UTC</td></tr>\n",
              "<tr><td>H2O_data_parsing_timezone:</td>\n",
              "<td>UTC</td></tr>\n",
              "<tr><td>H2O_cluster_version:</td>\n",
              "<td>3.32.0.2</td></tr>\n",
              "<tr><td>H2O_cluster_version_age:</td>\n",
              "<td>15 days </td></tr>\n",
              "<tr><td>H2O_cluster_name:</td>\n",
              "<td>H2O_from_python_unknownUser_mgfd6q</td></tr>\n",
              "<tr><td>H2O_cluster_total_nodes:</td>\n",
              "<td>1</td></tr>\n",
              "<tr><td>H2O_cluster_free_memory:</td>\n",
              "<td>3.180 Gb</td></tr>\n",
              "<tr><td>H2O_cluster_total_cores:</td>\n",
              "<td>2</td></tr>\n",
              "<tr><td>H2O_cluster_allowed_cores:</td>\n",
              "<td>2</td></tr>\n",
              "<tr><td>H2O_cluster_status:</td>\n",
              "<td>accepting new members, healthy</td></tr>\n",
              "<tr><td>H2O_connection_url:</td>\n",
              "<td>http://127.0.0.1:54321</td></tr>\n",
              "<tr><td>H2O_connection_proxy:</td>\n",
              "<td>{\"http\": null, \"https\": null}</td></tr>\n",
              "<tr><td>H2O_internal_security:</td>\n",
              "<td>False</td></tr>\n",
              "<tr><td>H2O_API_Extensions:</td>\n",
              "<td>Amazon S3, XGBoost, Algos, AutoML, Core V3, TargetEncoder, Core V4</td></tr>\n",
              "<tr><td>Python_version:</td>\n",
              "<td>3.6.9 final</td></tr></table></div>"
            ],
            "text/plain": [
              "--------------------------  ------------------------------------------------------------------\n",
              "H2O_cluster_uptime:         03 secs\n",
              "H2O_cluster_timezone:       Etc/UTC\n",
              "H2O_data_parsing_timezone:  UTC\n",
              "H2O_cluster_version:        3.32.0.2\n",
              "H2O_cluster_version_age:    15 days\n",
              "H2O_cluster_name:           H2O_from_python_unknownUser_mgfd6q\n",
              "H2O_cluster_total_nodes:    1\n",
              "H2O_cluster_free_memory:    3.180 Gb\n",
              "H2O_cluster_total_cores:    2\n",
              "H2O_cluster_allowed_cores:  2\n",
              "H2O_cluster_status:         accepting new members, healthy\n",
              "H2O_connection_url:         http://127.0.0.1:54321\n",
              "H2O_connection_proxy:       {\"http\": null, \"https\": null}\n",
              "H2O_internal_security:      False\n",
              "H2O_API_Extensions:         Amazon S3, XGBoost, Algos, AutoML, Core V3, TargetEncoder, Core V4\n",
              "Python_version:             3.6.9 final\n",
              "--------------------------  ------------------------------------------------------------------"
            ]
          },
          "metadata": {
            "tags": []
          }
        }
      ]
    },
    {
      "cell_type": "code",
      "metadata": {
        "id": "cGdnJnRp6XSo"
      },
      "source": [
        "# Загружаем обученные модели \n",
        "model_glm_binomial = h2o.load_model('/content/drive/My Drive/my_time_rows/GLM_model_python_1606943434268_1')\n"
      ],
      "execution_count": 15,
      "outputs": []
    },
    {
      "cell_type": "code",
      "metadata": {
        "colab": {
          "base_uri": "https://localhost:8080/"
        },
        "id": "3x8SAlTP8DJG",
        "outputId": "2739b8c4-a3e8-40d3-c62a-8d7563706abb"
      },
      "source": [
        "# Запуск Flask\n",
        "\n",
        "app = Flask(__name__)\n",
        "run_with_ngrok(app)  # Start ngrok when app is run\n",
        "\n",
        "@app.route('/predict', methods=['GET', 'POST'])\n",
        "def predict3():\n",
        "\n",
        "    try:\n",
        "\n",
        "      json_input = request.json\n",
        "\n",
        "      ID = json_input[\"ID\"]\n",
        "      LicAge = json_input[\"LicAge\"]\n",
        "      Gender = map_for_dict_Gender(json_input[\"Gender\"])\n",
        "      MariStat = map_for_dict_MariStat(json_input[\"MariStat\"])\n",
        "      DrivAge = json_input[\"DrivAge\"]\n",
        "      HasKmLimit = json_input[\"HasKmLimit\"]\n",
        "      BonusMalus = json_input[\"BonusMalus\"]\n",
        "      OutUseNb = json_input[\"OutUseNb\"]\n",
        "      RiskArea = json_input[\"RiskArea\"]\n",
        "      VehUsg_Private = f_VehUsage_Private(json_input[\"VehUsage\"])\n",
        "      VehUsg_Private_trip_to_office = f_VehUsage_Private_trip_to_office(json_input[\"VehUsage\"])\n",
        "      VehUsg_Professional = f_VehUsage_Professional(json_input[\"VehUsage\"])\n",
        "      VehUsg_Professional_run = f_VehUsage_Professional_run(json_input[\"VehUsage\"])\n",
        "      CSP1 = 0\n",
        "      CSP2 = 0\n",
        "      CSP3 = 0\n",
        "      CSP6 = 0\n",
        "      CSP7 = 0\n",
        "      CSP20 = 0\n",
        "      CSP21 = 0\n",
        "      CSP22 = 0\n",
        "      CSP26 = 0\n",
        "      CSP37 = 0\n",
        "      CSP40 = 0\n",
        "      CSP42 = 0\n",
        "      CSP46 = 0\n",
        "      CSP47 = 0\n",
        "      CSP48 = 0\n",
        "      CSP49 = 0\n",
        "      CSP50 = 0\n",
        "      CSP55 = 0\n",
        "      CSP56 = 0\n",
        "      CSP57 = 0\n",
        "      CSP60 = 0\n",
        "      CSP65 = 0\n",
        "      CSP66 = 0\n",
        "\n",
        "      hf = return_NewH2o_Frame()\n",
        "\n",
        "      hf[0, 'LicAge'] = LicAge\n",
        "      hf[0, 'Gender'] = Gender\n",
        "      hf[0, 'MariStat'] = MariStat\n",
        "      hf[0, 'DrivAge'] = DrivAge\n",
        "      hf[0, 'HasKmLimit'] = HasKmLimit\n",
        "      hf[0, 'BonusMalus'] = BonusMalus\n",
        "      hf[0, 'OutUseNb'] = OutUseNb\n",
        "      hf[0, 'RiskArea'] = RiskArea\n",
        "      hf[0, 'VehUsg_Private'] = VehUsg_Private\n",
        "      hf[0, 'VehUsg_Private+trip to office'] = VehUsg_Private_trip_to_office\n",
        "      hf[0, 'VehUsg_Professional'] = VehUsg_Professional\n",
        "      hf[0, 'VehUsg_Professional run'] = VehUsg_Professional_run\n",
        "      hf[0, 'CSP1'] = CSP1\n",
        "      hf[0, 'CSP2'] = CSP2\n",
        "      hf[0, 'CSP3'] = CSP3\n",
        "      hf[0, 'CSP6'] = CSP6\n",
        "      hf[0, 'CSP7'] = CSP7\n",
        "      hf[0, 'CSP20'] = CSP20\n",
        "      hf[0, 'CSP21'] = CSP21\n",
        "      hf[0, 'CSP22'] = CSP22\n",
        "      hf[0, 'CSP26'] = CSP26\n",
        "      hf[0, 'CSP37'] = CSP37\n",
        "      hf[0, 'CSP40'] = CSP40\n",
        "      hf[0, 'CSP42'] = CSP42\n",
        "      hf[0, 'CSP46'] = CSP46\n",
        "      hf[0, 'CSP47'] = CSP47\n",
        "      hf[0, 'CSP48'] = CSP48\n",
        "      hf[0, 'CSP49'] = CSP49\n",
        "      hf[0, 'CSP50'] = CSP50\n",
        "      hf[0, 'CSP55'] = CSP55\n",
        "      hf[0, 'CSP56'] = CSP56\n",
        "      hf[0, 'CSP57'] = CSP57\n",
        "      hf[0, 'CSP60'] = CSP60\n",
        "      hf[0, 'CSP65'] = CSP65\n",
        "      hf[0, 'CSP66'] = CSP66\n",
        "\n",
        "      prediction_Binomial = model_glm_binomial.predict(hf)\n",
        "      value_Binomial  = prediction_Binomial.as_data_frame()['predict'][0]\n",
        "\n",
        "      return jsonify({'ID':ID, 'value_Binomial':value_Binomial})\n",
        "\n",
        "    except:\n",
        "      \n",
        "      return \"Error\"\n",
        "\n",
        "if __name__ == '__main__':\n",
        "    app.run()"
      ],
      "execution_count": 17,
      "outputs": [
        {
          "output_type": "stream",
          "text": [
            " * Serving Flask app \"__main__\" (lazy loading)\n",
            " * Environment: production\n",
            "   WARNING: This is a development server. Do not use it in a production deployment.\n",
            "   Use a production WSGI server instead.\n",
            " * Debug mode: off\n"
          ],
          "name": "stdout"
        },
        {
          "output_type": "stream",
          "text": [
            " * Running on http://127.0.0.1:5000/ (Press CTRL+C to quit)\n"
          ],
          "name": "stderr"
        },
        {
          "output_type": "stream",
          "text": [
            " * Running on http://6b57f119e270.ngrok.io\n",
            " * Traffic stats available on http://127.0.0.1:4040\n"
          ],
          "name": "stdout"
        },
        {
          "output_type": "stream",
          "text": [
            "127.0.0.1 - - [02/Dec/2020 21:31:02] \"\u001b[37mGET /predict HTTP/1.1\u001b[0m\" 200 -\n"
          ],
          "name": "stderr"
        }
      ]
    }
  ]
}