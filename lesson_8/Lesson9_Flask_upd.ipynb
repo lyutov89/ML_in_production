{
  "nbformat": 4,
  "nbformat_minor": 0,
  "metadata": {
    "colab": {
      "name": "Lesson9_Flask.ipynb",
      "provenance": [],
      "collapsed_sections": []
    },
    "kernelspec": {
      "display_name": "Python 3",
      "name": "python3"
    }
  },
  "cells": [
    {
      "cell_type": "code",
      "metadata": {
        "colab": {
          "base_uri": "https://localhost:8080/"
        },
        "id": "h5UwPNX65oct",
        "outputId": "edecb47b-af09-4359-d612-0e3f999fc3f1"
      },
      "source": [
        "# Подключение к Google drive\n",
        "\n",
        "from google.colab import drive\n",
        "drive.mount('/content/drive')"
      ],
      "execution_count": 11,
      "outputs": [
        {
          "output_type": "stream",
          "text": [
            "Drive already mounted at /content/drive; to attempt to forcibly remount, call drive.mount(\"/content/drive\", force_remount=True).\n"
          ],
          "name": "stdout"
        }
      ]
    },
    {
      "cell_type": "code",
      "metadata": {
        "colab": {
          "base_uri": "https://localhost:8080/"
        },
        "id": "0vJvzDPN5td0",
        "outputId": "41a315e7-bf7d-4b46-9161-60b0850e95b5"
      },
      "source": [
        "!pip install flask-ngrok"
      ],
      "execution_count": 12,
      "outputs": [
        {
          "output_type": "stream",
          "text": [
            "Requirement already satisfied: flask-ngrok in /usr/local/lib/python3.6/dist-packages (0.0.25)\n",
            "Requirement already satisfied: Flask>=0.8 in /usr/local/lib/python3.6/dist-packages (from flask-ngrok) (1.1.2)\n",
            "Requirement already satisfied: requests in /usr/local/lib/python3.6/dist-packages (from flask-ngrok) (2.23.0)\n",
            "Requirement already satisfied: itsdangerous>=0.24 in /usr/local/lib/python3.6/dist-packages (from Flask>=0.8->flask-ngrok) (1.1.0)\n",
            "Requirement already satisfied: Werkzeug>=0.15 in /usr/local/lib/python3.6/dist-packages (from Flask>=0.8->flask-ngrok) (1.0.1)\n",
            "Requirement already satisfied: Jinja2>=2.10.1 in /usr/local/lib/python3.6/dist-packages (from Flask>=0.8->flask-ngrok) (2.11.2)\n",
            "Requirement already satisfied: click>=5.1 in /usr/local/lib/python3.6/dist-packages (from Flask>=0.8->flask-ngrok) (7.1.2)\n",
            "Requirement already satisfied: idna<3,>=2.5 in /usr/local/lib/python3.6/dist-packages (from requests->flask-ngrok) (2.10)\n",
            "Requirement already satisfied: chardet<4,>=3.0.2 in /usr/local/lib/python3.6/dist-packages (from requests->flask-ngrok) (3.0.4)\n",
            "Requirement already satisfied: urllib3!=1.25.0,!=1.25.1,<1.26,>=1.21.1 in /usr/local/lib/python3.6/dist-packages (from requests->flask-ngrok) (1.24.3)\n",
            "Requirement already satisfied: certifi>=2017.4.17 in /usr/local/lib/python3.6/dist-packages (from requests->flask-ngrok) (2020.11.8)\n",
            "Requirement already satisfied: MarkupSafe>=0.23 in /usr/local/lib/python3.6/dist-packages (from Jinja2>=2.10.1->Flask>=0.8->flask-ngrok) (1.1.1)\n"
          ],
          "name": "stdout"
        }
      ]
    },
    {
      "cell_type": "code",
      "metadata": {
        "id": "l9J4BRIY54lN"
      },
      "source": [
        "from flask_ngrok import run_with_ngrok\n",
        "from flask import Flask, request, jsonify\n",
        "import pandas as pd"
      ],
      "execution_count": 13,
      "outputs": []
    },
    {
      "cell_type": "code",
      "metadata": {
        "colab": {
          "base_uri": "https://localhost:8080/"
        },
        "id": "4OKtjU7n6Dzl",
        "outputId": "f857a40d-fdf2-4e41-c584-463f1f0e98f9"
      },
      "source": [
        "# Пробный запуск Flask\n",
        "\n",
        "app = Flask(__name__)\n",
        "run_with_ngrok(app)  # Start ngrok when app is run\n",
        "\n",
        "@app.route(\"/a\")\n",
        "def hello():\n",
        "    return \"Hello World!\"\n",
        "\n",
        "if __name__ == '__main__':\n",
        "    app.run()"
      ],
      "execution_count": 14,
      "outputs": [
        {
          "output_type": "stream",
          "text": [
            " * Serving Flask app \"__main__\" (lazy loading)\n",
            " * Environment: production\n",
            "   WARNING: This is a development server. Do not use it in a production deployment.\n",
            "   Use a production WSGI server instead.\n",
            " * Debug mode: off\n"
          ],
          "name": "stdout"
        },
        {
          "output_type": "stream",
          "text": [
            " * Running on http://127.0.0.1:5000/ (Press CTRL+C to quit)\n"
          ],
          "name": "stderr"
        },
        {
          "output_type": "stream",
          "text": [
            " * Running on http://ff19c614f5ca.ngrok.io\n",
            " * Traffic stats available on http://127.0.0.1:4040\n"
          ],
          "name": "stdout"
        },
        {
          "output_type": "stream",
          "text": [
            "127.0.0.1 - - [03/Dec/2020 19:54:38] \"\u001b[37mGET /a HTTP/1.1\u001b[0m\" 200 -\n",
            "127.0.0.1 - - [03/Dec/2020 19:54:38] \"\u001b[33mGET /favicon.ico HTTP/1.1\u001b[0m\" 404 -\n"
          ],
          "name": "stderr"
        }
      ]
    },
    {
      "cell_type": "code",
      "metadata": {
        "colab": {
          "base_uri": "https://localhost:8080/"
        },
        "id": "O73Gg-ZF6HPm",
        "outputId": "8805a9eb-e769-4445-cffa-86498fc87c95"
      },
      "source": [
        "!pip install h2o"
      ],
      "execution_count": 15,
      "outputs": [
        {
          "output_type": "stream",
          "text": [
            "Requirement already satisfied: h2o in /usr/local/lib/python3.6/dist-packages (3.32.0.2)\n",
            "Requirement already satisfied: colorama>=0.3.8 in /usr/local/lib/python3.6/dist-packages (from h2o) (0.4.4)\n",
            "Requirement already satisfied: requests in /usr/local/lib/python3.6/dist-packages (from h2o) (2.23.0)\n",
            "Requirement already satisfied: tabulate in /usr/local/lib/python3.6/dist-packages (from h2o) (0.8.7)\n",
            "Requirement already satisfied: future in /usr/local/lib/python3.6/dist-packages (from h2o) (0.16.0)\n",
            "Requirement already satisfied: idna<3,>=2.5 in /usr/local/lib/python3.6/dist-packages (from requests->h2o) (2.10)\n",
            "Requirement already satisfied: urllib3!=1.25.0,!=1.25.1,<1.26,>=1.21.1 in /usr/local/lib/python3.6/dist-packages (from requests->h2o) (1.24.3)\n",
            "Requirement already satisfied: certifi>=2017.4.17 in /usr/local/lib/python3.6/dist-packages (from requests->h2o) (2020.11.8)\n",
            "Requirement already satisfied: chardet<4,>=3.0.2 in /usr/local/lib/python3.6/dist-packages (from requests->h2o) (3.0.4)\n"
          ],
          "name": "stdout"
        }
      ]
    },
    {
      "cell_type": "code",
      "metadata": {
        "colab": {
          "base_uri": "https://localhost:8080/",
          "height": 385
        },
        "id": "mrQ8bbqR6SQJ",
        "outputId": "b8bec07f-4970-46dd-9eb4-2212706e3558"
      },
      "source": [
        "import h2o\n",
        "h2o.init()"
      ],
      "execution_count": 16,
      "outputs": [
        {
          "output_type": "stream",
          "text": [
            "Checking whether there is an H2O instance running at http://localhost:54321 . connected.\n"
          ],
          "name": "stdout"
        },
        {
          "output_type": "display_data",
          "data": {
            "text/html": [
              "<div style=\"overflow:auto\"><table style=\"width:50%\"><tr><td>H2O_cluster_uptime:</td>\n",
              "<td>26 mins 04 secs</td></tr>\n",
              "<tr><td>H2O_cluster_timezone:</td>\n",
              "<td>Etc/UTC</td></tr>\n",
              "<tr><td>H2O_data_parsing_timezone:</td>\n",
              "<td>UTC</td></tr>\n",
              "<tr><td>H2O_cluster_version:</td>\n",
              "<td>3.32.0.2</td></tr>\n",
              "<tr><td>H2O_cluster_version_age:</td>\n",
              "<td>16 days </td></tr>\n",
              "<tr><td>H2O_cluster_name:</td>\n",
              "<td>H2O_from_python_unknownUser_adnty4</td></tr>\n",
              "<tr><td>H2O_cluster_total_nodes:</td>\n",
              "<td>1</td></tr>\n",
              "<tr><td>H2O_cluster_free_memory:</td>\n",
              "<td>3.179 Gb</td></tr>\n",
              "<tr><td>H2O_cluster_total_cores:</td>\n",
              "<td>2</td></tr>\n",
              "<tr><td>H2O_cluster_allowed_cores:</td>\n",
              "<td>2</td></tr>\n",
              "<tr><td>H2O_cluster_status:</td>\n",
              "<td>locked, healthy</td></tr>\n",
              "<tr><td>H2O_connection_url:</td>\n",
              "<td>http://localhost:54321</td></tr>\n",
              "<tr><td>H2O_connection_proxy:</td>\n",
              "<td>{\"http\": null, \"https\": null}</td></tr>\n",
              "<tr><td>H2O_internal_security:</td>\n",
              "<td>False</td></tr>\n",
              "<tr><td>H2O_API_Extensions:</td>\n",
              "<td>Amazon S3, XGBoost, Algos, AutoML, Core V3, TargetEncoder, Core V4</td></tr>\n",
              "<tr><td>Python_version:</td>\n",
              "<td>3.6.9 final</td></tr></table></div>"
            ],
            "text/plain": [
              "--------------------------  ------------------------------------------------------------------\n",
              "H2O_cluster_uptime:         26 mins 04 secs\n",
              "H2O_cluster_timezone:       Etc/UTC\n",
              "H2O_data_parsing_timezone:  UTC\n",
              "H2O_cluster_version:        3.32.0.2\n",
              "H2O_cluster_version_age:    16 days\n",
              "H2O_cluster_name:           H2O_from_python_unknownUser_adnty4\n",
              "H2O_cluster_total_nodes:    1\n",
              "H2O_cluster_free_memory:    3.179 Gb\n",
              "H2O_cluster_total_cores:    2\n",
              "H2O_cluster_allowed_cores:  2\n",
              "H2O_cluster_status:         locked, healthy\n",
              "H2O_connection_url:         http://localhost:54321\n",
              "H2O_connection_proxy:       {\"http\": null, \"https\": null}\n",
              "H2O_internal_security:      False\n",
              "H2O_API_Extensions:         Amazon S3, XGBoost, Algos, AutoML, Core V3, TargetEncoder, Core V4\n",
              "Python_version:             3.6.9 final\n",
              "--------------------------  ------------------------------------------------------------------"
            ]
          },
          "metadata": {
            "tags": []
          }
        }
      ]
    },
    {
      "cell_type": "code",
      "metadata": {
        "id": "cGdnJnRp6XSo"
      },
      "source": [
        "# Загружаем обученные модели \n",
        "model_glm_binomial = h2o.load_model('/content/drive/My Drive/my_time_rows/GLM_model_python_1607029343503_1')\n"
      ],
      "execution_count": 29,
      "outputs": []
    },
    {
      "cell_type": "code",
      "metadata": {
        "colab": {
          "base_uri": "https://localhost:8080/"
        },
        "id": "3x8SAlTP8DJG",
        "outputId": "fe5d7c0f-a6c9-4db2-aac3-fb28b3e6e301"
      },
      "source": [
        "# Запуск Flask\n",
        "\n",
        "app = Flask(__name__)\n",
        "run_with_ngrok(app)  # Start ngrok when app is run\n",
        "\n",
        "def map_for_dict_Gender(Gender):\n",
        "  dict_Gender = {'Male':0, 'Female':1}\n",
        "  res = dict_Gender.get(Gender)\n",
        "  return res\n",
        "\n",
        "def map_for_dict_MariStat(MariStat):\n",
        "  dict_MariStat = {'Other':0, 'Alone':1}\n",
        "  res = dict_MariStat.get(MariStat)\n",
        "  return res\n",
        "\n",
        "def f_VehUsage_Professional(VehUsage):\n",
        "  if VehUsage == 'Professional':\n",
        "    VehUsage_Professional = 1\n",
        "  else:\n",
        "    VehUsage_Professional = 0\n",
        "  return(VehUsage_Professional)\n",
        "\n",
        "def f_VehUsage_Private_trip_to_office(VehUsage):\n",
        "  if VehUsage == 'Private+trip to office':\n",
        "    VehUsage_Private_trip_to_office = 1\n",
        "  else:\n",
        "    VehUsage_Private_trip_to_office = 0\n",
        "  return(VehUsage_Private_trip_to_office)\n",
        "\n",
        "def f_VehUsage_Private(VehUsage):\n",
        "  if VehUsage == 'Private':\n",
        "    VehUsage_Private = 1\n",
        "  else:\n",
        "    VehUsage_Privatel = 0\n",
        "  return(VehUsage_Private)\n",
        "\n",
        "def f_VehUsage_Professional_run(VehUsage):\n",
        "  if VehUsage == 'Professional run':\n",
        "    VehUsage_Professional_run = 1\n",
        "  else:\n",
        "    VehUsage_Professional_run = 0\n",
        "  return(VehUsage_Professional_run)\n",
        "\n",
        "def return_NewH2o_Frame():\n",
        "  columns = [\n",
        "      'LicAge',\n",
        "      'Gender',\n",
        "      'MariStat',\n",
        "      'DrivAge',\n",
        "      'HasKmLimit',\n",
        "      'BonusMalus',\n",
        "      'OutUseNb',\n",
        "      'RiskArea',\n",
        "      'VehUsg_Private',\n",
        "      'VehUsg_Private+trip to office',\n",
        "      'VehUsg_Professional',\n",
        "      'VehUsg_Professional run',\n",
        "      'CSP1',\n",
        "      'CSP2',\n",
        "      'CSP3',\n",
        "      'CSP6',\n",
        "      'CSP7',\n",
        "      'CSP20',\n",
        "      'CSP21',\n",
        "      'CSP22',\n",
        "      'CSP26',\n",
        "      'CSP37',\n",
        "      'CSP40',\n",
        "      'CSP42',\n",
        "      'CSP46',\n",
        "      'CSP47',\n",
        "      'CSP48',\n",
        "      'CSP49',\n",
        "      'CSP50',\n",
        "      'CSP55',\n",
        "      'CSP56',\n",
        "      'CSP57',\n",
        "      'CSP60',\n",
        "      'CSP65',\n",
        "      'CSP66'\n",
        "      ]\n",
        "  return h2o.H2OFrame([[0,0,0,0,0,0,0,0,0,0,0,0,0,0,0,0,0,0,0,0,0,0,0,0,0,0,0,0,0,0,0,0,0,0,0]], column_names = columns)\n",
        "\n",
        "@app.route(\"/\")\n",
        "def index():\n",
        "    return \"API for predict service\"\n",
        "\n",
        "@app.route('/predict', methods=['GET', 'POST'])\n",
        "def predict3():\n",
        "\n",
        "    try:\n",
        "\n",
        "      json_input = request.json\n",
        "      \n",
        "      print(json_input)\n",
        "      ID = json_input[\"ID\"]\n",
        "      LicAge = json_input[\"LicAge\"]\n",
        "      Gender = map_for_dict_Gender(json_input[\"Gender\"])\n",
        "      MariStat = map_for_dict_MariStat(json_input[\"MariStat\"])\n",
        "      DrivAge = json_input[\"DrivAge\"]\n",
        "      HasKmLimit = json_input[\"HasKmLimit\"]\n",
        "      BonusMalus = json_input[\"BonusMalus\"]\n",
        "      OutUseNb = json_input[\"OutUseNb\"]\n",
        "      RiskArea = json_input[\"RiskArea\"]\n",
        "      VehUsg_Private = f_VehUsage_Private(json_input[\"VehUsage\"])\n",
        "      VehUsg_Private_trip_to_office = f_VehUsage_Private_trip_to_office(json_input[\"VehUsage\"])\n",
        "      VehUsg_Professional = f_VehUsage_Professional(json_input[\"VehUsage\"])\n",
        "      VehUsg_Professional_run = f_VehUsage_Professional_run(json_input[\"VehUsage\"])\n",
        "      CSP1 = 0\n",
        "      CSP2 = 0\n",
        "      CSP3 = 0\n",
        "      CSP6 = 0\n",
        "      CSP7 = 0\n",
        "      CSP20 = 0\n",
        "      CSP21 = 0\n",
        "      CSP22 = 0\n",
        "      CSP26 = 0\n",
        "      CSP37 = 0\n",
        "      CSP40 = 0\n",
        "      CSP42 = 0\n",
        "      CSP46 = 0\n",
        "      CSP47 = 0\n",
        "      CSP48 = 0\n",
        "      CSP49 = 0\n",
        "      CSP50 = 0\n",
        "      CSP55 = 0\n",
        "      CSP56 = 0\n",
        "      CSP57 = 0\n",
        "      CSP60 = 0\n",
        "      CSP65 = 0\n",
        "      CSP66 = 0\n",
        "\n",
        "      hf = return_NewH2o_Frame()\n",
        "\n",
        "      hf[0, 'LicAge'] = LicAge\n",
        "      hf[0, 'Gender'] = Gender\n",
        "      hf[0, 'MariStat'] = MariStat\n",
        "      hf[0, 'DrivAge'] = DrivAge\n",
        "      hf[0, 'HasKmLimit'] = HasKmLimit\n",
        "      hf[0, 'BonusMalus'] = BonusMalus\n",
        "      hf[0, 'OutUseNb'] = OutUseNb\n",
        "      hf[0, 'RiskArea'] = RiskArea\n",
        "      hf[0, 'VehUsg_Private'] = VehUsg_Private\n",
        "      hf[0, 'VehUsg_Private+trip to office'] = VehUsg_Private_trip_to_office\n",
        "      hf[0, 'VehUsg_Professional'] = VehUsg_Professional\n",
        "      hf[0, 'VehUsg_Professional run'] = VehUsg_Professional_run\n",
        "      hf[0, 'CSP1'] = CSP1\n",
        "      hf[0, 'CSP2'] = CSP2\n",
        "      hf[0, 'CSP3'] = CSP3\n",
        "      hf[0, 'CSP6'] = CSP6\n",
        "      hf[0, 'CSP7'] = CSP7\n",
        "      hf[0, 'CSP20'] = CSP20\n",
        "      hf[0, 'CSP21'] = CSP21\n",
        "      hf[0, 'CSP22'] = CSP22\n",
        "      hf[0, 'CSP26'] = CSP26\n",
        "      hf[0, 'CSP37'] = CSP37\n",
        "      hf[0, 'CSP40'] = CSP40\n",
        "      hf[0, 'CSP42'] = CSP42\n",
        "      hf[0, 'CSP46'] = CSP46\n",
        "      hf[0, 'CSP47'] = CSP47\n",
        "      hf[0, 'CSP48'] = CSP48\n",
        "      hf[0, 'CSP49'] = CSP49\n",
        "      hf[0, 'CSP50'] = CSP50\n",
        "      hf[0, 'CSP55'] = CSP55\n",
        "      hf[0, 'CSP56'] = CSP56\n",
        "      hf[0, 'CSP57'] = CSP57\n",
        "      hf[0, 'CSP60'] = CSP60\n",
        "      hf[0, 'CSP65'] = CSP65\n",
        "      hf[0, 'CSP66'] = CSP66\n",
        "\n",
        "\n",
        "      prediction_Binomial = model_glm_binomial.predict(hf)\n",
        "      value_Binomial  = prediction_Binomial.as_data_frame()['predict'][0]\n",
        "\n",
        "      return jsonify({'ID':ID, 'value_Binomial':value_Binomial})\n",
        "\n",
        "    except:\n",
        "      \n",
        "      return \"Error\"\n",
        "\n",
        "if __name__ == '__main__':\n",
        "    app.run()"
      ],
      "execution_count": null,
      "outputs": [
        {
          "output_type": "stream",
          "text": [
            " * Serving Flask app \"__main__\" (lazy loading)\n",
            " * Environment: production\n",
            "   WARNING: This is a development server. Do not use it in a production deployment.\n",
            "   Use a production WSGI server instead.\n",
            " * Debug mode: off\n"
          ],
          "name": "stdout"
        },
        {
          "output_type": "stream",
          "text": [
            " * Running on http://127.0.0.1:5000/ (Press CTRL+C to quit)\n"
          ],
          "name": "stderr"
        },
        {
          "output_type": "stream",
          "text": [
            " * Running on http://69dd509c12ec.ngrok.io\n",
            " * Traffic stats available on http://127.0.0.1:4040\n"
          ],
          "name": "stdout"
        },
        {
          "output_type": "stream",
          "text": [
            "127.0.0.1 - - [03/Dec/2020 21:28:47] \"\u001b[37mGET / HTTP/1.1\u001b[0m\" 200 -\n"
          ],
          "name": "stderr"
        },
        {
          "output_type": "stream",
          "text": [
            "None\n"
          ],
          "name": "stdout"
        },
        {
          "output_type": "stream",
          "text": [
            "127.0.0.1 - - [03/Dec/2020 21:28:54] \"\u001b[37mGET /predict HTTP/1.1\u001b[0m\" 200 -\n"
          ],
          "name": "stderr"
        },
        {
          "output_type": "stream",
          "text": [
            "None\n"
          ],
          "name": "stdout"
        },
        {
          "output_type": "stream",
          "text": [
            "127.0.0.1 - - [03/Dec/2020 21:29:22] \"\u001b[37mGET /predict HTTP/1.1\u001b[0m\" 200 -\n"
          ],
          "name": "stderr"
        }
      ]
    },
    {
      "cell_type": "code",
      "metadata": {
        "id": "8usfNIpDD-Vm"
      },
      "source": [
        ""
      ],
      "execution_count": 18,
      "outputs": []
    }
  ]
}