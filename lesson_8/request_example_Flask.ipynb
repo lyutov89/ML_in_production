{
 "cells": [
  {
   "cell_type": "code",
   "execution_count": 1,
   "metadata": {
    "id": "Cxm28pii80xp"
   },
   "outputs": [],
   "source": [
    "import requests"
   ]
  },
  {
   "cell_type": "code",
   "execution_count": 3,
   "metadata": {
    "colab": {
     "base_uri": "https://localhost:8080/"
    },
    "id": "J_xtPIQt8toy",
    "outputId": "bac36fb2-1018-4a4c-a276-313026c41976"
   },
   "outputs": [
    {
     "name": "stdout",
     "output_type": "stream",
     "text": [
      "{'ID': 1, 'value_Binomial': 0.0}\n"
     ]
    }
   ],
   "source": [
    "# Пример данных\n",
    "data = {\n",
    "    \"ID\":1,\n",
    "    \"LicAge\":468,\n",
    "    \"RecordBeg\":\"2004-01-01\",\n",
    "    \"RecordEnd\":\"\",\n",
    "    \"VehAge\":\"\",\n",
    "    \"Gender\":\"Male\",\n",
    "    \"MariStat\":\"Other\",\n",
    "    \"SocioCateg\":\"CSP50\",\n",
    "    \"VehUsage\":\"Private\",\n",
    "    \"DrivAge\":67,\n",
    "    \"HasKmLimit\":0,\n",
    "    \"BonusMalus\":50,\n",
    "    \"OutUseNb\":0,\n",
    "    \"RiskArea\":0\n",
    "    }\n",
    "\n",
    "# формируем запрос\n",
    "def send_json(data):\n",
    "    url = 'http://938c354e006b.ngrok.io/predict'\n",
    "    headers = {'content-type': 'application/json'}\n",
    "    response = requests.post(url, json=data, headers=headers)\n",
    "    return response\n",
    "\n",
    "# обращение к серверу\n",
    "if __name__ == '__main__':\n",
    "    response = send_json(data)\n",
    "    print(response.json())"
   ]
  },
  {
   "cell_type": "code",
   "execution_count": null,
   "metadata": {
    "id": "6hdMT1q39TuA"
   },
   "outputs": [],
   "source": []
  }
 ],
 "metadata": {
  "colab": {
   "name": "запрос_к_модели.ipynb",
   "provenance": []
  },
  "kernelspec": {
   "display_name": "Python 3",
   "language": "python",
   "name": "python3"
  },
  "language_info": {
   "codemirror_mode": {
    "name": "ipython",
    "version": 3
   },
   "file_extension": ".py",
   "mimetype": "text/x-python",
   "name": "python",
   "nbconvert_exporter": "python",
   "pygments_lexer": "ipython3",
   "version": "3.7.4"
  }
 },
 "nbformat": 4,
 "nbformat_minor": 1
}
