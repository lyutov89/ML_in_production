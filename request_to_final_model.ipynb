{
  "nbformat": 4,
  "nbformat_minor": 0,
  "metadata": {
    "colab": {
      "name": "request_to_final_model.ipynb",
      "provenance": []
    },
    "kernelspec": {
      "name": "python3",
      "display_name": "Python 3"
    },
    "language_info": {
      "name": "python"
    }
  },
  "cells": [
    {
      "cell_type": "code",
      "metadata": {
        "id": "FHNfW68buZum"
      },
      "source": [
        "import requests"
      ],
      "execution_count": 1,
      "outputs": []
    },
    {
      "cell_type": "code",
      "metadata": {
        "colab": {
          "base_uri": "https://localhost:8080/"
        },
        "id": "F8gMDhI0ubbP",
        "outputId": "46c917ac-a777-401e-aa41-be5a32ade1b1"
      },
      "source": [
        "# формируем запрос\n",
        "def send_json(data):\n",
        "    url = 'http://56e0-35-230-164-122.ngrok.io/predict'\n",
        "    headers = {'content-type': 'application/json'}\n",
        "    response = requests.post(url, json=data, headers=headers)\n",
        "    return response\n",
        "\n",
        "# Пример данных\n",
        "data = {\n",
        "    'ID':23,\"Home Ownership\":\"Rent\",\"Annual Income\":0.0,\"Years in current job\":\"2 years\",\"Tax Liens\":0.0,\"Number of Open Accounts\":9.0,\"Years of Credit History\":12.5,\n",
        "    \"Maximum Open Credit\":220968.0,\"Number of Credit Problems\":0.0,\"Months since last delinquent\":70.0,\n",
        "    \"Bankruptcies\":0.0,\"Purpose\":\"debt consolidation\",\"Term\":\"Short Term\",\"Current Loan Amount\":162470.0,\"Current Credit Balance\":105906.0,\"Monthly Debt\":6813.0,\"Credit Score\":585.0\n",
        "}\n",
        "\n",
        "# обращение к серверу\n",
        "if __name__ == '__main__':\n",
        "    response = send_json(data)\n",
        "    print(response.json())"
      ],
      "execution_count": 9,
      "outputs": [
        {
          "output_type": "stream",
          "name": "stdout",
          "text": [
            "{'Credit Default': 1, 'Credit Default_probability_1': 0.6811706334102141, 'ID': 23}\n"
          ]
        }
      ]
    },
    {
      "cell_type": "code",
      "metadata": {
        "colab": {
          "base_uri": "https://localhost:8080/"
        },
        "id": "QAuc173euhXq",
        "outputId": "47cf8dc1-edf1-4215-e8e5-12b7b99075de"
      },
      "source": [
        "# Пример данных\n",
        "data = {\n",
        "    'ID':23,\"Home Ownership\":\"Rent\",\"Annual Income\":0.0,\"Years in current job\":\"2 years\",\"Tax Liens\":0.0,\"Number of Open Accounts\":9.0,\"Years of Credit History\":12.5,\n",
        "    \"Maximum Open Credit\":220968.0,\"Number of Credit Problems\":0.0,\"Months since last delinquent\":70.0,\n",
        "    \"Bankruptcies\":0.0,\"Purpose\":\"debt consolidation\",\"Term\":\"Short Term\",\"Current Loan Amount\":162470.0,\"Current Credit Balance\":105906.0,\"Monthly Debt\":6813.0,\"Credit Score\":585.0\n",
        "}\n",
        "\n",
        "# обращение к серверу\n",
        "if __name__ == '__main__':\n",
        "    response = send_json(data)\n",
        "    print(response.json())"
      ],
      "execution_count": 10,
      "outputs": [
        {
          "output_type": "stream",
          "name": "stdout",
          "text": [
            "{'Credit Default': 1, 'Credit Default_probability_1': 0.6811706334102141, 'ID': 23}\n"
          ]
        }
      ]
    },
    {
      "cell_type": "code",
      "metadata": {
        "colab": {
          "base_uri": "https://localhost:8080/"
        },
        "id": "v7TYaXGTuhov",
        "outputId": "fbe85a22-dda2-4a58-e811-19847ff69df9"
      },
      "source": [
        "# Пример данных\n",
        "data2 = {'ID':2,\"Home Ownership\":\"Home Mortgage\",\"Years in current job\":\"10+ years\",\"Tax Liens\":0.0,\n",
        "       \"Number of Open Accounts\":16.0,\"Years of Credit History\":17.0,\"Maximum Open Credit\":456302.0,\n",
        "       \"Number of Credit Problems\":0.0,\"Months since last delinquent\":70.0,\"Purpose\":\"debt consolidation\",\n",
        "       \"Term\":\"Short Term\",\"Current Loan Amount\":217382.0,\"Current Credit Balance\":213199.0,\"Monthly Debt\":27559.0}\n",
        "\n",
        "# обращение к серверу\n",
        "if __name__ == '__main__':\n",
        "    response = send_json(data2)\n",
        "    print(response.json())"
      ],
      "execution_count": 11,
      "outputs": [
        {
          "output_type": "stream",
          "name": "stdout",
          "text": [
            "{'Credit Default': 1, 'Credit Default_probability_1': 0.551833407209088, 'ID': 2}\n"
          ]
        }
      ]
    },
    {
      "cell_type": "code",
      "metadata": {
        "colab": {
          "base_uri": "https://localhost:8080/"
        },
        "id": "JRa0_bWtuhrR",
        "outputId": "e9fc708c-2fb1-4b20-e956-de60661bba35"
      },
      "source": [
        "data3 = {'ID':3,\"Home Ownership\":\"Home Mortgage\",\"Annual Income\":1152540.0,\"Years in current job\":\"2 years\",\"Tax Liens\":0.0,\n",
        " \"Number of Open Accounts\":10.0,\"Years of Credit History\":13.7,\"Maximum Open Credit\":204600.0,\"Number of Credit Problems\":0.0,\n",
        " \"Months since last delinquent\":0.0,\"Bankruptcies\":0.0,\"Purpose\":\"debt consolidation\",\"Term\":\"Short Term\",\n",
        " \"Current Loan Amount\":200178.0,\"Current Credit Balance\":146490.0,\"Monthly Debt\":18729.0,\"Credit Score\":7260.0}\n",
        "\n",
        "# обращение к серверу\n",
        "if __name__ == '__main__':\n",
        "    response = send_json(data3)\n",
        "    print(response.json())"
      ],
      "execution_count": 12,
      "outputs": [
        {
          "output_type": "stream",
          "name": "stdout",
          "text": [
            "{'Credit Default': 0, 'Credit Default_probability_1': 0.49737554033553916, 'ID': 3}\n"
          ]
        }
      ]
    }
  ]
}